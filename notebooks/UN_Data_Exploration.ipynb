{
 "cells": [
  {
   "cell_type": "code",
   "execution_count": 160,
   "id": "70fc6f43-b49c-462a-8b1f-6d1440938301",
   "metadata": {},
   "outputs": [],
   "source": [
    "import pandas as pd\n",
    "import numpy as np\n",
    "import matplotlib.pyplot as plt\n",
    "import seaborn as sns"
   ]
  },
  {
   "cell_type": "code",
   "execution_count": 161,
   "id": "c1cafd01-f079-456f-9f5d-27906aa0405c",
   "metadata": {},
   "outputs": [],
   "source": [
    "gdp_df = pd.read_csv('../data/gdp_per_capita.csv')"
   ]
  },
  {
   "cell_type": "code",
   "execution_count": 162,
   "id": "e9cc9ebd-3350-4942-9841-efc3f719844d",
   "metadata": {},
   "outputs": [
    {
     "data": {
      "text/html": [
       "<div>\n",
       "<style scoped>\n",
       "    .dataframe tbody tr th:only-of-type {\n",
       "        vertical-align: middle;\n",
       "    }\n",
       "\n",
       "    .dataframe tbody tr th {\n",
       "        vertical-align: top;\n",
       "    }\n",
       "\n",
       "    .dataframe thead th {\n",
       "        text-align: right;\n",
       "    }\n",
       "</style>\n",
       "<table border=\"1\" class=\"dataframe\">\n",
       "  <thead>\n",
       "    <tr style=\"text-align: right;\">\n",
       "      <th></th>\n",
       "      <th>Country or Area</th>\n",
       "      <th>Year</th>\n",
       "      <th>Value</th>\n",
       "      <th>Value Footnotes</th>\n",
       "    </tr>\n",
       "  </thead>\n",
       "  <tbody>\n",
       "    <tr>\n",
       "      <th>0</th>\n",
       "      <td>Afghanistan</td>\n",
       "      <td>2019</td>\n",
       "      <td>2065.036398</td>\n",
       "      <td>NaN</td>\n",
       "    </tr>\n",
       "    <tr>\n",
       "      <th>1</th>\n",
       "      <td>Afghanistan</td>\n",
       "      <td>2018</td>\n",
       "      <td>2033.779002</td>\n",
       "      <td>NaN</td>\n",
       "    </tr>\n",
       "    <tr>\n",
       "      <th>2</th>\n",
       "      <td>Afghanistan</td>\n",
       "      <td>2017</td>\n",
       "      <td>2058.383832</td>\n",
       "      <td>NaN</td>\n",
       "    </tr>\n",
       "    <tr>\n",
       "      <th>3</th>\n",
       "      <td>Afghanistan</td>\n",
       "      <td>2016</td>\n",
       "      <td>2057.062164</td>\n",
       "      <td>NaN</td>\n",
       "    </tr>\n",
       "    <tr>\n",
       "      <th>4</th>\n",
       "      <td>Afghanistan</td>\n",
       "      <td>2015</td>\n",
       "      <td>2068.265904</td>\n",
       "      <td>NaN</td>\n",
       "    </tr>\n",
       "    <tr>\n",
       "      <th>5</th>\n",
       "      <td>Afghanistan</td>\n",
       "      <td>2014</td>\n",
       "      <td>2102.385234</td>\n",
       "      <td>NaN</td>\n",
       "    </tr>\n",
       "    <tr>\n",
       "      <th>6</th>\n",
       "      <td>Afghanistan</td>\n",
       "      <td>2013</td>\n",
       "      <td>2116.465454</td>\n",
       "      <td>NaN</td>\n",
       "    </tr>\n",
       "    <tr>\n",
       "      <th>7</th>\n",
       "      <td>Afghanistan</td>\n",
       "      <td>2012</td>\n",
       "      <td>2075.491747</td>\n",
       "      <td>NaN</td>\n",
       "    </tr>\n",
       "    <tr>\n",
       "      <th>8</th>\n",
       "      <td>Afghanistan</td>\n",
       "      <td>2011</td>\n",
       "      <td>1904.559799</td>\n",
       "      <td>NaN</td>\n",
       "    </tr>\n",
       "    <tr>\n",
       "      <th>9</th>\n",
       "      <td>Afghanistan</td>\n",
       "      <td>2010</td>\n",
       "      <td>1957.029338</td>\n",
       "      <td>NaN</td>\n",
       "    </tr>\n",
       "  </tbody>\n",
       "</table>\n",
       "</div>"
      ],
      "text/plain": [
       "  Country or Area  Year        Value  Value Footnotes\n",
       "0     Afghanistan  2019  2065.036398              NaN\n",
       "1     Afghanistan  2018  2033.779002              NaN\n",
       "2     Afghanistan  2017  2058.383832              NaN\n",
       "3     Afghanistan  2016  2057.062164              NaN\n",
       "4     Afghanistan  2015  2068.265904              NaN\n",
       "5     Afghanistan  2014  2102.385234              NaN\n",
       "6     Afghanistan  2013  2116.465454              NaN\n",
       "7     Afghanistan  2012  2075.491747              NaN\n",
       "8     Afghanistan  2011  1904.559799              NaN\n",
       "9     Afghanistan  2010  1957.029338              NaN"
      ]
     },
     "execution_count": 162,
     "metadata": {},
     "output_type": "execute_result"
    }
   ],
   "source": [
    "gdp_df.head(10)"
   ]
  },
  {
   "cell_type": "code",
   "execution_count": 163,
   "id": "5774e9d6-2790-4921-95b5-f1f8b3f83d56",
   "metadata": {},
   "outputs": [
    {
     "data": {
      "text/html": [
       "<div>\n",
       "<style scoped>\n",
       "    .dataframe tbody tr th:only-of-type {\n",
       "        vertical-align: middle;\n",
       "    }\n",
       "\n",
       "    .dataframe tbody tr th {\n",
       "        vertical-align: top;\n",
       "    }\n",
       "\n",
       "    .dataframe thead th {\n",
       "        text-align: right;\n",
       "    }\n",
       "</style>\n",
       "<table border=\"1\" class=\"dataframe\">\n",
       "  <thead>\n",
       "    <tr style=\"text-align: right;\">\n",
       "      <th></th>\n",
       "      <th>Country or Area</th>\n",
       "      <th>Year</th>\n",
       "      <th>Value</th>\n",
       "      <th>Value Footnotes</th>\n",
       "    </tr>\n",
       "  </thead>\n",
       "  <tbody>\n",
       "    <tr>\n",
       "      <th>6865</th>\n",
       "      <td>Zimbabwe</td>\n",
       "      <td>1992</td>\n",
       "      <td>3054.889178</td>\n",
       "      <td>NaN</td>\n",
       "    </tr>\n",
       "    <tr>\n",
       "      <th>6866</th>\n",
       "      <td>Zimbabwe</td>\n",
       "      <td>1991</td>\n",
       "      <td>3426.598094</td>\n",
       "      <td>NaN</td>\n",
       "    </tr>\n",
       "    <tr>\n",
       "      <th>6867</th>\n",
       "      <td>Zimbabwe</td>\n",
       "      <td>1990</td>\n",
       "      <td>3324.348171</td>\n",
       "      <td>NaN</td>\n",
       "    </tr>\n",
       "    <tr>\n",
       "      <th>6868</th>\n",
       "      <td>footnoteSeqID</td>\n",
       "      <td>Footnote</td>\n",
       "      <td>NaN</td>\n",
       "      <td>NaN</td>\n",
       "    </tr>\n",
       "    <tr>\n",
       "      <th>6869</th>\n",
       "      <td>2</td>\n",
       "      <td>Excludes South Sudan after July 9, 2011.</td>\n",
       "      <td>NaN</td>\n",
       "      <td>NaN</td>\n",
       "    </tr>\n",
       "  </tbody>\n",
       "</table>\n",
       "</div>"
      ],
      "text/plain": [
       "     Country or Area                                      Year        Value  \\\n",
       "6865        Zimbabwe                                      1992  3054.889178   \n",
       "6866        Zimbabwe                                      1991  3426.598094   \n",
       "6867        Zimbabwe                                      1990  3324.348171   \n",
       "6868   footnoteSeqID                                  Footnote          NaN   \n",
       "6869               2  Excludes South Sudan after July 9, 2011.          NaN   \n",
       "\n",
       "      Value Footnotes  \n",
       "6865              NaN  \n",
       "6866              NaN  \n",
       "6867              NaN  \n",
       "6868              NaN  \n",
       "6869              NaN  "
      ]
     },
     "execution_count": 163,
     "metadata": {},
     "output_type": "execute_result"
    }
   ],
   "source": [
    "gdp_df.tail(5)"
   ]
  },
  {
   "cell_type": "code",
   "execution_count": 164,
   "id": "ec4fd8fa-b409-43dc-92fd-fc89369a3f19",
   "metadata": {},
   "outputs": [],
   "source": [
    "gdp_df = gdp_df[:-2]"
   ]
  },
  {
   "cell_type": "code",
   "execution_count": 165,
   "id": "834ebb07-b0b1-41dd-9054-5353f25b0701",
   "metadata": {},
   "outputs": [
    {
     "data": {
      "text/html": [
       "<div>\n",
       "<style scoped>\n",
       "    .dataframe tbody tr th:only-of-type {\n",
       "        vertical-align: middle;\n",
       "    }\n",
       "\n",
       "    .dataframe tbody tr th {\n",
       "        vertical-align: top;\n",
       "    }\n",
       "\n",
       "    .dataframe thead th {\n",
       "        text-align: right;\n",
       "    }\n",
       "</style>\n",
       "<table border=\"1\" class=\"dataframe\">\n",
       "  <thead>\n",
       "    <tr style=\"text-align: right;\">\n",
       "      <th></th>\n",
       "      <th>Country or Area</th>\n",
       "      <th>Year</th>\n",
       "      <th>Value</th>\n",
       "      <th>Value Footnotes</th>\n",
       "    </tr>\n",
       "  </thead>\n",
       "  <tbody>\n",
       "    <tr>\n",
       "      <th>6863</th>\n",
       "      <td>Zimbabwe</td>\n",
       "      <td>1994</td>\n",
       "      <td>3263.934978</td>\n",
       "      <td>NaN</td>\n",
       "    </tr>\n",
       "    <tr>\n",
       "      <th>6864</th>\n",
       "      <td>Zimbabwe</td>\n",
       "      <td>1993</td>\n",
       "      <td>3033.504852</td>\n",
       "      <td>NaN</td>\n",
       "    </tr>\n",
       "    <tr>\n",
       "      <th>6865</th>\n",
       "      <td>Zimbabwe</td>\n",
       "      <td>1992</td>\n",
       "      <td>3054.889178</td>\n",
       "      <td>NaN</td>\n",
       "    </tr>\n",
       "    <tr>\n",
       "      <th>6866</th>\n",
       "      <td>Zimbabwe</td>\n",
       "      <td>1991</td>\n",
       "      <td>3426.598094</td>\n",
       "      <td>NaN</td>\n",
       "    </tr>\n",
       "    <tr>\n",
       "      <th>6867</th>\n",
       "      <td>Zimbabwe</td>\n",
       "      <td>1990</td>\n",
       "      <td>3324.348171</td>\n",
       "      <td>NaN</td>\n",
       "    </tr>\n",
       "  </tbody>\n",
       "</table>\n",
       "</div>"
      ],
      "text/plain": [
       "     Country or Area  Year        Value  Value Footnotes\n",
       "6863        Zimbabwe  1994  3263.934978              NaN\n",
       "6864        Zimbabwe  1993  3033.504852              NaN\n",
       "6865        Zimbabwe  1992  3054.889178              NaN\n",
       "6866        Zimbabwe  1991  3426.598094              NaN\n",
       "6867        Zimbabwe  1990  3324.348171              NaN"
      ]
     },
     "execution_count": 165,
     "metadata": {},
     "output_type": "execute_result"
    }
   ],
   "source": [
    "gdp_df.tail(5)"
   ]
  },
  {
   "cell_type": "code",
   "execution_count": 166,
   "id": "edd2f58d-b687-4f5d-bdb1-d54f57597dd2",
   "metadata": {},
   "outputs": [],
   "source": [
    "#5. Drop the 'Value Footnotes' column, rename columns. \n",
    "gdp_df = gdp_df.drop('Value Footnotes', axis = 1)\n",
    "gdp_df = gdp_df.rename(columns ={'Country or Area':'Country', 'Value': 'GDP_Per_Capita'})"
   ]
  },
  {
   "cell_type": "markdown",
   "id": "b6a0396c",
   "metadata": {},
   "source": [
    "6. How many rows and columns does gdp_df have? What are the data types of its columns? If any of the columns are not the expected types, figure out why and fix it."
   ]
  },
  {
   "cell_type": "code",
   "execution_count": 167,
   "id": "289ddae2-ac00-4dcd-87fc-b7de5810b2c7",
   "metadata": {},
   "outputs": [
    {
     "data": {
      "text/plain": [
       "(6868, 3)"
      ]
     },
     "execution_count": 167,
     "metadata": {},
     "output_type": "execute_result"
    }
   ],
   "source": [
    "#6. How many rows and columns does gdp_df have?\n",
    "gdp_df.shape"
   ]
  },
  {
   "cell_type": "markdown",
   "id": "e1ac3200",
   "metadata": {},
   "source": [
    "gdp has 6,868 rows and 3 columns"
   ]
  },
  {
   "cell_type": "code",
   "execution_count": 168,
   "id": "b798172a-96eb-4016-a5ec-ec5f811888f3",
   "metadata": {},
   "outputs": [
    {
     "data": {
      "text/plain": [
       "Country            object\n",
       "Year               object\n",
       "GDP_Per_Capita    float64\n",
       "dtype: object"
      ]
     },
     "execution_count": 168,
     "metadata": {},
     "output_type": "execute_result"
    }
   ],
   "source": [
    "#What are the data types of its columns?\n",
    "gdp_df.dtypes"
   ]
  },
  {
   "cell_type": "code",
   "execution_count": 169,
   "id": "3e727ce2-93c0-4f2a-80e0-ec0491365f42",
   "metadata": {},
   "outputs": [
    {
     "data": {
      "text/plain": [
       "Country            string\n",
       "Year                int32\n",
       "GDP_Per_Capita    float64\n",
       "dtype: object"
      ]
     },
     "execution_count": 169,
     "metadata": {},
     "output_type": "execute_result"
    }
   ],
   "source": [
    "#Change data types of columns\n",
    "gdp_df = gdp_df.astype({\"Country\":'string', \"Year\": int})\n",
    "\n",
    "gdp_df.dtypes"
   ]
  },
  {
   "cell_type": "code",
   "execution_count": 170,
   "id": "7cb90a90",
   "metadata": {},
   "outputs": [
    {
     "data": {
      "text/plain": [
       "count    6868.000000\n",
       "mean     2004.829354\n",
       "std         8.573176\n",
       "min      1990.000000\n",
       "25%      1998.000000\n",
       "50%      2005.000000\n",
       "75%      2012.000000\n",
       "max      2019.000000\n",
       "Name: Year, dtype: float64"
      ]
     },
     "execution_count": 170,
     "metadata": {},
     "output_type": "execute_result"
    }
   ],
   "source": [
    "#7. Which years are represented in this dataset? Take a look at the number of observations per year. What do you notice?\n",
    "gdp_df['Year'].describe()"
   ]
  },
  {
   "cell_type": "markdown",
   "id": "5ddef585",
   "metadata": {},
   "source": [
    "The years represented in the dataset are 1990 - 2019. "
   ]
  },
  {
   "cell_type": "code",
   "execution_count": 171,
   "id": "30e23e9a",
   "metadata": {},
   "outputs": [
    {
     "data": {
      "image/png": "[encoded data removed]",
      "text/plain": [
       "<Figure size 432x288 with 1 Axes>"
      ]
     },
     "metadata": {
      "needs_background": "light"
     },
     "output_type": "display_data"
    }
   ],
   "source": [
    "#Number of observations per year\n",
    "\n",
    "gdp_df['Year'].plot(kind = 'hist', bins = 30, grid = True)\n",
    "plt.xlabel('Year')\n",
    "plt.ylabel('Number of Observations');"
   ]
  },
  {
   "cell_type": "markdown",
   "id": "c0f1e8c7",
   "metadata": {},
   "source": [
    "The histogram shows the number of observations has increased since 1990. "
   ]
  },
  {
   "cell_type": "code",
   "execution_count": 172,
   "id": "9d97bcc8",
   "metadata": {},
   "outputs": [
    {
     "data": {
      "text/plain": [
       "238"
      ]
     },
     "execution_count": 172,
     "metadata": {},
     "output_type": "execute_result"
    }
   ],
   "source": [
    "#8. How many countries are represented in the dataset?\n",
    "gdp_df['Country'].nunique()"
   ]
  },
  {
   "cell_type": "code",
   "execution_count": 173,
   "id": "bb5bbccd",
   "metadata": {},
   "outputs": [
    {
     "data": {
      "text/plain": [
       "Country\n",
       "Djibouti                      7\n",
       "Turks and Caicos Islands      9\n",
       "Sint Maarten (Dutch part)    10\n",
       "Cayman Islands               13\n",
       "Nauru                        16\n",
       "                             ..\n",
       "Honduras                     30\n",
       "Hong Kong SAR, China         30\n",
       "IBRD only                    30\n",
       "Greece                       30\n",
       "Zimbabwe                     30\n",
       "Name: Country, Length: 238, dtype: int64"
      ]
     },
     "execution_count": 173,
     "metadata": {},
     "output_type": "execute_result"
    }
   ],
   "source": [
    "#Which countries are least represented in the dataset?\n",
    "gdp_df.groupby(['Country'])['Country'].count().sort_values()"
   ]
  },
  {
   "cell_type": "markdown",
   "id": "2bb2eefd",
   "metadata": {},
   "source": [
    "There are 238 countries represented in the dataset. The countries least represented are Djibouti, Turks and Caicos Islands. They may have few observations because of lack of reporting by the countries."
   ]
  },
  {
   "cell_type": "code",
   "execution_count": 174,
   "id": "972e044d",
   "metadata": {
    "scrolled": true
   },
   "outputs": [
    {
     "data": {
      "text/plain": [
       "Pacific island small states    30\n",
       "Kyrgyz Republic                30\n",
       "Indonesia                      30\n",
       "Comoros                        30\n",
       "Ecuador                        30\n",
       "                               ..\n",
       "Nauru                          16\n",
       "Cayman Islands                 13\n",
       "Sint Maarten (Dutch part)      10\n",
       "Turks and Caicos Islands        9\n",
       "Djibouti                        7\n",
       "Name: Country, Length: 238, dtype: Int64"
      ]
     },
     "execution_count": 174,
     "metadata": {},
     "output_type": "execute_result"
    }
   ],
   "source": [
    "gdp_df['Country'].value_counts()"
   ]
  },
  {
   "cell_type": "markdown",
   "id": "0520f9ca",
   "metadata": {},
   "source": [
    "9. Create a new dataframe by subsetting gdp_df to just the year 2014. Call this new dataframe gdp_2014."
   ]
  },
  {
   "cell_type": "code",
   "execution_count": 175,
   "id": "0c3ac6c0",
   "metadata": {},
   "outputs": [],
   "source": [
    "#9. Create new datafrae gdp_2014 by subsetting gdp_df to the year 2014. \n",
    "gdp_2014 = gdp_df[gdp_df['Year'] == 2014]"
   ]
  },
  {
   "cell_type": "code",
   "execution_count": 17,
   "id": "507ea571",
   "metadata": {},
   "outputs": [
    {
     "data": {
      "text/plain": [
       "count       238.000000\n",
       "mean      19766.710348\n",
       "std       20983.869623\n",
       "min         822.610458\n",
       "25%        4753.110934\n",
       "50%       12209.385755\n",
       "75%       26803.610474\n",
       "max      156514.133850\n",
       "Name: GDP_Per_Capita, dtype: float64"
      ]
     },
     "execution_count": 17,
     "metadata": {},
     "output_type": "execute_result"
    }
   ],
   "source": [
    "#10. Use .describe() to find the summary statistics for GDP per capita in 2014\n",
    "gdp_2014['GDP_Per_Capita'].describe()"
   ]
  },
  {
   "cell_type": "code",
   "execution_count": 18,
   "id": "46863c94",
   "metadata": {},
   "outputs": [
    {
     "data": {
      "image/png": "[encoded data removed]",
      "text/plain": [
       "<Figure size 432x288 with 1 Axes>"
      ]
     },
     "metadata": {
      "needs_background": "light"
     },
     "output_type": "display_data"
    }
   ],
   "source": [
    "#11. Create a histogram of GDP Per Capita numbers for 2014.\n",
    "plt.hist(gdp_2014['GDP_Per_Capita'], bins = 100);"
   ]
  },
  {
   "cell_type": "markdown",
   "id": "0cb953d7",
   "metadata": {},
   "source": [
    "The distribution is skewed right. "
   ]
  },
  {
   "cell_type": "markdown",
   "id": "57aa8056",
   "metadata": {},
   "source": [
    "12. Find the top 5 counties and bottom 5 countries by GDP per capita in 2014."
   ]
  },
  {
   "cell_type": "code",
   "execution_count": 194,
   "id": "b89ea5ce",
   "metadata": {},
   "outputs": [
    {
     "data": {
      "text/html": [
       "<div>\n",
       "<style scoped>\n",
       "    .dataframe tbody tr th:only-of-type {\n",
       "        vertical-align: middle;\n",
       "    }\n",
       "\n",
       "    .dataframe tbody tr th {\n",
       "        vertical-align: top;\n",
       "    }\n",
       "\n",
       "    .dataframe thead th {\n",
       "        text-align: right;\n",
       "    }\n",
       "</style>\n",
       "<table border=\"1\" class=\"dataframe\">\n",
       "  <thead>\n",
       "    <tr style=\"text-align: right;\">\n",
       "      <th></th>\n",
       "      <th>Country</th>\n",
       "      <th>GDP_Per_Capita</th>\n",
       "    </tr>\n",
       "  </thead>\n",
       "  <tbody>\n",
       "    <tr>\n",
       "      <th>0</th>\n",
       "      <td>Central African Republic</td>\n",
       "      <td>822.610458</td>\n",
       "    </tr>\n",
       "    <tr>\n",
       "      <th>1</th>\n",
       "      <td>Burundi</td>\n",
       "      <td>886.235777</td>\n",
       "    </tr>\n",
       "    <tr>\n",
       "      <th>2</th>\n",
       "      <td>Malawi</td>\n",
       "      <td>1027.208496</td>\n",
       "    </tr>\n",
       "    <tr>\n",
       "      <th>3</th>\n",
       "      <td>Dem. Rep. Congo</td>\n",
       "      <td>1029.790785</td>\n",
       "    </tr>\n",
       "    <tr>\n",
       "      <th>4</th>\n",
       "      <td>Niger</td>\n",
       "      <td>1127.615541</td>\n",
       "    </tr>\n",
       "  </tbody>\n",
       "</table>\n",
       "</div>"
      ],
      "text/plain": [
       "                    Country  GDP_Per_Capita\n",
       "0  Central African Republic      822.610458\n",
       "1                   Burundi      886.235777\n",
       "2                    Malawi     1027.208496\n",
       "3           Dem. Rep. Congo     1029.790785\n",
       "4                     Niger     1127.615541"
      ]
     },
     "execution_count": 194,
     "metadata": {},
     "output_type": "execute_result"
    }
   ],
   "source": [
    "#12. Find the top 5 and bottom 5 countries by GDP per capita in 2014.\n",
    "#Bottom 5 countries by GDP_Per_Capita\n",
    "gdp_2014.sort_values('GDP_Per_Capita').reset_index()[['Country', 'GDP_Per_Capita']][:5]"
   ]
  },
  {
   "cell_type": "code",
   "execution_count": 196,
   "id": "246e54d7",
   "metadata": {},
   "outputs": [
    {
     "data": {
      "text/html": [
       "<div>\n",
       "<style scoped>\n",
       "    .dataframe tbody tr th:only-of-type {\n",
       "        vertical-align: middle;\n",
       "    }\n",
       "\n",
       "    .dataframe tbody tr th {\n",
       "        vertical-align: top;\n",
       "    }\n",
       "\n",
       "    .dataframe thead th {\n",
       "        text-align: right;\n",
       "    }\n",
       "</style>\n",
       "<table border=\"1\" class=\"dataframe\">\n",
       "  <thead>\n",
       "    <tr style=\"text-align: right;\">\n",
       "      <th></th>\n",
       "      <th>Country</th>\n",
       "      <th>GDP_Per_Capita</th>\n",
       "    </tr>\n",
       "  </thead>\n",
       "  <tbody>\n",
       "    <tr>\n",
       "      <th>0</th>\n",
       "      <td>Macao SAR, China</td>\n",
       "      <td>156514.133850</td>\n",
       "    </tr>\n",
       "    <tr>\n",
       "      <th>1</th>\n",
       "      <td>Luxembourg</td>\n",
       "      <td>108760.916030</td>\n",
       "    </tr>\n",
       "    <tr>\n",
       "      <th>2</th>\n",
       "      <td>Qatar</td>\n",
       "      <td>95578.416973</td>\n",
       "    </tr>\n",
       "    <tr>\n",
       "      <th>3</th>\n",
       "      <td>Singapore</td>\n",
       "      <td>87808.663157</td>\n",
       "    </tr>\n",
       "    <tr>\n",
       "      <th>4</th>\n",
       "      <td>Bermuda</td>\n",
       "      <td>77361.104881</td>\n",
       "    </tr>\n",
       "  </tbody>\n",
       "</table>\n",
       "</div>"
      ],
      "text/plain": [
       "            Country  GDP_Per_Capita\n",
       "0  Macao SAR, China   156514.133850\n",
       "1        Luxembourg   108760.916030\n",
       "2             Qatar    95578.416973\n",
       "3         Singapore    87808.663157\n",
       "4           Bermuda    77361.104881"
      ]
     },
     "execution_count": 196,
     "metadata": {},
     "output_type": "execute_result"
    }
   ],
   "source": [
    "#Top 5 countries by GDP_Per_Capita\n",
    "gdp_2014.sort_values('GDP_Per_Capita', ascending=False).reset_index()[['Country', 'GDP_Per_Capita']][:5]"
   ]
  },
  {
   "cell_type": "code",
   "execution_count": 199,
   "id": "ba8c6e56",
   "metadata": {},
   "outputs": [
    {
     "data": {
      "text/plain": [
       "(207, 28)"
      ]
     },
     "execution_count": 199,
     "metadata": {},
     "output_type": "execute_result"
    }
   ],
   "source": [
    "#13 Pivot gdp_df for 1990-2017\n",
    "\n",
    "#Keep only years 1990-2017\n",
    "gdp_90_17 = gdp_df[(gdp_df['Year'] >= 1990) & (gdp_df['Year'] <=2017)]\n",
    "\n",
    "\n",
    "#Pivot: each row is 'Country', each column corresponds to a year, values in the table give GDP_Per_Capita.\n",
    "gdp_pivoted = gdp_90_17.pivot(index = 'Country', columns = 'Year', values = 'GDP_Per_Capita')\n",
    "\n",
    "\n",
    "#Drop missing rows\n",
    "gdp_pivoted = gdp_pivoted.dropna()\n",
    "gdp_pivoted.shape"
   ]
  },
  {
   "cell_type": "code",
   "execution_count": 200,
   "id": "b1130c16",
   "metadata": {},
   "outputs": [
    {
     "data": {
      "text/html": [
       "<div>\n",
       "<style scoped>\n",
       "    .dataframe tbody tr th:only-of-type {\n",
       "        vertical-align: middle;\n",
       "    }\n",
       "\n",
       "    .dataframe tbody tr th {\n",
       "        vertical-align: top;\n",
       "    }\n",
       "\n",
       "    .dataframe thead th {\n",
       "        text-align: right;\n",
       "    }\n",
       "</style>\n",
       "<table border=\"1\" class=\"dataframe\">\n",
       "  <thead>\n",
       "    <tr style=\"text-align: right;\">\n",
       "      <th>Year</th>\n",
       "      <th>1990</th>\n",
       "      <th>1991</th>\n",
       "      <th>1992</th>\n",
       "      <th>1993</th>\n",
       "      <th>1994</th>\n",
       "      <th>1995</th>\n",
       "      <th>1996</th>\n",
       "      <th>1997</th>\n",
       "      <th>1998</th>\n",
       "      <th>1999</th>\n",
       "      <th>...</th>\n",
       "      <th>2009</th>\n",
       "      <th>2010</th>\n",
       "      <th>2011</th>\n",
       "      <th>2012</th>\n",
       "      <th>2013</th>\n",
       "      <th>2014</th>\n",
       "      <th>2015</th>\n",
       "      <th>2016</th>\n",
       "      <th>2017</th>\n",
       "      <th>Percent_Change</th>\n",
       "    </tr>\n",
       "    <tr>\n",
       "      <th>Country</th>\n",
       "      <th></th>\n",
       "      <th></th>\n",
       "      <th></th>\n",
       "      <th></th>\n",
       "      <th></th>\n",
       "      <th></th>\n",
       "      <th></th>\n",
       "      <th></th>\n",
       "      <th></th>\n",
       "      <th></th>\n",
       "      <th></th>\n",
       "      <th></th>\n",
       "      <th></th>\n",
       "      <th></th>\n",
       "      <th></th>\n",
       "      <th></th>\n",
       "      <th></th>\n",
       "      <th></th>\n",
       "      <th></th>\n",
       "      <th></th>\n",
       "      <th></th>\n",
       "    </tr>\n",
       "  </thead>\n",
       "  <tbody>\n",
       "    <tr>\n",
       "      <th>Albania</th>\n",
       "      <td>4842.734635</td>\n",
       "      <td>3507.746654</td>\n",
       "      <td>3275.444336</td>\n",
       "      <td>3610.520633</td>\n",
       "      <td>3934.375728</td>\n",
       "      <td>4486.152092</td>\n",
       "      <td>4924.905836</td>\n",
       "      <td>4414.631173</td>\n",
       "      <td>4834.778357</td>\n",
       "      <td>5492.654212</td>\n",
       "      <td>...</td>\n",
       "      <td>10346.864199</td>\n",
       "      <td>10783.816180</td>\n",
       "      <td>11088.087801</td>\n",
       "      <td>11263.851342</td>\n",
       "      <td>11397.576226</td>\n",
       "      <td>11623.866679</td>\n",
       "      <td>11916.422315</td>\n",
       "      <td>12331.127754</td>\n",
       "      <td>12811.759436</td>\n",
       "      <td>164.556297</td>\n",
       "    </tr>\n",
       "    <tr>\n",
       "      <th>Algeria</th>\n",
       "      <td>8746.352901</td>\n",
       "      <td>8431.385028</td>\n",
       "      <td>8383.770248</td>\n",
       "      <td>8027.376688</td>\n",
       "      <td>7792.085182</td>\n",
       "      <td>7935.179841</td>\n",
       "      <td>8116.962721</td>\n",
       "      <td>8074.759953</td>\n",
       "      <td>8360.150339</td>\n",
       "      <td>8506.345679</td>\n",
       "      <td>...</td>\n",
       "      <td>10782.361398</td>\n",
       "      <td>10970.705149</td>\n",
       "      <td>11078.240516</td>\n",
       "      <td>11233.534926</td>\n",
       "      <td>11319.097949</td>\n",
       "      <td>11512.705405</td>\n",
       "      <td>11696.963757</td>\n",
       "      <td>11826.164666</td>\n",
       "      <td>11737.409353</td>\n",
       "      <td>34.197756</td>\n",
       "    </tr>\n",
       "  </tbody>\n",
       "</table>\n",
       "<p>2 rows × 29 columns</p>\n",
       "</div>"
      ],
      "text/plain": [
       "Year            1990         1991         1992         1993         1994  \\\n",
       "Country                                                                    \n",
       "Albania  4842.734635  3507.746654  3275.444336  3610.520633  3934.375728   \n",
       "Algeria  8746.352901  8431.385028  8383.770248  8027.376688  7792.085182   \n",
       "\n",
       "Year            1995         1996         1997         1998         1999  ...  \\\n",
       "Country                                                                   ...   \n",
       "Albania  4486.152092  4924.905836  4414.631173  4834.778357  5492.654212  ...   \n",
       "Algeria  7935.179841  8116.962721  8074.759953  8360.150339  8506.345679  ...   \n",
       "\n",
       "Year             2009          2010          2011          2012          2013  \\\n",
       "Country                                                                         \n",
       "Albania  10346.864199  10783.816180  11088.087801  11263.851342  11397.576226   \n",
       "Algeria  10782.361398  10970.705149  11078.240516  11233.534926  11319.097949   \n",
       "\n",
       "Year             2014          2015          2016          2017  \\\n",
       "Country                                                           \n",
       "Albania  11623.866679  11916.422315  12331.127754  12811.759436   \n",
       "Algeria  11512.705405  11696.963757  11826.164666  11737.409353   \n",
       "\n",
       "Year     Percent_Change  \n",
       "Country                  \n",
       "Albania      164.556297  \n",
       "Algeria       34.197756  \n",
       "\n",
       "[2 rows x 29 columns]"
      ]
     },
     "execution_count": 200,
     "metadata": {},
     "output_type": "execute_result"
    }
   ],
   "source": [
    "#14. Create new column for Percent Change in GDP_Per_Capita 1990-2017.\n",
    "gdp_pivoted['Percent_Change'] = 100*(gdp_pivoted[2017] - gdp_pivoted[1990])/gdp_pivoted[1990]\n",
    "gdp_pivoted.head(2)"
   ]
  },
  {
   "cell_type": "code",
   "execution_count": 202,
   "id": "bf2bce24",
   "metadata": {},
   "outputs": [
    {
     "data": {
      "text/plain": [
       "17"
      ]
     },
     "execution_count": 202,
     "metadata": {},
     "output_type": "execute_result"
    }
   ],
   "source": [
    "#15. How many countries experienced a negative percent change in GDP per capita from 1990 to 2017?\n",
    "len(gdp_pivoted[gdp_pivoted['Percent_Change'] < 0])"
   ]
  },
  {
   "cell_type": "markdown",
   "id": "57d84b80",
   "metadata": {},
   "source": [
    "16. Which country had the highest % change in GDP per capita? Create a line plot showing this country's GDP per capita for all years from 1990 to 2017. Create another showing the country with the second highest % change in GDP. How do the trends in these countries compare?\n",
    "    Bonus: Put both line charts on the same plot."
   ]
  },
  {
   "cell_type": "code",
   "execution_count": 206,
   "id": "1019f4ef",
   "metadata": {},
   "outputs": [
    {
     "data": {
      "text/plain": [
       "'Equatorial Guinea'"
      ]
     },
     "execution_count": 206,
     "metadata": {},
     "output_type": "execute_result"
    }
   ],
   "source": [
    "#Country with highest % change in GDP_Per_Capita\n",
    "top_chg= gdp_pivoted.sort_values('Percent_Change', ascending = False).reset_index()['Country'][0]\n",
    "top_chg"
   ]
  },
  {
   "cell_type": "code",
   "execution_count": 224,
   "id": "e8b69fea",
   "metadata": {},
   "outputs": [
    {
     "data": {
      "image/png": "[encoded data removed]",
      "text/plain": [
       "<Figure size 432x288 with 1 Axes>"
      ]
     },
     "metadata": {
      "needs_background": "light"
     },
     "output_type": "display_data"
    }
   ],
   "source": [
    "#Create line plot for this country\n",
    "gdp_df[gdp_df['Country'] == top_chg].plot(x = 'Year', y = 'GDP_Per_Capita', kind = 'line', color = 'orange');"
   ]
  },
  {
   "cell_type": "code",
   "execution_count": 208,
   "id": "a704b9da",
   "metadata": {},
   "outputs": [
    {
     "data": {
      "text/plain": [
       "'China'"
      ]
     },
     "execution_count": 208,
     "metadata": {},
     "output_type": "execute_result"
    }
   ],
   "source": [
    "#Country with second highest % change in GDP_Per_Capita\n",
    "top_chg_2 = gdp_pivoted.sort_values('Percent_Change', ascending = False).reset_index()['Country'][1]\n",
    "top_chg_2"
   ]
  },
  {
   "cell_type": "code",
   "execution_count": 209,
   "id": "aa94206d",
   "metadata": {},
   "outputs": [
    {
     "data": {
      "image/png": "[encoded data removed]",
      "text/plain": [
       "<Figure size 432x288 with 1 Axes>"
      ]
     },
     "metadata": {
      "needs_background": "light"
     },
     "output_type": "display_data"
    }
   ],
   "source": [
    "#Create line plot for this country\n",
    "gdp_df[gdp_df['Country'] == top_chg_2].plot(x = 'Year', y = 'GDP_Per_Capita', kind = 'line', );"
   ]
  },
  {
   "cell_type": "code",
   "execution_count": 216,
   "id": "027b8687",
   "metadata": {},
   "outputs": [],
   "source": [
    "#Put both line charts on the same plot\n",
    "#Subset df\n",
    "highest2 = gdp_pivoted.sort_values('Percent_Change', ascending = False).reset_index()['Country'][:2]\n",
    "gdp_df_ss = gdp_df[gdp_df['Country'].isin(highest2)]"
   ]
  },
  {
   "cell_type": "code",
   "execution_count": 222,
   "id": "d8c8899c",
   "metadata": {},
   "outputs": [
    {
     "data": {
      "image/png": "[encoded data removed]",
      "text/plain": [
       "<Figure size 432x288 with 1 Axes>"
      ]
     },
     "metadata": {
      "needs_background": "light"
     },
     "output_type": "display_data"
    }
   ],
   "source": [
    "sns.lineplot(data = gdp_df_ss, x = 'Year', y = 'GDP_Per_Capita', hue = 'Country');"
   ]
  },
  {
   "cell_type": "markdown",
   "id": "464f0989",
   "metadata": {},
   "source": [
    "17. Read in continents.csv contained in the data folder into a new dataframe called continents. We will be using this dataframe to add a new column to our dataset"
   ]
  },
  {
   "cell_type": "code",
   "execution_count": 226,
   "id": "82ae242d",
   "metadata": {},
   "outputs": [
    {
     "data": {
      "text/html": [
       "<div>\n",
       "<style scoped>\n",
       "    .dataframe tbody tr th:only-of-type {\n",
       "        vertical-align: middle;\n",
       "    }\n",
       "\n",
       "    .dataframe tbody tr th {\n",
       "        vertical-align: top;\n",
       "    }\n",
       "\n",
       "    .dataframe thead th {\n",
       "        text-align: right;\n",
       "    }\n",
       "</style>\n",
       "<table border=\"1\" class=\"dataframe\">\n",
       "  <thead>\n",
       "    <tr style=\"text-align: right;\">\n",
       "      <th></th>\n",
       "      <th>Continent</th>\n",
       "      <th>Country</th>\n",
       "    </tr>\n",
       "  </thead>\n",
       "  <tbody>\n",
       "    <tr>\n",
       "      <th>0</th>\n",
       "      <td>Asia</td>\n",
       "      <td>Afghanistan</td>\n",
       "    </tr>\n",
       "    <tr>\n",
       "      <th>1</th>\n",
       "      <td>Europe</td>\n",
       "      <td>Albania</td>\n",
       "    </tr>\n",
       "  </tbody>\n",
       "</table>\n",
       "</div>"
      ],
      "text/plain": [
       "  Continent      Country\n",
       "0      Asia  Afghanistan\n",
       "1    Europe      Albania"
      ]
     },
     "execution_count": 226,
     "metadata": {},
     "output_type": "execute_result"
    }
   ],
   "source": [
    "#17. Read in continents.csv\n",
    "\n",
    "continents = pd.read_csv('../data/continents.csv')\n",
    "continents.head(2)"
   ]
  },
  {
   "cell_type": "code",
   "execution_count": 229,
   "id": "522e5520",
   "metadata": {},
   "outputs": [
    {
     "data": {
      "text/html": [
       "<div>\n",
       "<style scoped>\n",
       "    .dataframe tbody tr th:only-of-type {\n",
       "        vertical-align: middle;\n",
       "    }\n",
       "\n",
       "    .dataframe tbody tr th {\n",
       "        vertical-align: top;\n",
       "    }\n",
       "\n",
       "    .dataframe thead th {\n",
       "        text-align: right;\n",
       "    }\n",
       "</style>\n",
       "<table border=\"1\" class=\"dataframe\">\n",
       "  <thead>\n",
       "    <tr style=\"text-align: right;\">\n",
       "      <th></th>\n",
       "      <th>Country</th>\n",
       "      <th>Year</th>\n",
       "      <th>GDP_Per_Capita</th>\n",
       "      <th>Continent</th>\n",
       "    </tr>\n",
       "  </thead>\n",
       "  <tbody>\n",
       "    <tr>\n",
       "      <th>0</th>\n",
       "      <td>Afghanistan</td>\n",
       "      <td>2019</td>\n",
       "      <td>2065.036398</td>\n",
       "      <td>Asia</td>\n",
       "    </tr>\n",
       "    <tr>\n",
       "      <th>1</th>\n",
       "      <td>Afghanistan</td>\n",
       "      <td>2018</td>\n",
       "      <td>2033.779002</td>\n",
       "      <td>Asia</td>\n",
       "    </tr>\n",
       "  </tbody>\n",
       "</table>\n",
       "</div>"
      ],
      "text/plain": [
       "       Country  Year  GDP_Per_Capita Continent\n",
       "0  Afghanistan  2019     2065.036398      Asia\n",
       "1  Afghanistan  2018     2033.779002      Asia"
      ]
     },
     "execution_count": 229,
     "metadata": {},
     "output_type": "execute_result"
    }
   ],
   "source": [
    "#18. Merge gdp_df and continents. Keep only the countries that appear in both data frames.\n",
    "gdp_df = pd.merge(gdp_df, continents, how='inner')\n",
    "gdp_df.head(2)"
   ]
  },
  {
   "cell_type": "code",
   "execution_count": 228,
   "id": "7fca3ee3",
   "metadata": {},
   "outputs": [
    {
     "data": {
      "text/plain": [
       "Continent\n",
       "Africa           49\n",
       "Asia             43\n",
       "Europe           45\n",
       "North America    26\n",
       "Oceania          14\n",
       "South America    11\n",
       "Name: Country, dtype: int64"
      ]
     },
     "execution_count": 228,
     "metadata": {},
     "output_type": "execute_result"
    }
   ],
   "source": [
    "#19. Determine the number of countries per continent. \n",
    "gdp_df.groupby('Continent')['Country'].nunique()"
   ]
  },
  {
   "cell_type": "code",
   "execution_count": 230,
   "id": "4c11aa27",
   "metadata": {},
   "outputs": [
    {
     "data": {
      "image/png": "[encoded data removed]",
      "text/plain": [
       "<Figure size 432x288 with 1 Axes>"
      ]
     },
     "metadata": {
      "needs_background": "light"
     },
     "output_type": "display_data"
    }
   ],
   "source": [
    "#Create bar chart for countries per continent. \n",
    "gdp_df.groupby('Continent')['Country'].nunique().plot(kind = 'bar',);"
   ]
  },
  {
   "cell_type": "code",
   "execution_count": 232,
   "id": "1dddb1d2",
   "metadata": {},
   "outputs": [
    {
     "data": {
      "image/png": "[encoded data removed]",
      "text/plain": [
       "<Figure size 432x288 with 1 Axes>"
      ]
     },
     "metadata": {
      "needs_background": "light"
     },
     "output_type": "display_data"
    }
   ],
   "source": [
    "#20. Create a seaborn boxplot showing GDP per capita in 2014 split out by continent. What do you notice?\n",
    "gdp_2014 = gdp_df[gdp_df['Year'] == 2014]\n",
    "sns.boxplot(data=gdp_2014, x = 'GDP_Per_Capita', y = 'Continent');"
   ]
  },
  {
   "cell_type": "markdown",
   "id": "20b70fe4",
   "metadata": {},
   "source": [
    "Asia has a lot of variability in GDP_Per_Capita and has a skewed right distribution with large outliers. "
   ]
  },
  {
   "cell_type": "markdown",
   "id": "95c9da9c",
   "metadata": {},
   "source": [
    "Q21. Download the full csv containing Life expectancy at birth, total (years) from https://data.worldbank.org/indicator/SP.DYN.LE00.IN?name_desc=false. Read this data into a DataFrame named life_expectancy."
   ]
  },
  {
   "cell_type": "code",
   "execution_count": 235,
   "id": "ee883e2e",
   "metadata": {
    "scrolled": true
   },
   "outputs": [
    {
     "data": {
      "text/html": [
       "<div>\n",
       "<style scoped>\n",
       "    .dataframe tbody tr th:only-of-type {\n",
       "        vertical-align: middle;\n",
       "    }\n",
       "\n",
       "    .dataframe tbody tr th {\n",
       "        vertical-align: top;\n",
       "    }\n",
       "\n",
       "    .dataframe thead th {\n",
       "        text-align: right;\n",
       "    }\n",
       "</style>\n",
       "<table border=\"1\" class=\"dataframe\">\n",
       "  <thead>\n",
       "    <tr style=\"text-align: right;\">\n",
       "      <th></th>\n",
       "      <th>Country Name</th>\n",
       "      <th>Country Code</th>\n",
       "      <th>Indicator Name</th>\n",
       "      <th>Indicator Code</th>\n",
       "      <th>1960</th>\n",
       "      <th>1961</th>\n",
       "      <th>1962</th>\n",
       "      <th>1963</th>\n",
       "      <th>1964</th>\n",
       "      <th>1965</th>\n",
       "      <th>...</th>\n",
       "      <th>2013</th>\n",
       "      <th>2014</th>\n",
       "      <th>2015</th>\n",
       "      <th>2016</th>\n",
       "      <th>2017</th>\n",
       "      <th>2018</th>\n",
       "      <th>2019</th>\n",
       "      <th>2020</th>\n",
       "      <th>2021</th>\n",
       "      <th>Unnamed: 66</th>\n",
       "    </tr>\n",
       "  </thead>\n",
       "  <tbody>\n",
       "    <tr>\n",
       "      <th>0</th>\n",
       "      <td>Aruba</td>\n",
       "      <td>ABW</td>\n",
       "      <td>Life expectancy at birth, total (years)</td>\n",
       "      <td>SP.DYN.LE00.IN</td>\n",
       "      <td>65.662000</td>\n",
       "      <td>66.074000</td>\n",
       "      <td>66.44400</td>\n",
       "      <td>66.787000</td>\n",
       "      <td>67.113000</td>\n",
       "      <td>67.435000</td>\n",
       "      <td>...</td>\n",
       "      <td>75.441000</td>\n",
       "      <td>75.583000</td>\n",
       "      <td>75.725000</td>\n",
       "      <td>75.868000</td>\n",
       "      <td>76.010000</td>\n",
       "      <td>76.152000</td>\n",
       "      <td>76.293000</td>\n",
       "      <td>76.434000</td>\n",
       "      <td>NaN</td>\n",
       "      <td>NaN</td>\n",
       "    </tr>\n",
       "    <tr>\n",
       "      <th>1</th>\n",
       "      <td>Africa Eastern and Southern</td>\n",
       "      <td>AFE</td>\n",
       "      <td>Life expectancy at birth, total (years)</td>\n",
       "      <td>SP.DYN.LE00.IN</td>\n",
       "      <td>42.716053</td>\n",
       "      <td>43.166935</td>\n",
       "      <td>43.60399</td>\n",
       "      <td>44.025617</td>\n",
       "      <td>44.432721</td>\n",
       "      <td>44.826919</td>\n",
       "      <td>...</td>\n",
       "      <td>60.953363</td>\n",
       "      <td>61.647367</td>\n",
       "      <td>62.259288</td>\n",
       "      <td>62.787681</td>\n",
       "      <td>63.246264</td>\n",
       "      <td>63.648988</td>\n",
       "      <td>64.005213</td>\n",
       "      <td>64.325702</td>\n",
       "      <td>NaN</td>\n",
       "      <td>NaN</td>\n",
       "    </tr>\n",
       "  </tbody>\n",
       "</table>\n",
       "<p>2 rows × 67 columns</p>\n",
       "</div>"
      ],
      "text/plain": [
       "                  Country Name Country Code  \\\n",
       "0                        Aruba          ABW   \n",
       "1  Africa Eastern and Southern          AFE   \n",
       "\n",
       "                            Indicator Name  Indicator Code       1960  \\\n",
       "0  Life expectancy at birth, total (years)  SP.DYN.LE00.IN  65.662000   \n",
       "1  Life expectancy at birth, total (years)  SP.DYN.LE00.IN  42.716053   \n",
       "\n",
       "        1961      1962       1963       1964       1965  ...       2013  \\\n",
       "0  66.074000  66.44400  66.787000  67.113000  67.435000  ...  75.441000   \n",
       "1  43.166935  43.60399  44.025617  44.432721  44.826919  ...  60.953363   \n",
       "\n",
       "        2014       2015       2016       2017       2018       2019  \\\n",
       "0  75.583000  75.725000  75.868000  76.010000  76.152000  76.293000   \n",
       "1  61.647367  62.259288  62.787681  63.246264  63.648988  64.005213   \n",
       "\n",
       "        2020  2021  Unnamed: 66  \n",
       "0  76.434000   NaN          NaN  \n",
       "1  64.325702   NaN          NaN  \n",
       "\n",
       "[2 rows x 67 columns]"
      ]
     },
     "execution_count": 235,
     "metadata": {},
     "output_type": "execute_result"
    }
   ],
   "source": [
    "life_expectancy = pd.read_csv('../data/API_SP.DYN.LE00.IN_DS2_en_csv_v2_4553490.csv', skiprows = 4,  engine='python')\n",
    "life_expectancy.head(2)"
   ]
  },
  {
   "cell_type": "markdown",
   "id": "9038386d",
   "metadata": {},
   "source": [
    "Q22. Drop the Country Code, Indicator Name, and Indicator Code columns. Then use .melt() to convert your data from wide to long. That is, instead of having one row per country and multiple colums per year, we want to have multiple rows per country and a single column for year. After melting, rename the columns to Country, Year, and Life_Expectancy\n"
   ]
  },
  {
   "cell_type": "code",
   "execution_count": 236,
   "id": "b34e22bb",
   "metadata": {},
   "outputs": [
    {
     "data": {
      "text/html": [
       "<div>\n",
       "<style scoped>\n",
       "    .dataframe tbody tr th:only-of-type {\n",
       "        vertical-align: middle;\n",
       "    }\n",
       "\n",
       "    .dataframe tbody tr th {\n",
       "        vertical-align: top;\n",
       "    }\n",
       "\n",
       "    .dataframe thead th {\n",
       "        text-align: right;\n",
       "    }\n",
       "</style>\n",
       "<table border=\"1\" class=\"dataframe\">\n",
       "  <thead>\n",
       "    <tr style=\"text-align: right;\">\n",
       "      <th></th>\n",
       "      <th>Country</th>\n",
       "      <th>Year</th>\n",
       "      <th>Life Expectancy</th>\n",
       "    </tr>\n",
       "  </thead>\n",
       "  <tbody>\n",
       "    <tr>\n",
       "      <th>0</th>\n",
       "      <td>Aruba</td>\n",
       "      <td>1960</td>\n",
       "      <td>65.662000</td>\n",
       "    </tr>\n",
       "    <tr>\n",
       "      <th>1</th>\n",
       "      <td>Africa Eastern and Southern</td>\n",
       "      <td>1960</td>\n",
       "      <td>42.716053</td>\n",
       "    </tr>\n",
       "  </tbody>\n",
       "</table>\n",
       "</div>"
      ],
      "text/plain": [
       "                       Country  Year  Life Expectancy\n",
       "0                        Aruba  1960        65.662000\n",
       "1  Africa Eastern and Southern  1960        42.716053"
      ]
     },
     "execution_count": 236,
     "metadata": {},
     "output_type": "execute_result"
    }
   ],
   "source": [
    "#Drop columns\n",
    "life_expectancy.drop(['Country Code', 'Indicator Name', 'Indicator Code'], axis=1, inplace=True)\n",
    "\n",
    "#Convert to long format\n",
    "life_expectancy = pd.melt(life_expectancy, id_vars = ['Country Name'])\n",
    "\n",
    "#Rename columns\n",
    "life_expectancy = life_expectancy.rename(columns={'Country Name':'Country', 'variable':'Year', 'value':'Life Expectancy'})\n",
    "\n",
    "life_expectancy.head(2)"
   ]
  },
  {
   "cell_type": "markdown",
   "id": "2ee8a5d5",
   "metadata": {},
   "source": [
    "\n",
    "Q23. What was the first country with a life expectancy to exceed 80?\n"
   ]
  },
  {
   "cell_type": "code",
   "execution_count": 237,
   "id": "c0f546a1",
   "metadata": {},
   "outputs": [
    {
     "data": {
      "text/plain": [
       "'Japan'"
      ]
     },
     "execution_count": 237,
     "metadata": {},
     "output_type": "execute_result"
    }
   ],
   "source": [
    "lf_exp80 = life_expectancy[life_expectancy['Life Expectancy'] > 80].sort_values('Year').reset_index()\n",
    "lf_exp80['Country'][0]"
   ]
  },
  {
   "cell_type": "code",
   "execution_count": 238,
   "id": "a4ea2841",
   "metadata": {},
   "outputs": [
    {
     "data": {
      "text/html": [
       "<div>\n",
       "<style scoped>\n",
       "    .dataframe tbody tr th:only-of-type {\n",
       "        vertical-align: middle;\n",
       "    }\n",
       "\n",
       "    .dataframe tbody tr th {\n",
       "        vertical-align: top;\n",
       "    }\n",
       "\n",
       "    .dataframe thead th {\n",
       "        text-align: right;\n",
       "    }\n",
       "</style>\n",
       "<table border=\"1\" class=\"dataframe\">\n",
       "  <thead>\n",
       "    <tr style=\"text-align: right;\">\n",
       "      <th></th>\n",
       "      <th>Country</th>\n",
       "      <th>Year</th>\n",
       "      <th>Life Expectancy</th>\n",
       "    </tr>\n",
       "  </thead>\n",
       "  <tbody>\n",
       "    <tr>\n",
       "      <th>9695</th>\n",
       "      <td>Japan</td>\n",
       "      <td>1996</td>\n",
       "      <td>80.200244</td>\n",
       "    </tr>\n",
       "  </tbody>\n",
       "</table>\n",
       "</div>"
      ],
      "text/plain": [
       "     Country  Year  Life Expectancy\n",
       "9695   Japan  1996        80.200244"
      ]
     },
     "execution_count": 238,
     "metadata": {},
     "output_type": "execute_result"
    }
   ],
   "source": [
    "lf_exp80 = life_expectancy[life_expectancy['Life Expectancy'] > 80]\n",
    "lf_exp80[lf_exp80.Year == lf_exp80.Year.min()]"
   ]
  },
  {
   "cell_type": "markdown",
   "id": "e42fdb27",
   "metadata": {},
   "source": [
    "Q24. Merge gdp_per_capita and life_expectancy, keeping all countries and years that appear in both DataFrames. Save the result to a new DataFrame named gdp_le. If you get any errors in doing this, read them carefully and correct them. Look at the first five rows of your new data frame to confirm it merged correctly. Also, check the last five rows to make sure the data is clean and as expected."
   ]
  },
  {
   "cell_type": "code",
   "execution_count": 239,
   "id": "b17b335f",
   "metadata": {},
   "outputs": [
    {
     "data": {
      "text/plain": [
       "Country             object\n",
       "Year                object\n",
       "Life Expectancy    float64\n",
       "dtype: object"
      ]
     },
     "execution_count": 239,
     "metadata": {},
     "output_type": "execute_result"
    }
   ],
   "source": [
    "#Check data types\n",
    "life_expectancy.dtypes"
   ]
  },
  {
   "cell_type": "code",
   "execution_count": 240,
   "id": "21ab6479",
   "metadata": {},
   "outputs": [
    {
     "data": {
      "text/plain": [
       "Country             string\n",
       "Year                 int32\n",
       "Life Expectancy    float64\n",
       "dtype: object"
      ]
     },
     "execution_count": 240,
     "metadata": {},
     "output_type": "execute_result"
    }
   ],
   "source": [
    "#Drop rows with na\n",
    "life_expectancy = life_expectancy.dropna()\n",
    "\n",
    "#Change data types\n",
    "life_expectancy = life_expectancy.astype({'Country':'string', 'Year':'int'})\n",
    "\n",
    "#Check data types\n",
    "life_expectancy.dtypes"
   ]
  },
  {
   "cell_type": "code",
   "execution_count": 242,
   "id": "eb760d79",
   "metadata": {},
   "outputs": [
    {
     "data": {
      "text/html": [
       "<div>\n",
       "<style scoped>\n",
       "    .dataframe tbody tr th:only-of-type {\n",
       "        vertical-align: middle;\n",
       "    }\n",
       "\n",
       "    .dataframe tbody tr th {\n",
       "        vertical-align: top;\n",
       "    }\n",
       "\n",
       "    .dataframe thead th {\n",
       "        text-align: right;\n",
       "    }\n",
       "</style>\n",
       "<table border=\"1\" class=\"dataframe\">\n",
       "  <thead>\n",
       "    <tr style=\"text-align: right;\">\n",
       "      <th></th>\n",
       "      <th>Country</th>\n",
       "      <th>Year</th>\n",
       "      <th>GDP_Per_Capita</th>\n",
       "      <th>Continent</th>\n",
       "      <th>Life Expectancy</th>\n",
       "    </tr>\n",
       "  </thead>\n",
       "  <tbody>\n",
       "    <tr>\n",
       "      <th>0</th>\n",
       "      <td>Afghanistan</td>\n",
       "      <td>2019</td>\n",
       "      <td>2065.036398</td>\n",
       "      <td>Asia</td>\n",
       "      <td>64.833</td>\n",
       "    </tr>\n",
       "    <tr>\n",
       "      <th>1</th>\n",
       "      <td>Afghanistan</td>\n",
       "      <td>2018</td>\n",
       "      <td>2033.779002</td>\n",
       "      <td>Asia</td>\n",
       "      <td>64.486</td>\n",
       "    </tr>\n",
       "  </tbody>\n",
       "</table>\n",
       "</div>"
      ],
      "text/plain": [
       "       Country  Year  GDP_Per_Capita Continent  Life Expectancy\n",
       "0  Afghanistan  2019     2065.036398      Asia           64.833\n",
       "1  Afghanistan  2018     2033.779002      Asia           64.486"
      ]
     },
     "execution_count": 242,
     "metadata": {},
     "output_type": "execute_result"
    }
   ],
   "source": [
    "#Merge gdp_df and life_expectancy on Country and Year\n",
    "gdp_le = pd.merge(gdp_df, life_expectancy, on = ['Country', 'Year'])\n",
    "\n",
    "#Check first 5 rows\n",
    "gdp_le.head(5)"
   ]
  },
  {
   "cell_type": "code",
   "execution_count": 243,
   "id": "d028954f",
   "metadata": {
    "scrolled": true
   },
   "outputs": [
    {
     "data": {
      "text/html": [
       "<div>\n",
       "<style scoped>\n",
       "    .dataframe tbody tr th:only-of-type {\n",
       "        vertical-align: middle;\n",
       "    }\n",
       "\n",
       "    .dataframe tbody tr th {\n",
       "        vertical-align: top;\n",
       "    }\n",
       "\n",
       "    .dataframe thead th {\n",
       "        text-align: right;\n",
       "    }\n",
       "</style>\n",
       "<table border=\"1\" class=\"dataframe\">\n",
       "  <thead>\n",
       "    <tr style=\"text-align: right;\">\n",
       "      <th></th>\n",
       "      <th>Country</th>\n",
       "      <th>Year</th>\n",
       "      <th>GDP_Per_Capita</th>\n",
       "      <th>Continent</th>\n",
       "      <th>Life Expectancy</th>\n",
       "    </tr>\n",
       "  </thead>\n",
       "  <tbody>\n",
       "    <tr>\n",
       "      <th>4917</th>\n",
       "      <td>Zimbabwe</td>\n",
       "      <td>1994</td>\n",
       "      <td>3263.934978</td>\n",
       "      <td>Africa</td>\n",
       "      <td>52.044</td>\n",
       "    </tr>\n",
       "    <tr>\n",
       "      <th>4918</th>\n",
       "      <td>Zimbabwe</td>\n",
       "      <td>1993</td>\n",
       "      <td>3033.504852</td>\n",
       "      <td>Africa</td>\n",
       "      <td>53.653</td>\n",
       "    </tr>\n",
       "    <tr>\n",
       "      <th>4919</th>\n",
       "      <td>Zimbabwe</td>\n",
       "      <td>1992</td>\n",
       "      <td>3054.889178</td>\n",
       "      <td>Africa</td>\n",
       "      <td>55.243</td>\n",
       "    </tr>\n",
       "    <tr>\n",
       "      <th>4920</th>\n",
       "      <td>Zimbabwe</td>\n",
       "      <td>1991</td>\n",
       "      <td>3426.598094</td>\n",
       "      <td>Africa</td>\n",
       "      <td>56.749</td>\n",
       "    </tr>\n",
       "    <tr>\n",
       "      <th>4921</th>\n",
       "      <td>Zimbabwe</td>\n",
       "      <td>1990</td>\n",
       "      <td>3324.348171</td>\n",
       "      <td>Africa</td>\n",
       "      <td>58.100</td>\n",
       "    </tr>\n",
       "  </tbody>\n",
       "</table>\n",
       "</div>"
      ],
      "text/plain": [
       "       Country  Year  GDP_Per_Capita Continent  Life Expectancy\n",
       "4917  Zimbabwe  1994     3263.934978    Africa           52.044\n",
       "4918  Zimbabwe  1993     3033.504852    Africa           53.653\n",
       "4919  Zimbabwe  1992     3054.889178    Africa           55.243\n",
       "4920  Zimbabwe  1991     3426.598094    Africa           56.749\n",
       "4921  Zimbabwe  1990     3324.348171    Africa           58.100"
      ]
     },
     "execution_count": 243,
     "metadata": {},
     "output_type": "execute_result"
    }
   ],
   "source": [
    "#Check last 5 rows\n",
    "gdp_le.tail(5)"
   ]
  },
  {
   "cell_type": "code",
   "execution_count": 244,
   "id": "b15dccbc",
   "metadata": {},
   "outputs": [
    {
     "name": "stdout",
     "output_type": "stream",
     "text": [
      "False\n",
      "0\n"
     ]
    }
   ],
   "source": [
    "#Check for missing values\n",
    "print(gdp_le.isnull().values.any())\n",
    "print(gdp_le.isnull().sum().sum())"
   ]
  },
  {
   "cell_type": "markdown",
   "id": "8ed533e4",
   "metadata": {},
   "source": [
    "\n",
    "Q25. Create a new DataFrame, named gdp_le_2019 by extracting data for the year 2019 from gdp_le. How many countries have a life expectancy of at least 80 in 2019?\n"
   ]
  },
  {
   "cell_type": "code",
   "execution_count": 246,
   "id": "b2211a3e",
   "metadata": {},
   "outputs": [
    {
     "data": {
      "text/plain": [
       "33"
      ]
     },
     "execution_count": 246,
     "metadata": {},
     "output_type": "execute_result"
    }
   ],
   "source": [
    "gdp_le_2019 = gdp_le[gdp_le['Year'] == 2019]\n",
    "\n",
    "#How many countries have a life expectancy of at least 80 in 2019?\n",
    "gdp_le_2019[gdp_le_2019['Life Expectancy'] >= 80]['Country'].nunique()"
   ]
  },
  {
   "cell_type": "markdown",
   "id": "da034527",
   "metadata": {},
   "source": [
    "Q26. Find the countries that had the top 3 largest GDP per capita figures for 2019. Create a seaborn FacetGrid showing the change in life expectancy over time for these three countries. Each individual figure in the facet grid will represent a single country."
   ]
  },
  {
   "cell_type": "code",
   "execution_count": 247,
   "id": "72cc5020",
   "metadata": {},
   "outputs": [
    {
     "data": {
      "text/html": [
       "<div>\n",
       "<style scoped>\n",
       "    .dataframe tbody tr th:only-of-type {\n",
       "        vertical-align: middle;\n",
       "    }\n",
       "\n",
       "    .dataframe tbody tr th {\n",
       "        vertical-align: top;\n",
       "    }\n",
       "\n",
       "    .dataframe thead th {\n",
       "        text-align: right;\n",
       "    }\n",
       "</style>\n",
       "<table border=\"1\" class=\"dataframe\">\n",
       "  <thead>\n",
       "    <tr style=\"text-align: right;\">\n",
       "      <th></th>\n",
       "      <th>index</th>\n",
       "      <th>Country</th>\n",
       "      <th>Year</th>\n",
       "      <th>GDP_Per_Capita</th>\n",
       "      <th>Continent</th>\n",
       "      <th>Life Expectancy</th>\n",
       "    </tr>\n",
       "  </thead>\n",
       "  <tbody>\n",
       "    <tr>\n",
       "      <th>0</th>\n",
       "      <td>2628</td>\n",
       "      <td>Macao SAR, China</td>\n",
       "      <td>2019</td>\n",
       "      <td>123965.286432</td>\n",
       "      <td>Asia</td>\n",
       "      <td>84.244000</td>\n",
       "    </tr>\n",
       "    <tr>\n",
       "      <th>1</th>\n",
       "      <td>2598</td>\n",
       "      <td>Luxembourg</td>\n",
       "      <td>2019</td>\n",
       "      <td>114304.044210</td>\n",
       "      <td>Europe</td>\n",
       "      <td>82.639024</td>\n",
       "    </tr>\n",
       "    <tr>\n",
       "      <th>2</th>\n",
       "      <td>3916</td>\n",
       "      <td>Singapore</td>\n",
       "      <td>2019</td>\n",
       "      <td>97341.468645</td>\n",
       "      <td>Asia</td>\n",
       "      <td>83.595122</td>\n",
       "    </tr>\n",
       "  </tbody>\n",
       "</table>\n",
       "</div>"
      ],
      "text/plain": [
       "   index           Country  Year  GDP_Per_Capita Continent  Life Expectancy\n",
       "0   2628  Macao SAR, China  2019   123965.286432      Asia        84.244000\n",
       "1   2598        Luxembourg  2019   114304.044210    Europe        82.639024\n",
       "2   3916         Singapore  2019    97341.468645      Asia        83.595122"
      ]
     },
     "execution_count": 247,
     "metadata": {},
     "output_type": "execute_result"
    }
   ],
   "source": [
    "#Countries with top 3 GDP per Capita\n",
    "top3 = gdp_le_2019.sort_values('GDP_Per_Capita', ascending = False).reset_index()[0:3]\n",
    "top3"
   ]
  },
  {
   "cell_type": "code",
   "execution_count": 248,
   "id": "5f6bd918",
   "metadata": {},
   "outputs": [
    {
     "data": {
      "image/png": "[encoded data removed]",
      "text/plain": [
       "<Figure size 648x216 with 3 Axes>"
      ]
     },
     "metadata": {
      "needs_background": "light"
     },
     "output_type": "display_data"
    }
   ],
   "source": [
    "#Subset top3 countries\n",
    "top3ss = gdp_le[gdp_le['Country'].isin(top3['Country'])]\n",
    "\n",
    "#Create FacetGrid\n",
    "g = sns.FacetGrid(top3ss, col = 'Country')\n",
    "g.map(sns.lineplot, 'Year', 'Life Expectancy');"
   ]
  },
  {
   "cell_type": "markdown",
   "id": "09c86544",
   "metadata": {},
   "source": [
    "Q27. Create a scatter plot of Life Expectancy vs GDP per Capita for the year 2019. What do you notice?"
   ]
  },
  {
   "cell_type": "code",
   "execution_count": 249,
   "id": "09844865",
   "metadata": {},
   "outputs": [
    {
     "data": {
      "image/png": "[encoded data removed]",
      "text/plain": [
       "<Figure size 432x288 with 1 Axes>"
      ]
     },
     "metadata": {
      "needs_background": "light"
     },
     "output_type": "display_data"
    }
   ],
   "source": [
    "sns.scatterplot(data = gdp_le_2019, x = 'GDP_Per_Capita', y = 'Life Expectancy');"
   ]
  },
  {
   "cell_type": "markdown",
   "id": "5e6588cc",
   "metadata": {},
   "source": [
    "The plot shows countries with higher GDP_Per_Capitas have higher Life Expectancies. "
   ]
  },
  {
   "cell_type": "markdown",
   "id": "29971691",
   "metadata": {},
   "source": [
    "Q28. Find the correlation between Life Expectancy and GDP per Capita for the year 2019. What is the meaning of this number?"
   ]
  },
  {
   "cell_type": "code",
   "execution_count": 250,
   "id": "c6b65bd0",
   "metadata": {},
   "outputs": [
    {
     "data": {
      "text/plain": [
       "0.7090182746006474"
      ]
     },
     "execution_count": 250,
     "metadata": {},
     "output_type": "execute_result"
    }
   ],
   "source": [
    "gdp_le_2019['Life Expectancy'].corr(gdp_le_2019['GDP_Per_Capita'])"
   ]
  },
  {
   "cell_type": "markdown",
   "id": "ed9bc6df",
   "metadata": {},
   "source": [
    "The correlation coefficient indicates a strong positive linear relationship between GDP Per Capita and Life Expectancy. "
   ]
  },
  {
   "cell_type": "markdown",
   "id": "ee478a4f",
   "metadata": {},
   "source": [
    "\n",
    "Q29. Add a column to gdp_le_2019 and calculate the logarithm of GDP per capita. Find the correlation between the log of GDP per capita and life expectancy. How does this compare to the calculation in the previous part? Look at a scatter plot to see if the result of this calculation makes sense.\n"
   ]
  },
  {
   "cell_type": "code",
   "execution_count": 251,
   "id": "f1b657f2",
   "metadata": {
    "scrolled": true
   },
   "outputs": [
    {
     "name": "stderr",
     "output_type": "stream",
     "text": [
      "<ipython-input-251-5affa406bfd4>:1: SettingWithCopyWarning: \n",
      "A value is trying to be set on a copy of a slice from a DataFrame.\n",
      "Try using .loc[row_indexer,col_indexer] = value instead\n",
      "\n",
      "See the caveats in the documentation: https://pandas.pydata.org/pandas-docs/stable/user_guide/indexing.html#returning-a-view-versus-a-copy\n",
      "  gdp_le_2019['logGDP'] = np.log10(gdp_le_2019['GDP_Per_Capita'])\n"
     ]
    }
   ],
   "source": [
    "gdp_le_2019['logGDP'] = np.log10(gdp_le_2019['GDP_Per_Capita'])"
   ]
  },
  {
   "cell_type": "code",
   "execution_count": 252,
   "id": "f223afe8",
   "metadata": {},
   "outputs": [
    {
     "data": {
      "text/plain": [
       "0.848497584800642"
      ]
     },
     "execution_count": 252,
     "metadata": {},
     "output_type": "execute_result"
    }
   ],
   "source": [
    "gdp_le_2019['Life Expectancy'].corr(gdp_le_2019['logGDP'])"
   ]
  },
  {
   "cell_type": "code",
   "execution_count": 253,
   "id": "ecce4668",
   "metadata": {},
   "outputs": [
    {
     "data": {
      "image/png": "[encoded data removed]",
      "text/plain": [
       "<Figure size 432x288 with 1 Axes>"
      ]
     },
     "metadata": {
      "needs_background": "light"
     },
     "output_type": "display_data"
    }
   ],
   "source": [
    "sns.scatterplot(data = gdp_le_2019, x = 'logGDP', y = 'Life Expectancy');"
   ]
  },
  {
   "cell_type": "markdown",
   "id": "3f1676e5",
   "metadata": {},
   "source": [
    "The correlation is stronger for the relationship between log GDP_Per_Capita and Life Expectancy. The scatterplot also shows a stronger positive linear relationship between the two variables. "
   ]
  },
  {
   "cell_type": "markdown",
   "id": "0d172d56",
   "metadata": {},
   "source": [
    "## Solo Exploration"
   ]
  },
  {
   "cell_type": "markdown",
   "id": "edc41fb3",
   "metadata": {},
   "source": [
    "#### 'Employed population by status in employment, industry and sex'"
   ]
  },
  {
   "cell_type": "code",
   "execution_count": 295,
   "id": "7f044031",
   "metadata": {
    "scrolled": true
   },
   "outputs": [
    {
     "data": {
      "text/html": [
       "<div>\n",
       "<style scoped>\n",
       "    .dataframe tbody tr th:only-of-type {\n",
       "        vertical-align: middle;\n",
       "    }\n",
       "\n",
       "    .dataframe tbody tr th {\n",
       "        vertical-align: top;\n",
       "    }\n",
       "\n",
       "    .dataframe thead th {\n",
       "        text-align: right;\n",
       "    }\n",
       "</style>\n",
       "<table border=\"1\" class=\"dataframe\">\n",
       "  <thead>\n",
       "    <tr style=\"text-align: right;\">\n",
       "      <th></th>\n",
       "      <th>Country or Area</th>\n",
       "      <th>Year</th>\n",
       "      <th>Area</th>\n",
       "      <th>Sex</th>\n",
       "      <th>Status in employment</th>\n",
       "      <th>Industry</th>\n",
       "      <th>Record Type</th>\n",
       "      <th>Reliability</th>\n",
       "      <th>Source Year</th>\n",
       "      <th>Value</th>\n",
       "      <th>Value Footnotes</th>\n",
       "    </tr>\n",
       "  </thead>\n",
       "  <tbody>\n",
       "    <tr>\n",
       "      <th>0</th>\n",
       "      <td>Åland Islands</td>\n",
       "      <td>2000</td>\n",
       "      <td>Total</td>\n",
       "      <td>Both Sexes</td>\n",
       "      <td>Total</td>\n",
       "      <td>Agriculture, hunting and forestry (ISIC Rev.3/...</td>\n",
       "      <td>Census - de jure - complete tabulation</td>\n",
       "      <td>Final figure, complete</td>\n",
       "      <td>2009.0</td>\n",
       "      <td>703.0</td>\n",
       "      <td>1</td>\n",
       "    </tr>\n",
       "    <tr>\n",
       "      <th>1</th>\n",
       "      <td>Åland Islands</td>\n",
       "      <td>2000</td>\n",
       "      <td>Total</td>\n",
       "      <td>Both Sexes</td>\n",
       "      <td>Total</td>\n",
       "      <td>Fishing (ISIC Rev.3/3.1: Section B)</td>\n",
       "      <td>Census - de jure - complete tabulation</td>\n",
       "      <td>Final figure, complete</td>\n",
       "      <td>2009.0</td>\n",
       "      <td>104.0</td>\n",
       "      <td>1</td>\n",
       "    </tr>\n",
       "    <tr>\n",
       "      <th>2</th>\n",
       "      <td>Åland Islands</td>\n",
       "      <td>2000</td>\n",
       "      <td>Total</td>\n",
       "      <td>Both Sexes</td>\n",
       "      <td>Total</td>\n",
       "      <td>Mining and quarrying (ISIC Rev.3/3.1: Section C)</td>\n",
       "      <td>Census - de jure - complete tabulation</td>\n",
       "      <td>Final figure, complete</td>\n",
       "      <td>2009.0</td>\n",
       "      <td>2.0</td>\n",
       "      <td>1</td>\n",
       "    </tr>\n",
       "    <tr>\n",
       "      <th>3</th>\n",
       "      <td>Åland Islands</td>\n",
       "      <td>2000</td>\n",
       "      <td>Total</td>\n",
       "      <td>Both Sexes</td>\n",
       "      <td>Total</td>\n",
       "      <td>Manufacturing (ISIC Rev.3/3.1: Section D)</td>\n",
       "      <td>Census - de jure - complete tabulation</td>\n",
       "      <td>Final figure, complete</td>\n",
       "      <td>2009.0</td>\n",
       "      <td>1168.0</td>\n",
       "      <td>1</td>\n",
       "    </tr>\n",
       "    <tr>\n",
       "      <th>4</th>\n",
       "      <td>Åland Islands</td>\n",
       "      <td>2000</td>\n",
       "      <td>Total</td>\n",
       "      <td>Both Sexes</td>\n",
       "      <td>Total</td>\n",
       "      <td>Electricity, gas and water supply (ISIC Rev.3/...</td>\n",
       "      <td>Census - de jure - complete tabulation</td>\n",
       "      <td>Final figure, complete</td>\n",
       "      <td>2009.0</td>\n",
       "      <td>117.0</td>\n",
       "      <td>1</td>\n",
       "    </tr>\n",
       "  </tbody>\n",
       "</table>\n",
       "</div>"
      ],
      "text/plain": [
       "  Country or Area  Year   Area         Sex Status in employment  \\\n",
       "0   Åland Islands  2000  Total  Both Sexes                Total   \n",
       "1   Åland Islands  2000  Total  Both Sexes                Total   \n",
       "2   Åland Islands  2000  Total  Both Sexes                Total   \n",
       "3   Åland Islands  2000  Total  Both Sexes                Total   \n",
       "4   Åland Islands  2000  Total  Both Sexes                Total   \n",
       "\n",
       "                                            Industry  \\\n",
       "0  Agriculture, hunting and forestry (ISIC Rev.3/...   \n",
       "1                Fishing (ISIC Rev.3/3.1: Section B)   \n",
       "2   Mining and quarrying (ISIC Rev.3/3.1: Section C)   \n",
       "3          Manufacturing (ISIC Rev.3/3.1: Section D)   \n",
       "4  Electricity, gas and water supply (ISIC Rev.3/...   \n",
       "\n",
       "                              Record Type             Reliability  \\\n",
       "0  Census - de jure - complete tabulation  Final figure, complete   \n",
       "1  Census - de jure - complete tabulation  Final figure, complete   \n",
       "2  Census - de jure - complete tabulation  Final figure, complete   \n",
       "3  Census - de jure - complete tabulation  Final figure, complete   \n",
       "4  Census - de jure - complete tabulation  Final figure, complete   \n",
       "\n",
       "   Source Year   Value Value Footnotes  \n",
       "0       2009.0   703.0               1  \n",
       "1       2009.0   104.0               1  \n",
       "2       2009.0     2.0               1  \n",
       "3       2009.0  1168.0               1  \n",
       "4       2009.0   117.0               1  "
      ]
     },
     "execution_count": 295,
     "metadata": {},
     "output_type": "execute_result"
    }
   ],
   "source": [
    "emp = pd.read_csv('../data/UNdata_Export_20220925_002155572.csv')\n",
    "emp.head()"
   ]
  },
  {
   "cell_type": "code",
   "execution_count": 296,
   "id": "b451fc15",
   "metadata": {},
   "outputs": [
    {
     "data": {
      "text/html": [
       "<div>\n",
       "<style scoped>\n",
       "    .dataframe tbody tr th:only-of-type {\n",
       "        vertical-align: middle;\n",
       "    }\n",
       "\n",
       "    .dataframe tbody tr th {\n",
       "        vertical-align: top;\n",
       "    }\n",
       "\n",
       "    .dataframe thead th {\n",
       "        text-align: right;\n",
       "    }\n",
       "</style>\n",
       "<table border=\"1\" class=\"dataframe\">\n",
       "  <thead>\n",
       "    <tr style=\"text-align: right;\">\n",
       "      <th></th>\n",
       "      <th>Country</th>\n",
       "      <th>Year</th>\n",
       "      <th>Area</th>\n",
       "      <th>Sex</th>\n",
       "      <th>Status in employment</th>\n",
       "      <th>Value</th>\n",
       "      <th>Industry</th>\n",
       "    </tr>\n",
       "  </thead>\n",
       "  <tbody>\n",
       "    <tr>\n",
       "      <th>0</th>\n",
       "      <td>Åland Islands</td>\n",
       "      <td>2000</td>\n",
       "      <td>Total</td>\n",
       "      <td>Both Sexes</td>\n",
       "      <td>Total</td>\n",
       "      <td>703.0</td>\n",
       "      <td>Agriculture, hunting and forestry</td>\n",
       "    </tr>\n",
       "    <tr>\n",
       "      <th>1</th>\n",
       "      <td>Åland Islands</td>\n",
       "      <td>2000</td>\n",
       "      <td>Total</td>\n",
       "      <td>Both Sexes</td>\n",
       "      <td>Total</td>\n",
       "      <td>104.0</td>\n",
       "      <td>Fishing</td>\n",
       "    </tr>\n",
       "  </tbody>\n",
       "</table>\n",
       "</div>"
      ],
      "text/plain": [
       "         Country  Year   Area         Sex Status in employment  Value  \\\n",
       "0  Åland Islands  2000  Total  Both Sexes                Total  703.0   \n",
       "1  Åland Islands  2000  Total  Both Sexes                Total  104.0   \n",
       "\n",
       "                             Industry  \n",
       "0  Agriculture, hunting and forestry   \n",
       "1                            Fishing   "
      ]
     },
     "execution_count": 296,
     "metadata": {},
     "output_type": "execute_result"
    }
   ],
   "source": [
    "#Drop columns\n",
    "emp.drop(['Record Type', 'Reliability', 'Value Footnotes', 'Source Year'], axis=1, inplace = True)\n",
    "\n",
    "#Remove text in parentheses in 'Indrustry'\n",
    "emp['Industry_s'] = emp['Industry'].str.split('(').str[0]\n",
    "\n",
    "#Drop column 'Industry'\n",
    "emp.drop('Industry', axis = 1, inplace = True)\n",
    "\n",
    "#Rename Industry and Country\n",
    "emp = emp.rename(columns = {'Industry_s':'Industry', 'Country or Area':'Country'})\n",
    "\n",
    "\n",
    "emp.head(2)"
   ]
  },
  {
   "cell_type": "code",
   "execution_count": 297,
   "id": "8766068c",
   "metadata": {},
   "outputs": [],
   "source": [
    "#Drop rows with missing values\n",
    "emp = emp.dropna()"
   ]
  },
  {
   "cell_type": "code",
   "execution_count": 298,
   "id": "b6372ba1",
   "metadata": {},
   "outputs": [],
   "source": [
    "#Delete rows with 'Unknown' or 'Activities not Described' from Industry\n",
    "emp = emp[emp['Industry'].str.contains('Activties | not |Unknown')==False]"
   ]
  },
  {
   "cell_type": "code",
   "execution_count": 299,
   "id": "90ec8522",
   "metadata": {},
   "outputs": [],
   "source": [
    "mydict = {'Electricity':'Utility Services', 'Fishing': 'Agriculture',\n",
    "          'trade' : 'Trade', 'Agriculture':'Agriculture', \n",
    "          'Wholesale':'Trade', 'Construction':'Construction',\n",
    "          'transport':'Transportation','Education':'Education',\n",
    "          'Mining':'Mining', 'Service':'Service',\n",
    "          'estate':'Real Estate', 'Finance':'Finance', 'Financial':'Finance' ,\n",
    "          'restaurants':'Service', 'administration':'Public Admin',\n",
    "          'social':'Social Work', 'Activities':'Other', \n",
    "          'Extraterritorial':'Other', 'Manufacturing':'Manufacturing', \n",
    "          'private':'Other', 'supply':'Utility Services',\n",
    "          'service':'Service', 'Information':'Information', 'Total':'Other', \n",
    "          'scientific':'Technology', 'health': 'Health', 'Arts':'Arts', 'Commerce':'Trade'}"
   ]
  },
  {
   "cell_type": "code",
   "execution_count": 300,
   "id": "9b99d0c3",
   "metadata": {},
   "outputs": [],
   "source": [
    "#Uncomment to check mydict\n",
    "#count = 0\n",
    "#for key,value in mydict.items():\n",
    "#    count+=1\n",
    "#    print(str(count) + '- ' + key + ':' + value)\n",
    "    "
   ]
  },
  {
   "cell_type": "code",
   "execution_count": 301,
   "id": "1e0a92de",
   "metadata": {},
   "outputs": [],
   "source": [
    "#Obtain the Industry column as a list\n",
    "ind_list = emp['Industry'].values.tolist()\n",
    "\n",
    "\n",
    "#Make a for loop to replace long names in Industry column based on key words using dictionary\n",
    "\n",
    "new_ind_list = []      #empty list\n",
    "\n",
    "for elem in ind_list: # loop through each element in ind_list \n",
    "    for key, value in mydict.items(): # loop through each dict key/value pair in the dictionary \n",
    "        if key.lower() in elem.lower():  #check if key in dict is inside the elem string from ind_list\n",
    "            new_ind_list.append(value)   # if it is present add the dictionary value to new list\n",
    "            break\n",
    "        \n",
    "  "
   ]
  },
  {
   "cell_type": "code",
   "execution_count": 302,
   "id": "040b904a",
   "metadata": {},
   "outputs": [
    {
     "name": "stdout",
     "output_type": "stream",
     "text": [
      "new_ind_list length: 55945\n",
      "Industry length: 55945\n",
      "Industry unique values count: 46\n",
      "new_ind_list unique values count: 16\n",
      "{'Other', 'Education', 'Construction', 'Manufacturing', 'Transportation', 'Arts', 'Utility Services', 'Public Admin', 'Service', 'Information', 'Trade', 'Real Estate', 'Mining', 'Agriculture', 'Finance', 'Social Work'}\n"
     ]
    }
   ],
   "source": [
    "#Check for equal lengths \n",
    "print('new_ind_list length: '  + str(len(new_ind_list)))\n",
    "print('Industry length: ' + str(len(emp['Industry'])))\n",
    "\n",
    "#Check for unique counts\n",
    "print('Industry unique values count: ' + str(emp['Industry'].nunique()))\n",
    "print('new_ind_list unique values count: '+ str(len(set(new_ind_list))))\n",
    "\n",
    "#Print unique values for new_ind_list\n",
    "print(set(new_ind_list))"
   ]
  },
  {
   "cell_type": "code",
   "execution_count": 303,
   "id": "49a7b3e1",
   "metadata": {},
   "outputs": [
    {
     "data": {
      "text/html": [
       "<div>\n",
       "<style scoped>\n",
       "    .dataframe tbody tr th:only-of-type {\n",
       "        vertical-align: middle;\n",
       "    }\n",
       "\n",
       "    .dataframe tbody tr th {\n",
       "        vertical-align: top;\n",
       "    }\n",
       "\n",
       "    .dataframe thead th {\n",
       "        text-align: right;\n",
       "    }\n",
       "</style>\n",
       "<table border=\"1\" class=\"dataframe\">\n",
       "  <thead>\n",
       "    <tr style=\"text-align: right;\">\n",
       "      <th></th>\n",
       "      <th>Country</th>\n",
       "      <th>Year</th>\n",
       "      <th>Area</th>\n",
       "      <th>Sex</th>\n",
       "      <th>Status in employment</th>\n",
       "      <th>Value</th>\n",
       "      <th>Industry</th>\n",
       "    </tr>\n",
       "  </thead>\n",
       "  <tbody>\n",
       "    <tr>\n",
       "      <th>0</th>\n",
       "      <td>Åland Islands</td>\n",
       "      <td>2000</td>\n",
       "      <td>Total</td>\n",
       "      <td>Both Sexes</td>\n",
       "      <td>Total</td>\n",
       "      <td>703.0</td>\n",
       "      <td>Agriculture</td>\n",
       "    </tr>\n",
       "    <tr>\n",
       "      <th>1</th>\n",
       "      <td>Åland Islands</td>\n",
       "      <td>2000</td>\n",
       "      <td>Total</td>\n",
       "      <td>Both Sexes</td>\n",
       "      <td>Total</td>\n",
       "      <td>104.0</td>\n",
       "      <td>Agriculture</td>\n",
       "    </tr>\n",
       "  </tbody>\n",
       "</table>\n",
       "</div>"
      ],
      "text/plain": [
       "         Country  Year   Area         Sex Status in employment  Value  \\\n",
       "0  Åland Islands  2000  Total  Both Sexes                Total  703.0   \n",
       "1  Åland Islands  2000  Total  Both Sexes                Total  104.0   \n",
       "\n",
       "      Industry  \n",
       "0  Agriculture  \n",
       "1  Agriculture  "
      ]
     },
     "execution_count": 303,
     "metadata": {},
     "output_type": "execute_result"
    }
   ],
   "source": [
    "#Add new_ind_list as a column to emp\n",
    "emp['new_ind'] = new_ind_list\n",
    "\n",
    "emp.head(2)\n",
    "\n",
    "#Drop Industry column\n",
    "emp = emp.drop(['Industry'], axis = 1)\n",
    "\n",
    "#Rename new_ind to Industry\n",
    "emp = emp.rename(columns = {'new_ind': 'Industry'})\n",
    "\n",
    "#Check rows\n",
    "emp.head(2)"
   ]
  },
  {
   "cell_type": "code",
   "execution_count": 308,
   "id": "99c59058",
   "metadata": {},
   "outputs": [
    {
     "data": {
      "text/plain": [
       "Sex         Industry        \n",
       "Both Sexes  Other               3046\n",
       "            Service             2844\n",
       "            Agriculture         1378\n",
       "            Construction        1034\n",
       "            Manufacturing       1029\n",
       "            Trade               1012\n",
       "            Transportation      1012\n",
       "            Mining              1006\n",
       "            Utility Services    1005\n",
       "            Finance              909\n",
       "            Real Estate          904\n",
       "            Education            901\n",
       "            Social Work          895\n",
       "            Public Admin         889\n",
       "            Information          466\n",
       "            Arts                 453\n",
       "Female      Other               3021\n",
       "            Service             2809\n",
       "            Agriculture         1370\n",
       "            Construction        1024\n",
       "            Manufacturing       1019\n",
       "            Trade               1003\n",
       "            Transportation      1002\n",
       "            Mining               994\n",
       "            Utility Services     990\n",
       "            Finance              900\n",
       "            Real Estate          893\n",
       "            Education            891\n",
       "            Social Work          885\n",
       "            Public Admin         871\n",
       "            Information          462\n",
       "            Arts                 449\n",
       "Male        Other               3014\n",
       "            Service             2813\n",
       "            Agriculture         1367\n",
       "            Construction        1023\n",
       "            Manufacturing       1018\n",
       "            Trade               1002\n",
       "            Transportation      1002\n",
       "            Mining               995\n",
       "            Utility Services     993\n",
       "            Finance              899\n",
       "            Real Estate          894\n",
       "            Education            890\n",
       "            Social Work          884\n",
       "            Public Admin         874\n",
       "            Information          462\n",
       "            Arts                 449\n",
       "Name: Industry, dtype: int64"
      ]
     },
     "execution_count": 308,
     "metadata": {},
     "output_type": "execute_result"
    }
   ],
   "source": [
    "emp.groupby('Sex')['Industry'].value_counts()"
   ]
  },
  {
   "cell_type": "code",
   "execution_count": 108,
   "id": "2f92a931",
   "metadata": {},
   "outputs": [
    {
     "data": {
      "text/plain": [
       "Country                  object\n",
       "Year                     object\n",
       "Area                     object\n",
       "Sex                      object\n",
       "Status in employment     object\n",
       "Value                   float64\n",
       "Industry_G               object\n",
       "dtype: object"
      ]
     },
     "execution_count": 108,
     "metadata": {},
     "output_type": "execute_result"
    }
   ],
   "source": [
    "emp.dtypes"
   ]
  },
  {
   "cell_type": "code",
   "execution_count": 310,
   "id": "61f60098",
   "metadata": {},
   "outputs": [
    {
     "data": {
      "text/plain": [
       "array(['Total', 'Own account worker', 'Employee', 'Employer',\n",
       "       'Contributing family members', \"Member of producers' cooperative\",\n",
       "       'Unknown', 'Other'], dtype=object)"
      ]
     },
     "execution_count": 310,
     "metadata": {},
     "output_type": "execute_result"
    }
   ],
   "source": [
    "emp['Status in employment'].unique()"
   ]
  },
  {
   "cell_type": "code",
   "execution_count": 311,
   "id": "c91d7bbd",
   "metadata": {},
   "outputs": [
    {
     "data": {
      "text/plain": [
       "count    5.594500e+04\n",
       "mean     2.428295e+05\n",
       "std      1.798397e+06\n",
       "min      0.000000e+00\n",
       "25%      8.100000e+01\n",
       "50%      2.206000e+03\n",
       "75%      3.627600e+04\n",
       "max      1.096704e+08\n",
       "Name: Value, dtype: float64"
      ]
     },
     "execution_count": 311,
     "metadata": {},
     "output_type": "execute_result"
    }
   ],
   "source": [
    "emp['Value'].describe()"
   ]
  },
  {
   "cell_type": "code",
   "execution_count": 312,
   "id": "aaab8ac6",
   "metadata": {},
   "outputs": [
    {
     "data": {
      "text/plain": [
       "109670399.0"
      ]
     },
     "execution_count": 312,
     "metadata": {},
     "output_type": "execute_result"
    }
   ],
   "source": [
    "emp['Value'].max()"
   ]
  },
  {
   "cell_type": "markdown",
   "id": "6651ac7b",
   "metadata": {},
   "source": [
    "#### Create Pivot Table"
   ]
  },
  {
   "cell_type": "code",
   "execution_count": 328,
   "id": "b8008a05",
   "metadata": {},
   "outputs": [],
   "source": [
    "emp2 = emp.drop(['Year', 'Area', 'Sex', 'Status in employment'], axis = 1)\n",
    "\n",
    "#Make pivot table of emp\n",
    "emp_pivoted = emp2.pivot_table(index = 'Country', columns = 'Industry', values = 'Value', aggfunc='sum')\n",
    "emp_pivoted = emp_pivoted.dropna()"
   ]
  },
  {
   "cell_type": "code",
   "execution_count": 329,
   "id": "6bdc523d",
   "metadata": {},
   "outputs": [
    {
     "data": {
      "text/html": [
       "<div>\n",
       "<style scoped>\n",
       "    .dataframe tbody tr th:only-of-type {\n",
       "        vertical-align: middle;\n",
       "    }\n",
       "\n",
       "    .dataframe tbody tr th {\n",
       "        vertical-align: top;\n",
       "    }\n",
       "\n",
       "    .dataframe thead th {\n",
       "        text-align: right;\n",
       "    }\n",
       "</style>\n",
       "<table border=\"1\" class=\"dataframe\">\n",
       "  <thead>\n",
       "    <tr style=\"text-align: right;\">\n",
       "      <th>Industry</th>\n",
       "      <th>Agriculture</th>\n",
       "      <th>Arts</th>\n",
       "      <th>Construction</th>\n",
       "      <th>Education</th>\n",
       "      <th>Finance</th>\n",
       "      <th>Information</th>\n",
       "      <th>Manufacturing</th>\n",
       "      <th>Mining</th>\n",
       "      <th>Other</th>\n",
       "      <th>Public Admin</th>\n",
       "      <th>Real Estate</th>\n",
       "      <th>Service</th>\n",
       "      <th>Social Work</th>\n",
       "      <th>Trade</th>\n",
       "      <th>Transportation</th>\n",
       "      <th>Utility Services</th>\n",
       "      <th>Sum</th>\n",
       "    </tr>\n",
       "    <tr>\n",
       "      <th>Country</th>\n",
       "      <th></th>\n",
       "      <th></th>\n",
       "      <th></th>\n",
       "      <th></th>\n",
       "      <th></th>\n",
       "      <th></th>\n",
       "      <th></th>\n",
       "      <th></th>\n",
       "      <th></th>\n",
       "      <th></th>\n",
       "      <th></th>\n",
       "      <th></th>\n",
       "      <th></th>\n",
       "      <th></th>\n",
       "      <th></th>\n",
       "      <th></th>\n",
       "      <th></th>\n",
       "    </tr>\n",
       "  </thead>\n",
       "  <tbody>\n",
       "    <tr>\n",
       "      <th>Albania</th>\n",
       "      <td>706980.0</td>\n",
       "      <td>29428.0</td>\n",
       "      <td>226752.0</td>\n",
       "      <td>203304.0</td>\n",
       "      <td>36864.0</td>\n",
       "      <td>41344.0</td>\n",
       "      <td>238504.0</td>\n",
       "      <td>27188.0</td>\n",
       "      <td>2784020.0</td>\n",
       "      <td>212036.0</td>\n",
       "      <td>1108.0</td>\n",
       "      <td>221352.0</td>\n",
       "      <td>113624.0</td>\n",
       "      <td>351264.0</td>\n",
       "      <td>99196.0</td>\n",
       "      <td>27120.0</td>\n",
       "      <td>5320084.0</td>\n",
       "    </tr>\n",
       "    <tr>\n",
       "      <th>Armenia</th>\n",
       "      <td>1560992.0</td>\n",
       "      <td>56780.0</td>\n",
       "      <td>272192.0</td>\n",
       "      <td>378968.0</td>\n",
       "      <td>59320.0</td>\n",
       "      <td>74208.0</td>\n",
       "      <td>316012.0</td>\n",
       "      <td>36056.0</td>\n",
       "      <td>4316448.0</td>\n",
       "      <td>324724.0</td>\n",
       "      <td>11740.0</td>\n",
       "      <td>177848.0</td>\n",
       "      <td>169316.0</td>\n",
       "      <td>409336.0</td>\n",
       "      <td>148568.0</td>\n",
       "      <td>83184.0</td>\n",
       "      <td>8395692.0</td>\n",
       "    </tr>\n",
       "    <tr>\n",
       "      <th>Australia</th>\n",
       "      <td>4394420.0</td>\n",
       "      <td>736229.0</td>\n",
       "      <td>13398727.0</td>\n",
       "      <td>13296569.0</td>\n",
       "      <td>5982324.0</td>\n",
       "      <td>1339981.0</td>\n",
       "      <td>13306238.0</td>\n",
       "      <td>2485864.0</td>\n",
       "      <td>164816012.0</td>\n",
       "      <td>12972526.0</td>\n",
       "      <td>11792869.0</td>\n",
       "      <td>20304782.0</td>\n",
       "      <td>19386503.0</td>\n",
       "      <td>23369126.0</td>\n",
       "      <td>9339563.0</td>\n",
       "      <td>1398208.0</td>\n",
       "      <td>318319941.0</td>\n",
       "    </tr>\n",
       "  </tbody>\n",
       "</table>\n",
       "</div>"
      ],
      "text/plain": [
       "Industry   Agriculture      Arts  Construction   Education    Finance  \\\n",
       "Country                                                                 \n",
       "Albania       706980.0   29428.0      226752.0    203304.0    36864.0   \n",
       "Armenia      1560992.0   56780.0      272192.0    378968.0    59320.0   \n",
       "Australia    4394420.0  736229.0    13398727.0  13296569.0  5982324.0   \n",
       "\n",
       "Industry   Information  Manufacturing     Mining        Other  Public Admin  \\\n",
       "Country                                                                       \n",
       "Albania        41344.0       238504.0    27188.0    2784020.0      212036.0   \n",
       "Armenia        74208.0       316012.0    36056.0    4316448.0      324724.0   \n",
       "Australia    1339981.0     13306238.0  2485864.0  164816012.0    12972526.0   \n",
       "\n",
       "Industry   Real Estate     Service  Social Work       Trade  Transportation  \\\n",
       "Country                                                                       \n",
       "Albania         1108.0    221352.0     113624.0    351264.0         99196.0   \n",
       "Armenia        11740.0    177848.0     169316.0    409336.0        148568.0   \n",
       "Australia   11792869.0  20304782.0   19386503.0  23369126.0       9339563.0   \n",
       "\n",
       "Industry   Utility Services          Sum  \n",
       "Country                                   \n",
       "Albania             27120.0    5320084.0  \n",
       "Armenia             83184.0    8395692.0  \n",
       "Australia         1398208.0  318319941.0  "
      ]
     },
     "execution_count": 329,
     "metadata": {},
     "output_type": "execute_result"
    }
   ],
   "source": [
    "#Make new column 'Sum' for the sum of values of all Industry catergories\n",
    "emp_pivoted['Sum'] = emp_pivoted.aggregate(func = np.sum, axis=1)\n",
    "\n",
    "emp_pivoted.head(3)"
   ]
  },
  {
   "cell_type": "code",
   "execution_count": 330,
   "id": "ca493b3b",
   "metadata": {},
   "outputs": [],
   "source": [
    "#Create new column for % of Population in Agriculture\n",
    "emp_pivoted['AgPercent'] = 100*emp_pivoted['Agriculture']/emp_pivoted['Sum']"
   ]
  },
  {
   "cell_type": "code",
   "execution_count": 331,
   "id": "8b342c5f",
   "metadata": {},
   "outputs": [
    {
     "data": {
      "text/plain": [
       "count    67.000000\n",
       "mean      8.153800\n",
       "std       9.394327\n",
       "min       0.079182\n",
       "25%       1.516320\n",
       "50%       2.941023\n",
       "75%      13.625627\n",
       "max      37.187679\n",
       "Name: AgPercent, dtype: float64"
      ]
     },
     "execution_count": 331,
     "metadata": {},
     "output_type": "execute_result"
    }
   ],
   "source": [
    "#Statistical summary for % of population in agriculture\n",
    "emp_pivoted['AgPercent'].describe()"
   ]
  },
  {
   "cell_type": "code",
   "execution_count": 332,
   "id": "745b3b1d",
   "metadata": {},
   "outputs": [
    {
     "data": {
      "image/png": "[encoded data removed]",
      "text/plain": [
       "<Figure size 432x288 with 1 Axes>"
      ]
     },
     "metadata": {
      "needs_background": "light"
     },
     "output_type": "display_data"
    }
   ],
   "source": [
    "#Boxplot for % of population in agriculture\n",
    "sns.boxplot(data=emp_pivoted, x = 'AgPercent');"
   ]
  },
  {
   "cell_type": "code",
   "execution_count": 333,
   "id": "75302d85",
   "metadata": {
    "scrolled": true
   },
   "outputs": [
    {
     "data": {
      "text/html": [
       "<div>\n",
       "<style scoped>\n",
       "    .dataframe tbody tr th:only-of-type {\n",
       "        vertical-align: middle;\n",
       "    }\n",
       "\n",
       "    .dataframe tbody tr th {\n",
       "        vertical-align: top;\n",
       "    }\n",
       "\n",
       "    .dataframe thead th {\n",
       "        text-align: right;\n",
       "    }\n",
       "</style>\n",
       "<table border=\"1\" class=\"dataframe\">\n",
       "  <thead>\n",
       "    <tr style=\"text-align: right;\">\n",
       "      <th>Industry</th>\n",
       "      <th>Country</th>\n",
       "      <th>Agriculture</th>\n",
       "      <th>Arts</th>\n",
       "      <th>Construction</th>\n",
       "      <th>Education</th>\n",
       "      <th>Finance</th>\n",
       "      <th>Information</th>\n",
       "      <th>Manufacturing</th>\n",
       "      <th>Mining</th>\n",
       "      <th>Other</th>\n",
       "      <th>Public Admin</th>\n",
       "      <th>Real Estate</th>\n",
       "      <th>Service</th>\n",
       "      <th>Social Work</th>\n",
       "      <th>Trade</th>\n",
       "      <th>Transportation</th>\n",
       "      <th>Utility Services</th>\n",
       "      <th>Sum</th>\n",
       "      <th>AgPercent</th>\n",
       "    </tr>\n",
       "  </thead>\n",
       "  <tbody>\n",
       "    <tr>\n",
       "      <th>0</th>\n",
       "      <td>Cambodia</td>\n",
       "      <td>35014560.0</td>\n",
       "      <td>85012.0</td>\n",
       "      <td>747008.0</td>\n",
       "      <td>776584.0</td>\n",
       "      <td>73312.0</td>\n",
       "      <td>27768.0</td>\n",
       "      <td>2321256.0</td>\n",
       "      <td>42932.0</td>\n",
       "      <td>47356084.0</td>\n",
       "      <td>1635468.0</td>\n",
       "      <td>13848.0</td>\n",
       "      <td>1224248.0</td>\n",
       "      <td>233924.0</td>\n",
       "      <td>3485600.0</td>\n",
       "      <td>1076040.0</td>\n",
       "      <td>42704.0</td>\n",
       "      <td>94156348.0</td>\n",
       "      <td>37.187679</td>\n",
       "    </tr>\n",
       "    <tr>\n",
       "      <th>1</th>\n",
       "      <td>Lao People's Democratic Republic</td>\n",
       "      <td>10003184.0</td>\n",
       "      <td>22888.0</td>\n",
       "      <td>412408.0</td>\n",
       "      <td>317064.0</td>\n",
       "      <td>47844.0</td>\n",
       "      <td>29896.0</td>\n",
       "      <td>492240.0</td>\n",
       "      <td>55464.0</td>\n",
       "      <td>13990504.0</td>\n",
       "      <td>881840.0</td>\n",
       "      <td>1392.0</td>\n",
       "      <td>158604.0</td>\n",
       "      <td>69472.0</td>\n",
       "      <td>734156.0</td>\n",
       "      <td>113028.0</td>\n",
       "      <td>37160.0</td>\n",
       "      <td>27367144.0</td>\n",
       "      <td>36.551801</td>\n",
       "    </tr>\n",
       "    <tr>\n",
       "      <th>2</th>\n",
       "      <td>Kenya</td>\n",
       "      <td>47473562.0</td>\n",
       "      <td>380192.0</td>\n",
       "      <td>2122778.0</td>\n",
       "      <td>1593398.0</td>\n",
       "      <td>624358.0</td>\n",
       "      <td>328040.0</td>\n",
       "      <td>1059780.0</td>\n",
       "      <td>347126.0</td>\n",
       "      <td>79171040.0</td>\n",
       "      <td>704360.0</td>\n",
       "      <td>222942.0</td>\n",
       "      <td>16273718.0</td>\n",
       "      <td>741516.0</td>\n",
       "      <td>2775730.0</td>\n",
       "      <td>2050882.0</td>\n",
       "      <td>374534.0</td>\n",
       "      <td>156243956.0</td>\n",
       "      <td>30.384255</td>\n",
       "    </tr>\n",
       "    <tr>\n",
       "      <th>3</th>\n",
       "      <td>Tajikistan</td>\n",
       "      <td>5658580.0</td>\n",
       "      <td>47712.0</td>\n",
       "      <td>583220.0</td>\n",
       "      <td>720472.0</td>\n",
       "      <td>37356.0</td>\n",
       "      <td>52556.0</td>\n",
       "      <td>370640.0</td>\n",
       "      <td>97204.0</td>\n",
       "      <td>9661868.0</td>\n",
       "      <td>337056.0</td>\n",
       "      <td>3688.0</td>\n",
       "      <td>314436.0</td>\n",
       "      <td>329636.0</td>\n",
       "      <td>640700.0</td>\n",
       "      <td>216208.0</td>\n",
       "      <td>60156.0</td>\n",
       "      <td>19131488.0</td>\n",
       "      <td>29.577313</td>\n",
       "    </tr>\n",
       "  </tbody>\n",
       "</table>\n",
       "</div>"
      ],
      "text/plain": [
       "Industry                           Country  Agriculture      Arts  \\\n",
       "0                                 Cambodia   35014560.0   85012.0   \n",
       "1         Lao People's Democratic Republic   10003184.0   22888.0   \n",
       "2                                    Kenya   47473562.0  380192.0   \n",
       "3                               Tajikistan    5658580.0   47712.0   \n",
       "\n",
       "Industry  Construction  Education   Finance  Information  Manufacturing  \\\n",
       "0             747008.0   776584.0   73312.0      27768.0      2321256.0   \n",
       "1             412408.0   317064.0   47844.0      29896.0       492240.0   \n",
       "2            2122778.0  1593398.0  624358.0     328040.0      1059780.0   \n",
       "3             583220.0   720472.0   37356.0      52556.0       370640.0   \n",
       "\n",
       "Industry    Mining       Other  Public Admin  Real Estate     Service  \\\n",
       "0          42932.0  47356084.0     1635468.0      13848.0   1224248.0   \n",
       "1          55464.0  13990504.0      881840.0       1392.0    158604.0   \n",
       "2         347126.0  79171040.0      704360.0     222942.0  16273718.0   \n",
       "3          97204.0   9661868.0      337056.0       3688.0    314436.0   \n",
       "\n",
       "Industry  Social Work      Trade  Transportation  Utility Services  \\\n",
       "0            233924.0  3485600.0       1076040.0           42704.0   \n",
       "1             69472.0   734156.0        113028.0           37160.0   \n",
       "2            741516.0  2775730.0       2050882.0          374534.0   \n",
       "3            329636.0   640700.0        216208.0           60156.0   \n",
       "\n",
       "Industry          Sum  AgPercent  \n",
       "0          94156348.0  37.187679  \n",
       "1          27367144.0  36.551801  \n",
       "2         156243956.0  30.384255  \n",
       "3          19131488.0  29.577313  "
      ]
     },
     "execution_count": 333,
     "metadata": {},
     "output_type": "execute_result"
    }
   ],
   "source": [
    "#Top 4 Countries with highest % of population in agriculutre industry\n",
    "Ag_heavy = emp_pivoted.sort_values('AgPercent', ascending = False).reset_index()[0:4]\n",
    "Ag_heavy"
   ]
  },
  {
   "cell_type": "code",
   "execution_count": 334,
   "id": "41a10097",
   "metadata": {},
   "outputs": [
    {
     "data": {
      "image/png": "[encoded data removed]",
      "text/plain": [
       "<Figure size 648x216 with 3 Axes>"
      ]
     },
     "metadata": {
      "needs_background": "light"
     },
     "output_type": "display_data"
    }
   ],
   "source": [
    "#Subset gdp_le to only ag_heavy countries\n",
    "Ag_heavy_ss= gdp_le[gdp_le['Country'].isin(Ag_heavy['Country'])]\n",
    "\n",
    "#Create facetgrid showing Life Expectancy over the years\n",
    "g = sns.FacetGrid(Ag_heavy_ss, col = 'Country')\n",
    "g.map(sns.lineplot, 'Year', 'Life Expectancy');"
   ]
  },
  {
   "cell_type": "code",
   "execution_count": 335,
   "id": "79d6352c",
   "metadata": {},
   "outputs": [
    {
     "data": {
      "image/png": "[encoded data removed]",
      "text/plain": [
       "<Figure size 648x216 with 3 Axes>"
      ]
     },
     "metadata": {
      "needs_background": "light"
     },
     "output_type": "display_data"
    }
   ],
   "source": [
    "#Create facetgrid showing GDP_Per_Capita over the years\n",
    "g = sns.FacetGrid(Ag_heavy_ss, col = 'Country')\n",
    "g.map(sns.lineplot, 'Year', 'GDP_Per_Capita');"
   ]
  },
  {
   "cell_type": "code",
   "execution_count": 337,
   "id": "3f7e23b2",
   "metadata": {},
   "outputs": [],
   "source": [
    "#Find the major industry in each country(industry with highest population of the country)\n",
    "#Find the max of each row\n",
    "emp_pivoted['MajorInd_N'] = emp_pivoted.loc[:,['Agriculture', 'Arts', 'Construction', 'Education',\n",
    "                                             'Finance', 'Information', 'Manufacturing', 'Mining',\n",
    "                                             'Public Admin', 'Real Estate', 'Service',\n",
    "                                             'Social Work', 'Trade', 'Transportation'] ].aggregate(func = np.max, axis=1)\n",
    "\n",
    "#Find the column name corresponding to the max\n",
    "emp_pivoted['MajorInd'] = emp_pivoted.loc[:,'Agriculture':'Transportation'].isin(emp_pivoted['MajorInd_N']).idxmax(1)"
   ]
  },
  {
   "cell_type": "code",
   "execution_count": 338,
   "id": "f2c36bc0",
   "metadata": {
    "scrolled": true
   },
   "outputs": [
    {
     "data": {
      "text/html": [
       "<div>\n",
       "<style scoped>\n",
       "    .dataframe tbody tr th:only-of-type {\n",
       "        vertical-align: middle;\n",
       "    }\n",
       "\n",
       "    .dataframe tbody tr th {\n",
       "        vertical-align: top;\n",
       "    }\n",
       "\n",
       "    .dataframe thead th {\n",
       "        text-align: right;\n",
       "    }\n",
       "</style>\n",
       "<table border=\"1\" class=\"dataframe\">\n",
       "  <thead>\n",
       "    <tr style=\"text-align: right;\">\n",
       "      <th>Industry</th>\n",
       "      <th>Agriculture</th>\n",
       "      <th>Arts</th>\n",
       "      <th>Construction</th>\n",
       "      <th>Education</th>\n",
       "      <th>Finance</th>\n",
       "      <th>Information</th>\n",
       "      <th>Manufacturing</th>\n",
       "      <th>Mining</th>\n",
       "      <th>Other</th>\n",
       "      <th>Public Admin</th>\n",
       "      <th>Real Estate</th>\n",
       "      <th>Service</th>\n",
       "      <th>Social Work</th>\n",
       "      <th>Trade</th>\n",
       "      <th>Transportation</th>\n",
       "      <th>Utility Services</th>\n",
       "      <th>Sum</th>\n",
       "      <th>AgPercent</th>\n",
       "      <th>MajorInd_N</th>\n",
       "      <th>MajorInd</th>\n",
       "    </tr>\n",
       "    <tr>\n",
       "      <th>Country</th>\n",
       "      <th></th>\n",
       "      <th></th>\n",
       "      <th></th>\n",
       "      <th></th>\n",
       "      <th></th>\n",
       "      <th></th>\n",
       "      <th></th>\n",
       "      <th></th>\n",
       "      <th></th>\n",
       "      <th></th>\n",
       "      <th></th>\n",
       "      <th></th>\n",
       "      <th></th>\n",
       "      <th></th>\n",
       "      <th></th>\n",
       "      <th></th>\n",
       "      <th></th>\n",
       "      <th></th>\n",
       "      <th></th>\n",
       "      <th></th>\n",
       "    </tr>\n",
       "  </thead>\n",
       "  <tbody>\n",
       "    <tr>\n",
       "      <th>Albania</th>\n",
       "      <td>706980.0</td>\n",
       "      <td>29428.0</td>\n",
       "      <td>226752.0</td>\n",
       "      <td>203304.0</td>\n",
       "      <td>36864.0</td>\n",
       "      <td>41344.0</td>\n",
       "      <td>238504.0</td>\n",
       "      <td>27188.0</td>\n",
       "      <td>2784020.0</td>\n",
       "      <td>212036.0</td>\n",
       "      <td>1108.0</td>\n",
       "      <td>221352.0</td>\n",
       "      <td>113624.0</td>\n",
       "      <td>351264.0</td>\n",
       "      <td>99196.0</td>\n",
       "      <td>27120.0</td>\n",
       "      <td>5320084.0</td>\n",
       "      <td>13.288888</td>\n",
       "      <td>706980.0</td>\n",
       "      <td>Agriculture</td>\n",
       "    </tr>\n",
       "    <tr>\n",
       "      <th>Armenia</th>\n",
       "      <td>1560992.0</td>\n",
       "      <td>56780.0</td>\n",
       "      <td>272192.0</td>\n",
       "      <td>378968.0</td>\n",
       "      <td>59320.0</td>\n",
       "      <td>74208.0</td>\n",
       "      <td>316012.0</td>\n",
       "      <td>36056.0</td>\n",
       "      <td>4316448.0</td>\n",
       "      <td>324724.0</td>\n",
       "      <td>11740.0</td>\n",
       "      <td>177848.0</td>\n",
       "      <td>169316.0</td>\n",
       "      <td>409336.0</td>\n",
       "      <td>148568.0</td>\n",
       "      <td>83184.0</td>\n",
       "      <td>8395692.0</td>\n",
       "      <td>18.592774</td>\n",
       "      <td>1560992.0</td>\n",
       "      <td>Agriculture</td>\n",
       "    </tr>\n",
       "  </tbody>\n",
       "</table>\n",
       "</div>"
      ],
      "text/plain": [
       "Industry  Agriculture     Arts  Construction  Education  Finance  Information  \\\n",
       "Country                                                                         \n",
       "Albania      706980.0  29428.0      226752.0   203304.0  36864.0      41344.0   \n",
       "Armenia     1560992.0  56780.0      272192.0   378968.0  59320.0      74208.0   \n",
       "\n",
       "Industry  Manufacturing   Mining      Other  Public Admin  Real Estate  \\\n",
       "Country                                                                  \n",
       "Albania        238504.0  27188.0  2784020.0      212036.0       1108.0   \n",
       "Armenia        316012.0  36056.0  4316448.0      324724.0      11740.0   \n",
       "\n",
       "Industry   Service  Social Work     Trade  Transportation  Utility Services  \\\n",
       "Country                                                                       \n",
       "Albania   221352.0     113624.0  351264.0         99196.0           27120.0   \n",
       "Armenia   177848.0     169316.0  409336.0        148568.0           83184.0   \n",
       "\n",
       "Industry        Sum  AgPercent  MajorInd_N     MajorInd  \n",
       "Country                                                  \n",
       "Albania   5320084.0  13.288888    706980.0  Agriculture  \n",
       "Armenia   8395692.0  18.592774   1560992.0  Agriculture  "
      ]
     },
     "execution_count": 338,
     "metadata": {},
     "output_type": "execute_result"
    }
   ],
   "source": [
    "emp_pivoted.head(2)"
   ]
  },
  {
   "cell_type": "code",
   "execution_count": 340,
   "id": "9949b9c7",
   "metadata": {},
   "outputs": [
    {
     "data": {
      "image/png": "[encoded data removed]",
      "text/plain": [
       "<Figure size 432x288 with 1 Axes>"
      ]
     },
     "metadata": {
      "needs_background": "light"
     },
     "output_type": "display_data"
    }
   ],
   "source": [
    "#Bar chart comparing major industries by count\n",
    "emp_pivoted['MajorInd'].value_counts().plot(kind = 'bar');"
   ]
  },
  {
   "cell_type": "markdown",
   "id": "267a93f5",
   "metadata": {},
   "source": [
    "Agriculture is the most common major industry (has the most countries with Agriculture as their major industry). "
   ]
  },
  {
   "cell_type": "code",
   "execution_count": 345,
   "id": "a7deb08d",
   "metadata": {},
   "outputs": [
    {
     "data": {
      "text/html": [
       "<div>\n",
       "<style scoped>\n",
       "    .dataframe tbody tr th:only-of-type {\n",
       "        vertical-align: middle;\n",
       "    }\n",
       "\n",
       "    .dataframe tbody tr th {\n",
       "        vertical-align: top;\n",
       "    }\n",
       "\n",
       "    .dataframe thead th {\n",
       "        text-align: right;\n",
       "    }\n",
       "</style>\n",
       "<table border=\"1\" class=\"dataframe\">\n",
       "  <thead>\n",
       "    <tr style=\"text-align: right;\">\n",
       "      <th>Industry</th>\n",
       "      <th>Agriculture</th>\n",
       "      <th>Arts</th>\n",
       "      <th>Construction</th>\n",
       "      <th>Education</th>\n",
       "      <th>Finance</th>\n",
       "      <th>Information</th>\n",
       "      <th>Manufacturing</th>\n",
       "      <th>Mining</th>\n",
       "      <th>Other</th>\n",
       "      <th>Public Admin</th>\n",
       "      <th>...</th>\n",
       "      <th>Service</th>\n",
       "      <th>Social Work</th>\n",
       "      <th>Trade</th>\n",
       "      <th>Transportation</th>\n",
       "      <th>Utility Services</th>\n",
       "      <th>Sum</th>\n",
       "      <th>AgPercent</th>\n",
       "      <th>MajorInd_N</th>\n",
       "      <th>MajorInd</th>\n",
       "      <th>MajorInd_Percent</th>\n",
       "    </tr>\n",
       "    <tr>\n",
       "      <th>Country</th>\n",
       "      <th></th>\n",
       "      <th></th>\n",
       "      <th></th>\n",
       "      <th></th>\n",
       "      <th></th>\n",
       "      <th></th>\n",
       "      <th></th>\n",
       "      <th></th>\n",
       "      <th></th>\n",
       "      <th></th>\n",
       "      <th></th>\n",
       "      <th></th>\n",
       "      <th></th>\n",
       "      <th></th>\n",
       "      <th></th>\n",
       "      <th></th>\n",
       "      <th></th>\n",
       "      <th></th>\n",
       "      <th></th>\n",
       "      <th></th>\n",
       "      <th></th>\n",
       "    </tr>\n",
       "  </thead>\n",
       "  <tbody>\n",
       "    <tr>\n",
       "      <th>Mayotte</th>\n",
       "      <td>2590.538054</td>\n",
       "      <td>970.624077</td>\n",
       "      <td>1.429774e+04</td>\n",
       "      <td>3.289182e+04</td>\n",
       "      <td>1083.352306</td>\n",
       "      <td>1202.683612</td>\n",
       "      <td>5462.319888</td>\n",
       "      <td>238.608091</td>\n",
       "      <td>1.667756e+05</td>\n",
       "      <td>4.085022e+04</td>\n",
       "      <td>...</td>\n",
       "      <td>1.414611e+04</td>\n",
       "      <td>15883.109258</td>\n",
       "      <td>1.760205e+04</td>\n",
       "      <td>8313.117046</td>\n",
       "      <td>1154.462685</td>\n",
       "      <td>3.243620e+05</td>\n",
       "      <td>0.798656</td>\n",
       "      <td>4.085022e+04</td>\n",
       "      <td>Public Admin</td>\n",
       "      <td>12.594020</td>\n",
       "    </tr>\n",
       "    <tr>\n",
       "      <th>Saudi Arabia</th>\n",
       "      <td>786218.000000</td>\n",
       "      <td>28706.000000</td>\n",
       "      <td>3.298228e+06</td>\n",
       "      <td>2.055394e+06</td>\n",
       "      <td>267900.000000</td>\n",
       "      <td>460852.000000</td>\n",
       "      <td>950572.000000</td>\n",
       "      <td>278822.000000</td>\n",
       "      <td>1.990618e+07</td>\n",
       "      <td>3.368808e+06</td>\n",
       "      <td>...</td>\n",
       "      <td>3.252826e+06</td>\n",
       "      <td>914486.000000</td>\n",
       "      <td>2.398294e+06</td>\n",
       "      <td>616768.000000</td>\n",
       "      <td>230878.000000</td>\n",
       "      <td>3.896892e+07</td>\n",
       "      <td>2.017552</td>\n",
       "      <td>3.368808e+06</td>\n",
       "      <td>Public Admin</td>\n",
       "      <td>8.644859</td>\n",
       "    </tr>\n",
       "  </tbody>\n",
       "</table>\n",
       "<p>2 rows × 21 columns</p>\n",
       "</div>"
      ],
      "text/plain": [
       "Industry        Agriculture          Arts  Construction     Education  \\\n",
       "Country                                                                 \n",
       "Mayotte         2590.538054    970.624077  1.429774e+04  3.289182e+04   \n",
       "Saudi Arabia  786218.000000  28706.000000  3.298228e+06  2.055394e+06   \n",
       "\n",
       "Industry            Finance    Information  Manufacturing         Mining  \\\n",
       "Country                                                                    \n",
       "Mayotte         1083.352306    1202.683612    5462.319888     238.608091   \n",
       "Saudi Arabia  267900.000000  460852.000000  950572.000000  278822.000000   \n",
       "\n",
       "Industry             Other  Public Admin  ...       Service    Social Work  \\\n",
       "Country                                   ...                                \n",
       "Mayotte       1.667756e+05  4.085022e+04  ...  1.414611e+04   15883.109258   \n",
       "Saudi Arabia  1.990618e+07  3.368808e+06  ...  3.252826e+06  914486.000000   \n",
       "\n",
       "Industry             Trade  Transportation  Utility Services           Sum  \\\n",
       "Country                                                                      \n",
       "Mayotte       1.760205e+04     8313.117046       1154.462685  3.243620e+05   \n",
       "Saudi Arabia  2.398294e+06   616768.000000     230878.000000  3.896892e+07   \n",
       "\n",
       "Industry      AgPercent    MajorInd_N      MajorInd MajorInd_Percent  \n",
       "Country                                                               \n",
       "Mayotte        0.798656  4.085022e+04  Public Admin        12.594020  \n",
       "Saudi Arabia   2.017552  3.368808e+06  Public Admin         8.644859  \n",
       "\n",
       "[2 rows x 21 columns]"
      ]
     },
     "execution_count": 345,
     "metadata": {},
     "output_type": "execute_result"
    }
   ],
   "source": [
    "#Countries with Public Administration as the most common industry\n",
    "public_ad = emp_pivoted[emp_pivoted['MajorInd']=='Public Admin']\n",
    "public_ad"
   ]
  },
  {
   "cell_type": "code",
   "execution_count": 347,
   "id": "5dc2d8c0",
   "metadata": {},
   "outputs": [],
   "source": [
    "#I don't know how useful or meaningful this is. \n",
    "#Calculate the percentage of the population in each major industry\n",
    "emp_pivoted['MajorInd_Percent'] = 100*emp_pivoted['MajorInd_N']/emp_pivoted['Sum']"
   ]
  },
  {
   "cell_type": "code",
   "execution_count": 349,
   "id": "1c753423",
   "metadata": {},
   "outputs": [
    {
     "data": {
      "image/png": "[encoded data removed]",
      "text/plain": [
       "<Figure size 432x288 with 1 Axes>"
      ]
     },
     "metadata": {
      "needs_background": "light"
     },
     "output_type": "display_data"
    }
   ],
   "source": [
    "sns.boxplot(data=emp_pivoted, x='MajorInd_Percent', y = 'MajorInd');"
   ]
  },
  {
   "cell_type": "markdown",
   "id": "909dc4b2",
   "metadata": {},
   "source": [
    "The boxplot shows the percentage of population in agriculture has large variability compared to other industries. "
   ]
  },
  {
   "cell_type": "code",
   "execution_count": 352,
   "id": "1bee38fa",
   "metadata": {
    "scrolled": true
   },
   "outputs": [
    {
     "data": {
      "text/html": [
       "<div>\n",
       "<style scoped>\n",
       "    .dataframe tbody tr th:only-of-type {\n",
       "        vertical-align: middle;\n",
       "    }\n",
       "\n",
       "    .dataframe tbody tr th {\n",
       "        vertical-align: top;\n",
       "    }\n",
       "\n",
       "    .dataframe thead th {\n",
       "        text-align: right;\n",
       "    }\n",
       "</style>\n",
       "<table border=\"1\" class=\"dataframe\">\n",
       "  <thead>\n",
       "    <tr style=\"text-align: right;\">\n",
       "      <th></th>\n",
       "      <th>Country</th>\n",
       "      <th>Year</th>\n",
       "      <th>GDP_Per_Capita</th>\n",
       "      <th>Continent</th>\n",
       "      <th>Life Expectancy</th>\n",
       "      <th>AgPercent</th>\n",
       "    </tr>\n",
       "  </thead>\n",
       "  <tbody>\n",
       "    <tr>\n",
       "      <th>0</th>\n",
       "      <td>Albania</td>\n",
       "      <td>2019</td>\n",
       "      <td>13724.058790</td>\n",
       "      <td>Europe</td>\n",
       "      <td>78.573</td>\n",
       "      <td>13.288888</td>\n",
       "    </tr>\n",
       "    <tr>\n",
       "      <th>1</th>\n",
       "      <td>Albania</td>\n",
       "      <td>2018</td>\n",
       "      <td>13366.303065</td>\n",
       "      <td>Europe</td>\n",
       "      <td>78.458</td>\n",
       "      <td>13.288888</td>\n",
       "    </tr>\n",
       "  </tbody>\n",
       "</table>\n",
       "</div>"
      ],
      "text/plain": [
       "   Country  Year  GDP_Per_Capita Continent  Life Expectancy  AgPercent\n",
       "0  Albania  2019    13724.058790    Europe           78.573  13.288888\n",
       "1  Albania  2018    13366.303065    Europe           78.458  13.288888"
      ]
     },
     "execution_count": 352,
     "metadata": {},
     "output_type": "execute_result"
    }
   ],
   "source": [
    "#Create new dataframe only for countries and their population percentage working in Agriculture. \n",
    "emp_agr = emp_pivoted.loc[:, ['AgPercent']]\n",
    "\n",
    "#Merge with gdp_le by Country\n",
    "gdp_le_agr = pd.merge(gdp_le, emp_agr, on = 'Country')\n",
    "\n",
    "gdp_le_agr.head(2)"
   ]
  },
  {
   "cell_type": "code",
   "execution_count": 357,
   "id": "aead0a98",
   "metadata": {},
   "outputs": [
    {
     "data": {
      "text/plain": [
       "-0.7148194734873763"
      ]
     },
     "execution_count": 357,
     "metadata": {},
     "output_type": "execute_result"
    }
   ],
   "source": [
    "#Find correlation between % of population in Agriculture and GDP_Per_Capita\n",
    "gdp_le_agr['AgPercent'].corr(gdp_le_agr['GDP_Per_Capita'])"
   ]
  },
  {
   "cell_type": "markdown",
   "id": "c8643562",
   "metadata": {},
   "source": [
    "There is a strong negative relationship between % of population in agriculture and GDP per capita. "
   ]
  },
  {
   "cell_type": "code",
   "execution_count": 355,
   "id": "f53c728d",
   "metadata": {},
   "outputs": [
    {
     "data": {
      "image/png": "[encoded data removed]",
      "text/plain": [
       "<Figure size 432x288 with 1 Axes>"
      ]
     },
     "metadata": {
      "needs_background": "light"
     },
     "output_type": "display_data"
    }
   ],
   "source": [
    "#Draw scatterplot of AgPercent and GDP per capita.\n",
    "sns.scatterplot(data = gdp_le_agr, x = 'AgPercent', y = 'GDP_Per_Capita');"
   ]
  },
  {
   "cell_type": "code",
   "execution_count": 356,
   "id": "fee9668c",
   "metadata": {},
   "outputs": [],
   "source": [
    "gdp_le_agr['logGDP'] = np.log10(gdp_le_agr['GDP_Per_Capita'])"
   ]
  },
  {
   "cell_type": "code",
   "execution_count": 359,
   "id": "d90bf8ba",
   "metadata": {},
   "outputs": [
    {
     "data": {
      "text/plain": [
       "-0.8961244045419884"
      ]
     },
     "execution_count": 359,
     "metadata": {},
     "output_type": "execute_result"
    }
   ],
   "source": [
    "#Find correlation between % of population in Agriculture and logGDP_Per_Capita\n",
    "gdp_le_agr['AgPercent'].corr(gdp_le_agr['logGDP'])"
   ]
  },
  {
   "cell_type": "markdown",
   "id": "4b07d277",
   "metadata": {},
   "source": [
    "There is a stroger negative correlation between the percentage of the population in agriculture and logGDP."
   ]
  },
  {
   "cell_type": "code",
   "execution_count": 360,
   "id": "511089d6",
   "metadata": {},
   "outputs": [
    {
     "data": {
      "image/png": "[encoded data removed]",
      "text/plain": [
       "<Figure size 432x288 with 1 Axes>"
      ]
     },
     "metadata": {
      "needs_background": "light"
     },
     "output_type": "display_data"
    }
   ],
   "source": [
    "#Draw scatterplot of AgPercent and log GDP per capita.\n",
    "sns.scatterplot(data = gdp_le_agr, x = 'AgPercent', y = 'logGDP');\n"
   ]
  },
  {
   "cell_type": "code",
   "execution_count": 361,
   "id": "9b4fe8b3",
   "metadata": {},
   "outputs": [
    {
     "data": {
      "text/plain": [
       "-0.7857116581660123"
      ]
     },
     "execution_count": 361,
     "metadata": {},
     "output_type": "execute_result"
    }
   ],
   "source": [
    "#Correlation between population % in agriculture and life expectancy\n",
    "gdp_le_agr['AgPercent'].corr(gdp_le_agr['Life Expectancy'])"
   ]
  },
  {
   "cell_type": "markdown",
   "id": "7238b518",
   "metadata": {},
   "source": [
    "There is a negative linear association between the population % in agriculture and life expectancy"
   ]
  },
  {
   "cell_type": "code",
   "execution_count": 362,
   "id": "55b0ffb4",
   "metadata": {},
   "outputs": [
    {
     "data": {
      "image/png": "[encoded data removed]",
      "text/plain": [
       "<Figure size 432x288 with 1 Axes>"
      ]
     },
     "metadata": {
      "needs_background": "light"
     },
     "output_type": "display_data"
    }
   ],
   "source": [
    "#Scatterdiagram of population % in agriculture and life expectancy\n",
    "sns.scatterplot(data = gdp_le_agr, x = 'AgPercent', y = 'Life Expectancy');"
   ]
  },
  {
   "cell_type": "code",
   "execution_count": null,
   "id": "3893d5c4",
   "metadata": {},
   "outputs": [],
   "source": []
  }
 ],
 "metadata": {
  "kernelspec": {
   "display_name": "Python 3",
   "language": "python",
   "name": "python3"
  },
  "language_info": {
   "codemirror_mode": {
    "name": "ipython",
    "version": 3
   },
   "file_extension": ".py",
   "mimetype": "text/x-python",
   "name": "python",
   "nbconvert_exporter": "python",
   "pygments_lexer": "ipython3",
   "version": "3.8.8"
  }
 },
 "nbformat": 4,
 "nbformat_minor": 5
}
