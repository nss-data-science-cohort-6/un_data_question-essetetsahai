{
 "cells": [
  {
   "cell_type": "code",
   "execution_count": 1,
   "id": "70fc6f43-b49c-462a-8b1f-6d1440938301",
   "metadata": {},
   "outputs": [],
   "source": [
    "import pandas as pd\n",
    "import numpy as np\n",
    "import matplotlib.pyplot as plt\n",
    "import seaborn as sns"
   ]
  },
  {
   "cell_type": "code",
   "execution_count": 2,
   "id": "c1cafd01-f079-456f-9f5d-27906aa0405c",
   "metadata": {},
   "outputs": [],
   "source": [
    "gdp_df = pd.read_csv('C:/Users/16156/Documents/NSS_Projects/un_data_question-essetetsahai/data/gdp_per_capita.csv')"
   ]
  },
  {
   "cell_type": "code",
   "execution_count": 3,
   "id": "e9cc9ebd-3350-4942-9841-efc3f719844d",
   "metadata": {},
   "outputs": [
    {
     "data": {
      "text/html": [
       "<div>\n",
       "<style scoped>\n",
       "    .dataframe tbody tr th:only-of-type {\n",
       "        vertical-align: middle;\n",
       "    }\n",
       "\n",
       "    .dataframe tbody tr th {\n",
       "        vertical-align: top;\n",
       "    }\n",
       "\n",
       "    .dataframe thead th {\n",
       "        text-align: right;\n",
       "    }\n",
       "</style>\n",
       "<table border=\"1\" class=\"dataframe\">\n",
       "  <thead>\n",
       "    <tr style=\"text-align: right;\">\n",
       "      <th></th>\n",
       "      <th>Country or Area</th>\n",
       "      <th>Year</th>\n",
       "      <th>Value</th>\n",
       "      <th>Value Footnotes</th>\n",
       "    </tr>\n",
       "  </thead>\n",
       "  <tbody>\n",
       "    <tr>\n",
       "      <th>0</th>\n",
       "      <td>Afghanistan</td>\n",
       "      <td>2019</td>\n",
       "      <td>2065.036398</td>\n",
       "      <td>NaN</td>\n",
       "    </tr>\n",
       "    <tr>\n",
       "      <th>1</th>\n",
       "      <td>Afghanistan</td>\n",
       "      <td>2018</td>\n",
       "      <td>2033.779002</td>\n",
       "      <td>NaN</td>\n",
       "    </tr>\n",
       "    <tr>\n",
       "      <th>2</th>\n",
       "      <td>Afghanistan</td>\n",
       "      <td>2017</td>\n",
       "      <td>2058.383832</td>\n",
       "      <td>NaN</td>\n",
       "    </tr>\n",
       "    <tr>\n",
       "      <th>3</th>\n",
       "      <td>Afghanistan</td>\n",
       "      <td>2016</td>\n",
       "      <td>2057.062164</td>\n",
       "      <td>NaN</td>\n",
       "    </tr>\n",
       "    <tr>\n",
       "      <th>4</th>\n",
       "      <td>Afghanistan</td>\n",
       "      <td>2015</td>\n",
       "      <td>2068.265904</td>\n",
       "      <td>NaN</td>\n",
       "    </tr>\n",
       "    <tr>\n",
       "      <th>5</th>\n",
       "      <td>Afghanistan</td>\n",
       "      <td>2014</td>\n",
       "      <td>2102.385234</td>\n",
       "      <td>NaN</td>\n",
       "    </tr>\n",
       "    <tr>\n",
       "      <th>6</th>\n",
       "      <td>Afghanistan</td>\n",
       "      <td>2013</td>\n",
       "      <td>2116.465454</td>\n",
       "      <td>NaN</td>\n",
       "    </tr>\n",
       "    <tr>\n",
       "      <th>7</th>\n",
       "      <td>Afghanistan</td>\n",
       "      <td>2012</td>\n",
       "      <td>2075.491747</td>\n",
       "      <td>NaN</td>\n",
       "    </tr>\n",
       "    <tr>\n",
       "      <th>8</th>\n",
       "      <td>Afghanistan</td>\n",
       "      <td>2011</td>\n",
       "      <td>1904.559799</td>\n",
       "      <td>NaN</td>\n",
       "    </tr>\n",
       "    <tr>\n",
       "      <th>9</th>\n",
       "      <td>Afghanistan</td>\n",
       "      <td>2010</td>\n",
       "      <td>1957.029338</td>\n",
       "      <td>NaN</td>\n",
       "    </tr>\n",
       "  </tbody>\n",
       "</table>\n",
       "</div>"
      ],
      "text/plain": [
       "  Country or Area  Year        Value  Value Footnotes\n",
       "0     Afghanistan  2019  2065.036398              NaN\n",
       "1     Afghanistan  2018  2033.779002              NaN\n",
       "2     Afghanistan  2017  2058.383832              NaN\n",
       "3     Afghanistan  2016  2057.062164              NaN\n",
       "4     Afghanistan  2015  2068.265904              NaN\n",
       "5     Afghanistan  2014  2102.385234              NaN\n",
       "6     Afghanistan  2013  2116.465454              NaN\n",
       "7     Afghanistan  2012  2075.491747              NaN\n",
       "8     Afghanistan  2011  1904.559799              NaN\n",
       "9     Afghanistan  2010  1957.029338              NaN"
      ]
     },
     "execution_count": 3,
     "metadata": {},
     "output_type": "execute_result"
    }
   ],
   "source": [
    "gdp_df.head(10)"
   ]
  },
  {
   "cell_type": "code",
   "execution_count": 4,
   "id": "5774e9d6-2790-4921-95b5-f1f8b3f83d56",
   "metadata": {},
   "outputs": [
    {
     "data": {
      "text/html": [
       "<div>\n",
       "<style scoped>\n",
       "    .dataframe tbody tr th:only-of-type {\n",
       "        vertical-align: middle;\n",
       "    }\n",
       "\n",
       "    .dataframe tbody tr th {\n",
       "        vertical-align: top;\n",
       "    }\n",
       "\n",
       "    .dataframe thead th {\n",
       "        text-align: right;\n",
       "    }\n",
       "</style>\n",
       "<table border=\"1\" class=\"dataframe\">\n",
       "  <thead>\n",
       "    <tr style=\"text-align: right;\">\n",
       "      <th></th>\n",
       "      <th>Country or Area</th>\n",
       "      <th>Year</th>\n",
       "      <th>Value</th>\n",
       "      <th>Value Footnotes</th>\n",
       "    </tr>\n",
       "  </thead>\n",
       "  <tbody>\n",
       "    <tr>\n",
       "      <th>6865</th>\n",
       "      <td>Zimbabwe</td>\n",
       "      <td>1992</td>\n",
       "      <td>3054.889178</td>\n",
       "      <td>NaN</td>\n",
       "    </tr>\n",
       "    <tr>\n",
       "      <th>6866</th>\n",
       "      <td>Zimbabwe</td>\n",
       "      <td>1991</td>\n",
       "      <td>3426.598094</td>\n",
       "      <td>NaN</td>\n",
       "    </tr>\n",
       "    <tr>\n",
       "      <th>6867</th>\n",
       "      <td>Zimbabwe</td>\n",
       "      <td>1990</td>\n",
       "      <td>3324.348171</td>\n",
       "      <td>NaN</td>\n",
       "    </tr>\n",
       "    <tr>\n",
       "      <th>6868</th>\n",
       "      <td>footnoteSeqID</td>\n",
       "      <td>Footnote</td>\n",
       "      <td>NaN</td>\n",
       "      <td>NaN</td>\n",
       "    </tr>\n",
       "    <tr>\n",
       "      <th>6869</th>\n",
       "      <td>2</td>\n",
       "      <td>Excludes South Sudan after July 9, 2011.</td>\n",
       "      <td>NaN</td>\n",
       "      <td>NaN</td>\n",
       "    </tr>\n",
       "  </tbody>\n",
       "</table>\n",
       "</div>"
      ],
      "text/plain": [
       "     Country or Area                                      Year        Value  \\\n",
       "6865        Zimbabwe                                      1992  3054.889178   \n",
       "6866        Zimbabwe                                      1991  3426.598094   \n",
       "6867        Zimbabwe                                      1990  3324.348171   \n",
       "6868   footnoteSeqID                                  Footnote          NaN   \n",
       "6869               2  Excludes South Sudan after July 9, 2011.          NaN   \n",
       "\n",
       "      Value Footnotes  \n",
       "6865              NaN  \n",
       "6866              NaN  \n",
       "6867              NaN  \n",
       "6868              NaN  \n",
       "6869              NaN  "
      ]
     },
     "execution_count": 4,
     "metadata": {},
     "output_type": "execute_result"
    }
   ],
   "source": [
    "gdp_df.tail(5)"
   ]
  },
  {
   "cell_type": "code",
   "execution_count": 5,
   "id": "ec4fd8fa-b409-43dc-92fd-fc89369a3f19",
   "metadata": {},
   "outputs": [],
   "source": [
    "gdp_df = gdp_df[:-2]"
   ]
  },
  {
   "cell_type": "code",
   "execution_count": 6,
   "id": "834ebb07-b0b1-41dd-9054-5353f25b0701",
   "metadata": {},
   "outputs": [
    {
     "data": {
      "text/html": [
       "<div>\n",
       "<style scoped>\n",
       "    .dataframe tbody tr th:only-of-type {\n",
       "        vertical-align: middle;\n",
       "    }\n",
       "\n",
       "    .dataframe tbody tr th {\n",
       "        vertical-align: top;\n",
       "    }\n",
       "\n",
       "    .dataframe thead th {\n",
       "        text-align: right;\n",
       "    }\n",
       "</style>\n",
       "<table border=\"1\" class=\"dataframe\">\n",
       "  <thead>\n",
       "    <tr style=\"text-align: right;\">\n",
       "      <th></th>\n",
       "      <th>Country or Area</th>\n",
       "      <th>Year</th>\n",
       "      <th>Value</th>\n",
       "      <th>Value Footnotes</th>\n",
       "    </tr>\n",
       "  </thead>\n",
       "  <tbody>\n",
       "    <tr>\n",
       "      <th>6863</th>\n",
       "      <td>Zimbabwe</td>\n",
       "      <td>1994</td>\n",
       "      <td>3263.934978</td>\n",
       "      <td>NaN</td>\n",
       "    </tr>\n",
       "    <tr>\n",
       "      <th>6864</th>\n",
       "      <td>Zimbabwe</td>\n",
       "      <td>1993</td>\n",
       "      <td>3033.504852</td>\n",
       "      <td>NaN</td>\n",
       "    </tr>\n",
       "    <tr>\n",
       "      <th>6865</th>\n",
       "      <td>Zimbabwe</td>\n",
       "      <td>1992</td>\n",
       "      <td>3054.889178</td>\n",
       "      <td>NaN</td>\n",
       "    </tr>\n",
       "    <tr>\n",
       "      <th>6866</th>\n",
       "      <td>Zimbabwe</td>\n",
       "      <td>1991</td>\n",
       "      <td>3426.598094</td>\n",
       "      <td>NaN</td>\n",
       "    </tr>\n",
       "    <tr>\n",
       "      <th>6867</th>\n",
       "      <td>Zimbabwe</td>\n",
       "      <td>1990</td>\n",
       "      <td>3324.348171</td>\n",
       "      <td>NaN</td>\n",
       "    </tr>\n",
       "  </tbody>\n",
       "</table>\n",
       "</div>"
      ],
      "text/plain": [
       "     Country or Area  Year        Value  Value Footnotes\n",
       "6863        Zimbabwe  1994  3263.934978              NaN\n",
       "6864        Zimbabwe  1993  3033.504852              NaN\n",
       "6865        Zimbabwe  1992  3054.889178              NaN\n",
       "6866        Zimbabwe  1991  3426.598094              NaN\n",
       "6867        Zimbabwe  1990  3324.348171              NaN"
      ]
     },
     "execution_count": 6,
     "metadata": {},
     "output_type": "execute_result"
    }
   ],
   "source": [
    "gdp_df.tail(5)"
   ]
  },
  {
   "cell_type": "code",
   "execution_count": 7,
   "id": "edd2f58d-b687-4f5d-bdb1-d54f57597dd2",
   "metadata": {},
   "outputs": [],
   "source": [
    "gdp_df = gdp_df.drop('Value Footnotes', axis = 1)"
   ]
  },
  {
   "cell_type": "code",
   "execution_count": 8,
   "id": "f7910d92-46f4-4ea3-95e2-cc9f3023d2c3",
   "metadata": {},
   "outputs": [
    {
     "data": {
      "text/html": [
       "<div>\n",
       "<style scoped>\n",
       "    .dataframe tbody tr th:only-of-type {\n",
       "        vertical-align: middle;\n",
       "    }\n",
       "\n",
       "    .dataframe tbody tr th {\n",
       "        vertical-align: top;\n",
       "    }\n",
       "\n",
       "    .dataframe thead th {\n",
       "        text-align: right;\n",
       "    }\n",
       "</style>\n",
       "<table border=\"1\" class=\"dataframe\">\n",
       "  <thead>\n",
       "    <tr style=\"text-align: right;\">\n",
       "      <th></th>\n",
       "      <th>Country or Area</th>\n",
       "      <th>Year</th>\n",
       "      <th>Value</th>\n",
       "    </tr>\n",
       "  </thead>\n",
       "  <tbody>\n",
       "    <tr>\n",
       "      <th>0</th>\n",
       "      <td>Afghanistan</td>\n",
       "      <td>2019</td>\n",
       "      <td>2065.036398</td>\n",
       "    </tr>\n",
       "    <tr>\n",
       "      <th>1</th>\n",
       "      <td>Afghanistan</td>\n",
       "      <td>2018</td>\n",
       "      <td>2033.779002</td>\n",
       "    </tr>\n",
       "    <tr>\n",
       "      <th>2</th>\n",
       "      <td>Afghanistan</td>\n",
       "      <td>2017</td>\n",
       "      <td>2058.383832</td>\n",
       "    </tr>\n",
       "    <tr>\n",
       "      <th>3</th>\n",
       "      <td>Afghanistan</td>\n",
       "      <td>2016</td>\n",
       "      <td>2057.062164</td>\n",
       "    </tr>\n",
       "    <tr>\n",
       "      <th>4</th>\n",
       "      <td>Afghanistan</td>\n",
       "      <td>2015</td>\n",
       "      <td>2068.265904</td>\n",
       "    </tr>\n",
       "    <tr>\n",
       "      <th>...</th>\n",
       "      <td>...</td>\n",
       "      <td>...</td>\n",
       "      <td>...</td>\n",
       "    </tr>\n",
       "    <tr>\n",
       "      <th>6863</th>\n",
       "      <td>Zimbabwe</td>\n",
       "      <td>1994</td>\n",
       "      <td>3263.934978</td>\n",
       "    </tr>\n",
       "    <tr>\n",
       "      <th>6864</th>\n",
       "      <td>Zimbabwe</td>\n",
       "      <td>1993</td>\n",
       "      <td>3033.504852</td>\n",
       "    </tr>\n",
       "    <tr>\n",
       "      <th>6865</th>\n",
       "      <td>Zimbabwe</td>\n",
       "      <td>1992</td>\n",
       "      <td>3054.889178</td>\n",
       "    </tr>\n",
       "    <tr>\n",
       "      <th>6866</th>\n",
       "      <td>Zimbabwe</td>\n",
       "      <td>1991</td>\n",
       "      <td>3426.598094</td>\n",
       "    </tr>\n",
       "    <tr>\n",
       "      <th>6867</th>\n",
       "      <td>Zimbabwe</td>\n",
       "      <td>1990</td>\n",
       "      <td>3324.348171</td>\n",
       "    </tr>\n",
       "  </tbody>\n",
       "</table>\n",
       "<p>6868 rows × 3 columns</p>\n",
       "</div>"
      ],
      "text/plain": [
       "     Country or Area  Year        Value\n",
       "0        Afghanistan  2019  2065.036398\n",
       "1        Afghanistan  2018  2033.779002\n",
       "2        Afghanistan  2017  2058.383832\n",
       "3        Afghanistan  2016  2057.062164\n",
       "4        Afghanistan  2015  2068.265904\n",
       "...              ...   ...          ...\n",
       "6863        Zimbabwe  1994  3263.934978\n",
       "6864        Zimbabwe  1993  3033.504852\n",
       "6865        Zimbabwe  1992  3054.889178\n",
       "6866        Zimbabwe  1991  3426.598094\n",
       "6867        Zimbabwe  1990  3324.348171\n",
       "\n",
       "[6868 rows x 3 columns]"
      ]
     },
     "execution_count": 8,
     "metadata": {},
     "output_type": "execute_result"
    }
   ],
   "source": [
    "gdp_df"
   ]
  },
  {
   "cell_type": "code",
   "execution_count": 9,
   "id": "35146357-0dc8-4dda-814b-746b1a63f460",
   "metadata": {},
   "outputs": [],
   "source": [
    "gdp_df = gdp_df.rename(columns ={'Country or Area':'Country', 'Value': 'GDP_Per_Capita'})"
   ]
  },
  {
   "cell_type": "code",
   "execution_count": 10,
   "id": "aeb47da4-ec27-4cb5-bbde-02eef131c0e4",
   "metadata": {
    "scrolled": true
   },
   "outputs": [
    {
     "data": {
      "text/html": [
       "<div>\n",
       "<style scoped>\n",
       "    .dataframe tbody tr th:only-of-type {\n",
       "        vertical-align: middle;\n",
       "    }\n",
       "\n",
       "    .dataframe tbody tr th {\n",
       "        vertical-align: top;\n",
       "    }\n",
       "\n",
       "    .dataframe thead th {\n",
       "        text-align: right;\n",
       "    }\n",
       "</style>\n",
       "<table border=\"1\" class=\"dataframe\">\n",
       "  <thead>\n",
       "    <tr style=\"text-align: right;\">\n",
       "      <th></th>\n",
       "      <th>Country</th>\n",
       "      <th>Year</th>\n",
       "      <th>GDP_Per_Capita</th>\n",
       "    </tr>\n",
       "  </thead>\n",
       "  <tbody>\n",
       "    <tr>\n",
       "      <th>0</th>\n",
       "      <td>Afghanistan</td>\n",
       "      <td>2019</td>\n",
       "      <td>2065.036398</td>\n",
       "    </tr>\n",
       "    <tr>\n",
       "      <th>1</th>\n",
       "      <td>Afghanistan</td>\n",
       "      <td>2018</td>\n",
       "      <td>2033.779002</td>\n",
       "    </tr>\n",
       "    <tr>\n",
       "      <th>2</th>\n",
       "      <td>Afghanistan</td>\n",
       "      <td>2017</td>\n",
       "      <td>2058.383832</td>\n",
       "    </tr>\n",
       "    <tr>\n",
       "      <th>3</th>\n",
       "      <td>Afghanistan</td>\n",
       "      <td>2016</td>\n",
       "      <td>2057.062164</td>\n",
       "    </tr>\n",
       "    <tr>\n",
       "      <th>4</th>\n",
       "      <td>Afghanistan</td>\n",
       "      <td>2015</td>\n",
       "      <td>2068.265904</td>\n",
       "    </tr>\n",
       "    <tr>\n",
       "      <th>...</th>\n",
       "      <td>...</td>\n",
       "      <td>...</td>\n",
       "      <td>...</td>\n",
       "    </tr>\n",
       "    <tr>\n",
       "      <th>6863</th>\n",
       "      <td>Zimbabwe</td>\n",
       "      <td>1994</td>\n",
       "      <td>3263.934978</td>\n",
       "    </tr>\n",
       "    <tr>\n",
       "      <th>6864</th>\n",
       "      <td>Zimbabwe</td>\n",
       "      <td>1993</td>\n",
       "      <td>3033.504852</td>\n",
       "    </tr>\n",
       "    <tr>\n",
       "      <th>6865</th>\n",
       "      <td>Zimbabwe</td>\n",
       "      <td>1992</td>\n",
       "      <td>3054.889178</td>\n",
       "    </tr>\n",
       "    <tr>\n",
       "      <th>6866</th>\n",
       "      <td>Zimbabwe</td>\n",
       "      <td>1991</td>\n",
       "      <td>3426.598094</td>\n",
       "    </tr>\n",
       "    <tr>\n",
       "      <th>6867</th>\n",
       "      <td>Zimbabwe</td>\n",
       "      <td>1990</td>\n",
       "      <td>3324.348171</td>\n",
       "    </tr>\n",
       "  </tbody>\n",
       "</table>\n",
       "<p>6868 rows × 3 columns</p>\n",
       "</div>"
      ],
      "text/plain": [
       "          Country  Year  GDP_Per_Capita\n",
       "0     Afghanistan  2019     2065.036398\n",
       "1     Afghanistan  2018     2033.779002\n",
       "2     Afghanistan  2017     2058.383832\n",
       "3     Afghanistan  2016     2057.062164\n",
       "4     Afghanistan  2015     2068.265904\n",
       "...           ...   ...             ...\n",
       "6863     Zimbabwe  1994     3263.934978\n",
       "6864     Zimbabwe  1993     3033.504852\n",
       "6865     Zimbabwe  1992     3054.889178\n",
       "6866     Zimbabwe  1991     3426.598094\n",
       "6867     Zimbabwe  1990     3324.348171\n",
       "\n",
       "[6868 rows x 3 columns]"
      ]
     },
     "execution_count": 10,
     "metadata": {},
     "output_type": "execute_result"
    }
   ],
   "source": [
    "gdp_df"
   ]
  },
  {
   "cell_type": "markdown",
   "id": "b6a0396c",
   "metadata": {},
   "source": [
    "6. How many rows and columns does gdp_df have? What are the data types of its columns? If any of the columns are not the expected types, figure out why and fix it."
   ]
  },
  {
   "cell_type": "code",
   "execution_count": 11,
   "id": "289ddae2-ac00-4dcd-87fc-b7de5810b2c7",
   "metadata": {},
   "outputs": [
    {
     "data": {
      "text/plain": [
       "(6868, 3)"
      ]
     },
     "execution_count": 11,
     "metadata": {},
     "output_type": "execute_result"
    }
   ],
   "source": [
    "gdp_df.shape"
   ]
  },
  {
   "cell_type": "markdown",
   "id": "e1ac3200",
   "metadata": {},
   "source": [
    "gdp has 6,868 rows and 3 columns"
   ]
  },
  {
   "cell_type": "code",
   "execution_count": 12,
   "id": "b798172a-96eb-4016-a5ec-ec5f811888f3",
   "metadata": {},
   "outputs": [
    {
     "data": {
      "text/plain": [
       "Country            object\n",
       "Year               object\n",
       "GDP_Per_Capita    float64\n",
       "dtype: object"
      ]
     },
     "execution_count": 12,
     "metadata": {},
     "output_type": "execute_result"
    }
   ],
   "source": [
    "gdp_df.dtypes"
   ]
  },
  {
   "cell_type": "code",
   "execution_count": 13,
   "id": "3e727ce2-93c0-4f2a-80e0-ec0491365f42",
   "metadata": {},
   "outputs": [],
   "source": [
    "gdp_df = gdp_df.astype({\"Country\":'string', \"Year\": int})"
   ]
  },
  {
   "cell_type": "code",
   "execution_count": 14,
   "id": "d2ea85d1",
   "metadata": {},
   "outputs": [
    {
     "data": {
      "text/plain": [
       "Country            string\n",
       "Year                int32\n",
       "GDP_Per_Capita    float64\n",
       "dtype: object"
      ]
     },
     "execution_count": 14,
     "metadata": {},
     "output_type": "execute_result"
    }
   ],
   "source": [
    "gdp_df.dtypes"
   ]
  },
  {
   "cell_type": "markdown",
   "id": "b4b12da4",
   "metadata": {},
   "source": [
    "7. Which years are represented in this dataset? Take a look at the number of observations per year. What do you notice?"
   ]
  },
  {
   "cell_type": "code",
   "execution_count": 15,
   "id": "7cb90a90",
   "metadata": {},
   "outputs": [
    {
     "data": {
      "text/plain": [
       "count    6868.000000\n",
       "mean     2004.829354\n",
       "std         8.573176\n",
       "min      1990.000000\n",
       "25%      1998.000000\n",
       "50%      2005.000000\n",
       "75%      2012.000000\n",
       "max      2019.000000\n",
       "Name: Year, dtype: float64"
      ]
     },
     "execution_count": 15,
     "metadata": {},
     "output_type": "execute_result"
    }
   ],
   "source": [
    "gdp_df['Year'].describe()"
   ]
  },
  {
   "cell_type": "code",
   "execution_count": 16,
   "id": "30e23e9a",
   "metadata": {},
   "outputs": [
    {
     "data": {
      "text/plain": [
       "<AxesSubplot:>"
      ]
     },
     "execution_count": 16,
     "metadata": {},
     "output_type": "execute_result"
    },
    {
     "data": {
      "image/png": "[encoded data removed]",
      "text/plain": [
       "<Figure size 432x288 with 1 Axes>"
      ]
     },
     "metadata": {
      "needs_background": "light"
     },
     "output_type": "display_data"
    }
   ],
   "source": [
    "gdp_df['Year'].hist()"
   ]
  },
  {
   "cell_type": "markdown",
   "id": "c0f1e8c7",
   "metadata": {},
   "source": [
    "The histogram shows that there are slightly more observation in the years 2010- 2015"
   ]
  },
  {
   "cell_type": "markdown",
   "id": "6bddfb26",
   "metadata": {},
   "source": [
    "8. How many countries are represented in this dataset? Which countries are least represented in the dataset? Why do you think these countries have so few observations?"
   ]
  },
  {
   "cell_type": "code",
   "execution_count": 17,
   "id": "ed553e00",
   "metadata": {},
   "outputs": [
    {
     "data": {
      "text/plain": [
       "count         6868\n",
       "unique         238\n",
       "top       Kiribati\n",
       "freq            30\n",
       "Name: Country, dtype: object"
      ]
     },
     "execution_count": 17,
     "metadata": {},
     "output_type": "execute_result"
    }
   ],
   "source": [
    "gdp_df['Country'].describe()"
   ]
  },
  {
   "cell_type": "code",
   "execution_count": 18,
   "id": "972e044d",
   "metadata": {},
   "outputs": [
    {
     "data": {
      "text/plain": [
       "Kiribati                          30\n",
       "Brunei                            30\n",
       "St. Vincent and the Grenadines    30\n",
       "Uganda                            30\n",
       "Jamaica                           30\n",
       "                                  ..\n",
       "Nauru                             16\n",
       "Cayman Islands                    13\n",
       "Sint Maarten (Dutch part)         10\n",
       "Turks and Caicos Islands           9\n",
       "Djibouti                           7\n",
       "Name: Country, Length: 238, dtype: Int64"
      ]
     },
     "execution_count": 18,
     "metadata": {},
     "output_type": "execute_result"
    }
   ],
   "source": [
    "gdp_df['Country'].value_counts()"
   ]
  },
  {
   "cell_type": "markdown",
   "id": "de49f149",
   "metadata": {},
   "source": [
    "There are 238 countries represented in the dataset. \n",
    "The countries list represented are Djibouti, Turks and Caicos Islands. They may have few observations because ?? "
   ]
  },
  {
   "cell_type": "markdown",
   "id": "0520f9ca",
   "metadata": {},
   "source": [
    "9. Create a new dataframe by subsetting gdp_df to just the year 2014. Call this new dataframe gdp_2014."
   ]
  },
  {
   "cell_type": "code",
   "execution_count": 19,
   "id": "0c3ac6c0",
   "metadata": {},
   "outputs": [],
   "source": [
    "gdp_2014 = gdp_df[gdp_df['Year'] == 2014]"
   ]
  },
  {
   "cell_type": "code",
   "execution_count": 20,
   "id": "1301529a",
   "metadata": {},
   "outputs": [
    {
     "data": {
      "text/html": [
       "<div>\n",
       "<style scoped>\n",
       "    .dataframe tbody tr th:only-of-type {\n",
       "        vertical-align: middle;\n",
       "    }\n",
       "\n",
       "    .dataframe tbody tr th {\n",
       "        vertical-align: top;\n",
       "    }\n",
       "\n",
       "    .dataframe thead th {\n",
       "        text-align: right;\n",
       "    }\n",
       "</style>\n",
       "<table border=\"1\" class=\"dataframe\">\n",
       "  <thead>\n",
       "    <tr style=\"text-align: right;\">\n",
       "      <th></th>\n",
       "      <th>Country</th>\n",
       "      <th>Year</th>\n",
       "      <th>GDP_Per_Capita</th>\n",
       "    </tr>\n",
       "  </thead>\n",
       "  <tbody>\n",
       "    <tr>\n",
       "      <th>5</th>\n",
       "      <td>Afghanistan</td>\n",
       "      <td>2014</td>\n",
       "      <td>2102.385234</td>\n",
       "    </tr>\n",
       "    <tr>\n",
       "      <th>23</th>\n",
       "      <td>Albania</td>\n",
       "      <td>2014</td>\n",
       "      <td>11623.866679</td>\n",
       "    </tr>\n",
       "    <tr>\n",
       "      <th>53</th>\n",
       "      <td>Algeria</td>\n",
       "      <td>2014</td>\n",
       "      <td>11512.705405</td>\n",
       "    </tr>\n",
       "    <tr>\n",
       "      <th>83</th>\n",
       "      <td>Angola</td>\n",
       "      <td>2014</td>\n",
       "      <td>8239.828837</td>\n",
       "    </tr>\n",
       "    <tr>\n",
       "      <th>113</th>\n",
       "      <td>Antigua and Barbuda</td>\n",
       "      <td>2014</td>\n",
       "      <td>18104.241470</td>\n",
       "    </tr>\n",
       "  </tbody>\n",
       "</table>\n",
       "</div>"
      ],
      "text/plain": [
       "                 Country  Year  GDP_Per_Capita\n",
       "5            Afghanistan  2014     2102.385234\n",
       "23               Albania  2014    11623.866679\n",
       "53               Algeria  2014    11512.705405\n",
       "83                Angola  2014     8239.828837\n",
       "113  Antigua and Barbuda  2014    18104.241470"
      ]
     },
     "execution_count": 20,
     "metadata": {},
     "output_type": "execute_result"
    }
   ],
   "source": [
    "gdp_2014.head()"
   ]
  },
  {
   "cell_type": "markdown",
   "id": "0b6a3eac",
   "metadata": {},
   "source": [
    "10. Use .describe() to find the summary statistics for GDP per capita in 2014."
   ]
  },
  {
   "cell_type": "code",
   "execution_count": 21,
   "id": "507ea571",
   "metadata": {},
   "outputs": [
    {
     "data": {
      "text/plain": [
       "count       238.000000\n",
       "mean      19766.710348\n",
       "std       20983.869623\n",
       "min         822.610458\n",
       "25%        4753.110934\n",
       "50%       12209.385755\n",
       "75%       26803.610474\n",
       "max      156514.133850\n",
       "Name: GDP_Per_Capita, dtype: float64"
      ]
     },
     "execution_count": 21,
     "metadata": {},
     "output_type": "execute_result"
    }
   ],
   "source": [
    "gdp_2014['GDP_Per_Capita'].describe()"
   ]
  },
  {
   "cell_type": "markdown",
   "id": "145eb0d4",
   "metadata": {},
   "source": [
    "11. Create a histogram of GDP Per Capita numbers for 2014 (you may wish to adjust the number of bins for your histogram). How would you describe the shape of the distribution?"
   ]
  },
  {
   "cell_type": "code",
   "execution_count": 22,
   "id": "46863c94",
   "metadata": {},
   "outputs": [
    {
     "data": {
      "image/png": "[encoded data removed]",
      "text/plain": [
       "<Figure size 432x288 with 1 Axes>"
      ]
     },
     "metadata": {
      "needs_background": "light"
     },
     "output_type": "display_data"
    }
   ],
   "source": [
    "plt.hist(gdp_2014['GDP_Per_Capita'], bins = 100);"
   ]
  },
  {
   "cell_type": "markdown",
   "id": "0cb953d7",
   "metadata": {},
   "source": [
    "The distribution is skewed right. "
   ]
  },
  {
   "cell_type": "markdown",
   "id": "57aa8056",
   "metadata": {},
   "source": [
    "12. Find the top 5 counties and bottom 5 countries by GDP per capita in 2014."
   ]
  },
  {
   "cell_type": "code",
   "execution_count": 23,
   "id": "b89ea5ce",
   "metadata": {},
   "outputs": [
    {
     "data": {
      "text/html": [
       "<div>\n",
       "<style scoped>\n",
       "    .dataframe tbody tr th:only-of-type {\n",
       "        vertical-align: middle;\n",
       "    }\n",
       "\n",
       "    .dataframe tbody tr th {\n",
       "        vertical-align: top;\n",
       "    }\n",
       "\n",
       "    .dataframe thead th {\n",
       "        text-align: right;\n",
       "    }\n",
       "</style>\n",
       "<table border=\"1\" class=\"dataframe\">\n",
       "  <thead>\n",
       "    <tr style=\"text-align: right;\">\n",
       "      <th></th>\n",
       "      <th>Country</th>\n",
       "      <th>Year</th>\n",
       "      <th>GDP_Per_Capita</th>\n",
       "    </tr>\n",
       "  </thead>\n",
       "  <tbody>\n",
       "    <tr>\n",
       "      <th>1047</th>\n",
       "      <td>Central African Republic</td>\n",
       "      <td>2014</td>\n",
       "      <td>822.610458</td>\n",
       "    </tr>\n",
       "    <tr>\n",
       "      <th>827</th>\n",
       "      <td>Burundi</td>\n",
       "      <td>2014</td>\n",
       "      <td>886.235777</td>\n",
       "    </tr>\n",
       "    <tr>\n",
       "      <th>3781</th>\n",
       "      <td>Malawi</td>\n",
       "      <td>2014</td>\n",
       "      <td>1027.208496</td>\n",
       "    </tr>\n",
       "    <tr>\n",
       "      <th>1422</th>\n",
       "      <td>Dem. Rep. Congo</td>\n",
       "      <td>2014</td>\n",
       "      <td>1029.790785</td>\n",
       "    </tr>\n",
       "    <tr>\n",
       "      <th>4528</th>\n",
       "      <td>Niger</td>\n",
       "      <td>2014</td>\n",
       "      <td>1127.615541</td>\n",
       "    </tr>\n",
       "    <tr>\n",
       "      <th>...</th>\n",
       "      <td>...</td>\n",
       "      <td>...</td>\n",
       "      <td>...</td>\n",
       "    </tr>\n",
       "    <tr>\n",
       "      <th>561</th>\n",
       "      <td>Bermuda</td>\n",
       "      <td>2014</td>\n",
       "      <td>77361.104881</td>\n",
       "    </tr>\n",
       "    <tr>\n",
       "      <th>5464</th>\n",
       "      <td>Singapore</td>\n",
       "      <td>2014</td>\n",
       "      <td>87808.663157</td>\n",
       "    </tr>\n",
       "    <tr>\n",
       "      <th>5138</th>\n",
       "      <td>Qatar</td>\n",
       "      <td>2014</td>\n",
       "      <td>95578.416973</td>\n",
       "    </tr>\n",
       "    <tr>\n",
       "      <th>3691</th>\n",
       "      <td>Luxembourg</td>\n",
       "      <td>2014</td>\n",
       "      <td>108760.916030</td>\n",
       "    </tr>\n",
       "    <tr>\n",
       "      <th>3721</th>\n",
       "      <td>Macao SAR, China</td>\n",
       "      <td>2014</td>\n",
       "      <td>156514.133850</td>\n",
       "    </tr>\n",
       "  </tbody>\n",
       "</table>\n",
       "<p>238 rows × 3 columns</p>\n",
       "</div>"
      ],
      "text/plain": [
       "                       Country  Year  GDP_Per_Capita\n",
       "1047  Central African Republic  2014      822.610458\n",
       "827                    Burundi  2014      886.235777\n",
       "3781                    Malawi  2014     1027.208496\n",
       "1422           Dem. Rep. Congo  2014     1029.790785\n",
       "4528                     Niger  2014     1127.615541\n",
       "...                        ...   ...             ...\n",
       "561                    Bermuda  2014    77361.104881\n",
       "5464                 Singapore  2014    87808.663157\n",
       "5138                     Qatar  2014    95578.416973\n",
       "3691                Luxembourg  2014   108760.916030\n",
       "3721          Macao SAR, China  2014   156514.133850\n",
       "\n",
       "[238 rows x 3 columns]"
      ]
     },
     "execution_count": 23,
     "metadata": {},
     "output_type": "execute_result"
    }
   ],
   "source": [
    "gdp_2014.sort_values('GDP_Per_Capita')"
   ]
  },
  {
   "cell_type": "markdown",
   "id": "c267b25f",
   "metadata": {},
   "source": [
    "13. Now, return to the full dataset, gdp_df. Pivot the data for 1990 and 2017 (using the pandas .pivot_table() method or another method) so that each row corresponds to a country, each column corresponds to a year, and the values in the table give the GDP_Per_Capita amount. Drop any rows that are missing values for either 1990 or 2017. Save the result to a dataframe named gdp_pivoted."
   ]
  },
  {
   "cell_type": "code",
   "execution_count": 24,
   "id": "ba8c6e56",
   "metadata": {},
   "outputs": [
    {
     "data": {
      "text/html": [
       "<div>\n",
       "<style scoped>\n",
       "    .dataframe tbody tr th:only-of-type {\n",
       "        vertical-align: middle;\n",
       "    }\n",
       "\n",
       "    .dataframe tbody tr th {\n",
       "        vertical-align: top;\n",
       "    }\n",
       "\n",
       "    .dataframe thead th {\n",
       "        text-align: right;\n",
       "    }\n",
       "</style>\n",
       "<table border=\"1\" class=\"dataframe\">\n",
       "  <thead>\n",
       "    <tr style=\"text-align: right;\">\n",
       "      <th>Year</th>\n",
       "      <th>1990</th>\n",
       "      <th>1991</th>\n",
       "      <th>1992</th>\n",
       "      <th>1993</th>\n",
       "      <th>1994</th>\n",
       "      <th>1995</th>\n",
       "      <th>1996</th>\n",
       "      <th>1997</th>\n",
       "      <th>1998</th>\n",
       "      <th>1999</th>\n",
       "      <th>...</th>\n",
       "      <th>2008</th>\n",
       "      <th>2009</th>\n",
       "      <th>2010</th>\n",
       "      <th>2011</th>\n",
       "      <th>2012</th>\n",
       "      <th>2013</th>\n",
       "      <th>2014</th>\n",
       "      <th>2015</th>\n",
       "      <th>2016</th>\n",
       "      <th>2017</th>\n",
       "    </tr>\n",
       "    <tr>\n",
       "      <th>Country</th>\n",
       "      <th></th>\n",
       "      <th></th>\n",
       "      <th></th>\n",
       "      <th></th>\n",
       "      <th></th>\n",
       "      <th></th>\n",
       "      <th></th>\n",
       "      <th></th>\n",
       "      <th></th>\n",
       "      <th></th>\n",
       "      <th></th>\n",
       "      <th></th>\n",
       "      <th></th>\n",
       "      <th></th>\n",
       "      <th></th>\n",
       "      <th></th>\n",
       "      <th></th>\n",
       "      <th></th>\n",
       "      <th></th>\n",
       "      <th></th>\n",
       "      <th></th>\n",
       "    </tr>\n",
       "  </thead>\n",
       "  <tbody>\n",
       "    <tr>\n",
       "      <th>Afghanistan</th>\n",
       "      <td>NaN</td>\n",
       "      <td>NaN</td>\n",
       "      <td>NaN</td>\n",
       "      <td>NaN</td>\n",
       "      <td>NaN</td>\n",
       "      <td>NaN</td>\n",
       "      <td>NaN</td>\n",
       "      <td>NaN</td>\n",
       "      <td>NaN</td>\n",
       "      <td>NaN</td>\n",
       "      <td>...</td>\n",
       "      <td>1484.114729</td>\n",
       "      <td>1758.904043</td>\n",
       "      <td>1957.029338</td>\n",
       "      <td>1904.559799</td>\n",
       "      <td>2075.491747</td>\n",
       "      <td>2116.465454</td>\n",
       "      <td>2102.385234</td>\n",
       "      <td>2068.265904</td>\n",
       "      <td>2057.062164</td>\n",
       "      <td>2058.383832</td>\n",
       "    </tr>\n",
       "    <tr>\n",
       "      <th>Albania</th>\n",
       "      <td>4842.734635</td>\n",
       "      <td>3507.746654</td>\n",
       "      <td>3275.444336</td>\n",
       "      <td>3610.520633</td>\n",
       "      <td>3934.375728</td>\n",
       "      <td>4486.152092</td>\n",
       "      <td>4924.905836</td>\n",
       "      <td>4414.631173</td>\n",
       "      <td>4834.778357</td>\n",
       "      <td>5492.654212</td>\n",
       "      <td>...</td>\n",
       "      <td>9944.233283</td>\n",
       "      <td>10346.864199</td>\n",
       "      <td>10783.816180</td>\n",
       "      <td>11088.087801</td>\n",
       "      <td>11263.851342</td>\n",
       "      <td>11397.576226</td>\n",
       "      <td>11623.866679</td>\n",
       "      <td>11916.422315</td>\n",
       "      <td>12331.127754</td>\n",
       "      <td>12811.759436</td>\n",
       "    </tr>\n",
       "    <tr>\n",
       "      <th>Algeria</th>\n",
       "      <td>8746.352901</td>\n",
       "      <td>8431.385028</td>\n",
       "      <td>8383.770248</td>\n",
       "      <td>8027.376688</td>\n",
       "      <td>7792.085182</td>\n",
       "      <td>7935.179841</td>\n",
       "      <td>8116.962721</td>\n",
       "      <td>8074.759953</td>\n",
       "      <td>8360.150339</td>\n",
       "      <td>8506.345679</td>\n",
       "      <td>...</td>\n",
       "      <td>10796.901320</td>\n",
       "      <td>10782.361398</td>\n",
       "      <td>10970.705149</td>\n",
       "      <td>11078.240516</td>\n",
       "      <td>11233.534926</td>\n",
       "      <td>11319.097949</td>\n",
       "      <td>11512.705405</td>\n",
       "      <td>11696.963757</td>\n",
       "      <td>11826.164666</td>\n",
       "      <td>11737.409353</td>\n",
       "    </tr>\n",
       "    <tr>\n",
       "      <th>Angola</th>\n",
       "      <td>5783.429064</td>\n",
       "      <td>5649.782130</td>\n",
       "      <td>5148.252824</td>\n",
       "      <td>3788.508107</td>\n",
       "      <td>3717.366881</td>\n",
       "      <td>4139.640473</td>\n",
       "      <td>4551.651329</td>\n",
       "      <td>4728.157560</td>\n",
       "      <td>4792.683851</td>\n",
       "      <td>4740.669833</td>\n",
       "      <td>...</td>\n",
       "      <td>7864.375304</td>\n",
       "      <td>7643.493749</td>\n",
       "      <td>7692.434616</td>\n",
       "      <td>7675.445768</td>\n",
       "      <td>8036.690482</td>\n",
       "      <td>8140.527851</td>\n",
       "      <td>8239.828837</td>\n",
       "      <td>8036.410610</td>\n",
       "      <td>7568.997643</td>\n",
       "      <td>7310.901738</td>\n",
       "    </tr>\n",
       "    <tr>\n",
       "      <th>Antigua and Barbuda</th>\n",
       "      <td>15459.551675</td>\n",
       "      <td>15586.896172</td>\n",
       "      <td>15497.464744</td>\n",
       "      <td>15991.764201</td>\n",
       "      <td>16697.248772</td>\n",
       "      <td>15628.396992</td>\n",
       "      <td>16303.723892</td>\n",
       "      <td>16828.640823</td>\n",
       "      <td>17258.964856</td>\n",
       "      <td>17551.305968</td>\n",
       "      <td>...</td>\n",
       "      <td>23130.553123</td>\n",
       "      <td>20046.839017</td>\n",
       "      <td>18205.985369</td>\n",
       "      <td>17604.417102</td>\n",
       "      <td>17965.502327</td>\n",
       "      <td>17641.542533</td>\n",
       "      <td>18104.241470</td>\n",
       "      <td>18595.084904</td>\n",
       "      <td>19417.964819</td>\n",
       "      <td>19840.076123</td>\n",
       "    </tr>\n",
       "  </tbody>\n",
       "</table>\n",
       "<p>5 rows × 28 columns</p>\n",
       "</div>"
      ],
      "text/plain": [
       "Year                         1990          1991          1992          1993  \\\n",
       "Country                                                                       \n",
       "Afghanistan                   NaN           NaN           NaN           NaN   \n",
       "Albania               4842.734635   3507.746654   3275.444336   3610.520633   \n",
       "Algeria               8746.352901   8431.385028   8383.770248   8027.376688   \n",
       "Angola                5783.429064   5649.782130   5148.252824   3788.508107   \n",
       "Antigua and Barbuda  15459.551675  15586.896172  15497.464744  15991.764201   \n",
       "\n",
       "Year                         1994          1995          1996          1997  \\\n",
       "Country                                                                       \n",
       "Afghanistan                   NaN           NaN           NaN           NaN   \n",
       "Albania               3934.375728   4486.152092   4924.905836   4414.631173   \n",
       "Algeria               7792.085182   7935.179841   8116.962721   8074.759953   \n",
       "Angola                3717.366881   4139.640473   4551.651329   4728.157560   \n",
       "Antigua and Barbuda  16697.248772  15628.396992  16303.723892  16828.640823   \n",
       "\n",
       "Year                         1998          1999  ...          2008  \\\n",
       "Country                                          ...                 \n",
       "Afghanistan                   NaN           NaN  ...   1484.114729   \n",
       "Albania               4834.778357   5492.654212  ...   9944.233283   \n",
       "Algeria               8360.150339   8506.345679  ...  10796.901320   \n",
       "Angola                4792.683851   4740.669833  ...   7864.375304   \n",
       "Antigua and Barbuda  17258.964856  17551.305968  ...  23130.553123   \n",
       "\n",
       "Year                         2009          2010          2011          2012  \\\n",
       "Country                                                                       \n",
       "Afghanistan           1758.904043   1957.029338   1904.559799   2075.491747   \n",
       "Albania              10346.864199  10783.816180  11088.087801  11263.851342   \n",
       "Algeria              10782.361398  10970.705149  11078.240516  11233.534926   \n",
       "Angola                7643.493749   7692.434616   7675.445768   8036.690482   \n",
       "Antigua and Barbuda  20046.839017  18205.985369  17604.417102  17965.502327   \n",
       "\n",
       "Year                         2013          2014          2015          2016  \\\n",
       "Country                                                                       \n",
       "Afghanistan           2116.465454   2102.385234   2068.265904   2057.062164   \n",
       "Albania              11397.576226  11623.866679  11916.422315  12331.127754   \n",
       "Algeria              11319.097949  11512.705405  11696.963757  11826.164666   \n",
       "Angola                8140.527851   8239.828837   8036.410610   7568.997643   \n",
       "Antigua and Barbuda  17641.542533  18104.241470  18595.084904  19417.964819   \n",
       "\n",
       "Year                         2017  \n",
       "Country                            \n",
       "Afghanistan           2058.383832  \n",
       "Albania              12811.759436  \n",
       "Algeria              11737.409353  \n",
       "Angola                7310.901738  \n",
       "Antigua and Barbuda  19840.076123  \n",
       "\n",
       "[5 rows x 28 columns]"
      ]
     },
     "execution_count": 24,
     "metadata": {},
     "output_type": "execute_result"
    }
   ],
   "source": [
    "gdp_pivoted = gdp_df[(gdp_df['Year'] >= 1990) & (gdp_df['Year'] <=2017)]\n",
    "gdp_pivoted = gdp_pivoted.pivot(index = 'Country', columns = 'Year', values = 'GDP_Per_Capita')\n",
    "gdp_pivoted.head()"
   ]
  },
  {
   "cell_type": "code",
   "execution_count": 25,
   "id": "ab0081c6",
   "metadata": {},
   "outputs": [
    {
     "data": {
      "text/plain": [
       "(207, 28)"
      ]
     },
     "execution_count": 25,
     "metadata": {},
     "output_type": "execute_result"
    }
   ],
   "source": [
    "#Drop rows\n",
    "\n",
    "gdp_pivoted = gdp_pivoted.dropna()\n",
    "gdp_pivoted.shape"
   ]
  },
  {
   "cell_type": "markdown",
   "id": "cfa25b9b",
   "metadata": {},
   "source": [
    "14. Create a new column in gdp_pivoted named Percent_Change. This column should contain the percent change in GDP_Per_Capita from 1990 to 2017. Hint: Percent change is calculated as 100*(New Value - Old Value) / Old Value."
   ]
  },
  {
   "cell_type": "code",
   "execution_count": 26,
   "id": "997b6a71",
   "metadata": {},
   "outputs": [
    {
     "data": {
      "text/html": [
       "<div>\n",
       "<style scoped>\n",
       "    .dataframe tbody tr th:only-of-type {\n",
       "        vertical-align: middle;\n",
       "    }\n",
       "\n",
       "    .dataframe tbody tr th {\n",
       "        vertical-align: top;\n",
       "    }\n",
       "\n",
       "    .dataframe thead th {\n",
       "        text-align: right;\n",
       "    }\n",
       "</style>\n",
       "<table border=\"1\" class=\"dataframe\">\n",
       "  <thead>\n",
       "    <tr style=\"text-align: right;\">\n",
       "      <th>Year</th>\n",
       "      <th>1990</th>\n",
       "      <th>1991</th>\n",
       "      <th>1992</th>\n",
       "      <th>1993</th>\n",
       "      <th>1994</th>\n",
       "      <th>1995</th>\n",
       "      <th>1996</th>\n",
       "      <th>1997</th>\n",
       "      <th>1998</th>\n",
       "      <th>1999</th>\n",
       "      <th>...</th>\n",
       "      <th>2009</th>\n",
       "      <th>2010</th>\n",
       "      <th>2011</th>\n",
       "      <th>2012</th>\n",
       "      <th>2013</th>\n",
       "      <th>2014</th>\n",
       "      <th>2015</th>\n",
       "      <th>2016</th>\n",
       "      <th>2017</th>\n",
       "      <th>Percent_Change</th>\n",
       "    </tr>\n",
       "    <tr>\n",
       "      <th>Country</th>\n",
       "      <th></th>\n",
       "      <th></th>\n",
       "      <th></th>\n",
       "      <th></th>\n",
       "      <th></th>\n",
       "      <th></th>\n",
       "      <th></th>\n",
       "      <th></th>\n",
       "      <th></th>\n",
       "      <th></th>\n",
       "      <th></th>\n",
       "      <th></th>\n",
       "      <th></th>\n",
       "      <th></th>\n",
       "      <th></th>\n",
       "      <th></th>\n",
       "      <th></th>\n",
       "      <th></th>\n",
       "      <th></th>\n",
       "      <th></th>\n",
       "      <th></th>\n",
       "    </tr>\n",
       "  </thead>\n",
       "  <tbody>\n",
       "    <tr>\n",
       "      <th>Albania</th>\n",
       "      <td>4842.734635</td>\n",
       "      <td>3507.746654</td>\n",
       "      <td>3275.444336</td>\n",
       "      <td>3610.520633</td>\n",
       "      <td>3934.375728</td>\n",
       "      <td>4486.152092</td>\n",
       "      <td>4924.905836</td>\n",
       "      <td>4414.631173</td>\n",
       "      <td>4834.778357</td>\n",
       "      <td>5492.654212</td>\n",
       "      <td>...</td>\n",
       "      <td>10346.864199</td>\n",
       "      <td>10783.816180</td>\n",
       "      <td>11088.087801</td>\n",
       "      <td>11263.851342</td>\n",
       "      <td>11397.576226</td>\n",
       "      <td>11623.866679</td>\n",
       "      <td>11916.422315</td>\n",
       "      <td>12331.127754</td>\n",
       "      <td>12811.759436</td>\n",
       "      <td>164.556297</td>\n",
       "    </tr>\n",
       "    <tr>\n",
       "      <th>Algeria</th>\n",
       "      <td>8746.352901</td>\n",
       "      <td>8431.385028</td>\n",
       "      <td>8383.770248</td>\n",
       "      <td>8027.376688</td>\n",
       "      <td>7792.085182</td>\n",
       "      <td>7935.179841</td>\n",
       "      <td>8116.962721</td>\n",
       "      <td>8074.759953</td>\n",
       "      <td>8360.150339</td>\n",
       "      <td>8506.345679</td>\n",
       "      <td>...</td>\n",
       "      <td>10782.361398</td>\n",
       "      <td>10970.705149</td>\n",
       "      <td>11078.240516</td>\n",
       "      <td>11233.534926</td>\n",
       "      <td>11319.097949</td>\n",
       "      <td>11512.705405</td>\n",
       "      <td>11696.963757</td>\n",
       "      <td>11826.164666</td>\n",
       "      <td>11737.409353</td>\n",
       "      <td>34.197756</td>\n",
       "    </tr>\n",
       "    <tr>\n",
       "      <th>Angola</th>\n",
       "      <td>5783.429064</td>\n",
       "      <td>5649.782130</td>\n",
       "      <td>5148.252824</td>\n",
       "      <td>3788.508107</td>\n",
       "      <td>3717.366881</td>\n",
       "      <td>4139.640473</td>\n",
       "      <td>4551.651329</td>\n",
       "      <td>4728.157560</td>\n",
       "      <td>4792.683851</td>\n",
       "      <td>4740.669833</td>\n",
       "      <td>...</td>\n",
       "      <td>7643.493749</td>\n",
       "      <td>7692.434616</td>\n",
       "      <td>7675.445768</td>\n",
       "      <td>8036.690482</td>\n",
       "      <td>8140.527851</td>\n",
       "      <td>8239.828837</td>\n",
       "      <td>8036.410610</td>\n",
       "      <td>7568.997643</td>\n",
       "      <td>7310.901738</td>\n",
       "      <td>26.411194</td>\n",
       "    </tr>\n",
       "    <tr>\n",
       "      <th>Antigua and Barbuda</th>\n",
       "      <td>15459.551675</td>\n",
       "      <td>15586.896172</td>\n",
       "      <td>15497.464744</td>\n",
       "      <td>15991.764201</td>\n",
       "      <td>16697.248772</td>\n",
       "      <td>15628.396992</td>\n",
       "      <td>16303.723892</td>\n",
       "      <td>16828.640823</td>\n",
       "      <td>17258.964856</td>\n",
       "      <td>17551.305968</td>\n",
       "      <td>...</td>\n",
       "      <td>20046.839017</td>\n",
       "      <td>18205.985369</td>\n",
       "      <td>17604.417102</td>\n",
       "      <td>17965.502327</td>\n",
       "      <td>17641.542533</td>\n",
       "      <td>18104.241470</td>\n",
       "      <td>18595.084904</td>\n",
       "      <td>19417.964819</td>\n",
       "      <td>19840.076123</td>\n",
       "      <td>28.335391</td>\n",
       "    </tr>\n",
       "    <tr>\n",
       "      <th>Arab World</th>\n",
       "      <td>9694.667544</td>\n",
       "      <td>9651.626577</td>\n",
       "      <td>9933.531454</td>\n",
       "      <td>9927.649928</td>\n",
       "      <td>9957.387061</td>\n",
       "      <td>9913.934988</td>\n",
       "      <td>10136.058519</td>\n",
       "      <td>10311.064917</td>\n",
       "      <td>10624.718674</td>\n",
       "      <td>10606.027497</td>\n",
       "      <td>...</td>\n",
       "      <td>13063.094140</td>\n",
       "      <td>13347.112066</td>\n",
       "      <td>13531.438796</td>\n",
       "      <td>14032.961703</td>\n",
       "      <td>14155.876986</td>\n",
       "      <td>14219.562395</td>\n",
       "      <td>14441.436785</td>\n",
       "      <td>14663.549625</td>\n",
       "      <td>14555.474921</td>\n",
       "      <td>50.138980</td>\n",
       "    </tr>\n",
       "  </tbody>\n",
       "</table>\n",
       "<p>5 rows × 29 columns</p>\n",
       "</div>"
      ],
      "text/plain": [
       "Year                         1990          1991          1992          1993  \\\n",
       "Country                                                                       \n",
       "Albania               4842.734635   3507.746654   3275.444336   3610.520633   \n",
       "Algeria               8746.352901   8431.385028   8383.770248   8027.376688   \n",
       "Angola                5783.429064   5649.782130   5148.252824   3788.508107   \n",
       "Antigua and Barbuda  15459.551675  15586.896172  15497.464744  15991.764201   \n",
       "Arab World            9694.667544   9651.626577   9933.531454   9927.649928   \n",
       "\n",
       "Year                         1994          1995          1996          1997  \\\n",
       "Country                                                                       \n",
       "Albania               3934.375728   4486.152092   4924.905836   4414.631173   \n",
       "Algeria               7792.085182   7935.179841   8116.962721   8074.759953   \n",
       "Angola                3717.366881   4139.640473   4551.651329   4728.157560   \n",
       "Antigua and Barbuda  16697.248772  15628.396992  16303.723892  16828.640823   \n",
       "Arab World            9957.387061   9913.934988  10136.058519  10311.064917   \n",
       "\n",
       "Year                         1998          1999  ...          2009  \\\n",
       "Country                                          ...                 \n",
       "Albania               4834.778357   5492.654212  ...  10346.864199   \n",
       "Algeria               8360.150339   8506.345679  ...  10782.361398   \n",
       "Angola                4792.683851   4740.669833  ...   7643.493749   \n",
       "Antigua and Barbuda  17258.964856  17551.305968  ...  20046.839017   \n",
       "Arab World           10624.718674  10606.027497  ...  13063.094140   \n",
       "\n",
       "Year                         2010          2011          2012          2013  \\\n",
       "Country                                                                       \n",
       "Albania              10783.816180  11088.087801  11263.851342  11397.576226   \n",
       "Algeria              10970.705149  11078.240516  11233.534926  11319.097949   \n",
       "Angola                7692.434616   7675.445768   8036.690482   8140.527851   \n",
       "Antigua and Barbuda  18205.985369  17604.417102  17965.502327  17641.542533   \n",
       "Arab World           13347.112066  13531.438796  14032.961703  14155.876986   \n",
       "\n",
       "Year                         2014          2015          2016          2017  \\\n",
       "Country                                                                       \n",
       "Albania              11623.866679  11916.422315  12331.127754  12811.759436   \n",
       "Algeria              11512.705405  11696.963757  11826.164666  11737.409353   \n",
       "Angola                8239.828837   8036.410610   7568.997643   7310.901738   \n",
       "Antigua and Barbuda  18104.241470  18595.084904  19417.964819  19840.076123   \n",
       "Arab World           14219.562395  14441.436785  14663.549625  14555.474921   \n",
       "\n",
       "Year                 Percent_Change  \n",
       "Country                              \n",
       "Albania                  164.556297  \n",
       "Algeria                   34.197756  \n",
       "Angola                    26.411194  \n",
       "Antigua and Barbuda       28.335391  \n",
       "Arab World                50.138980  \n",
       "\n",
       "[5 rows x 29 columns]"
      ]
     },
     "execution_count": 26,
     "metadata": {},
     "output_type": "execute_result"
    }
   ],
   "source": [
    "gdp_pivoted['Percent_Change'] = 100*(gdp_pivoted[2017] - gdp_pivoted[1990])/gdp_pivoted[1990]\n",
    "gdp_pivoted.head()"
   ]
  },
  {
   "cell_type": "markdown",
   "id": "52b2ef79",
   "metadata": {},
   "source": [
    "15. How many countries experienced a negative percent change in GDP per capita from 1990 to 2017?"
   ]
  },
  {
   "cell_type": "code",
   "execution_count": 27,
   "id": "bf2bce24",
   "metadata": {},
   "outputs": [
    {
     "data": {
      "text/plain": [
       "17"
      ]
     },
     "execution_count": 27,
     "metadata": {},
     "output_type": "execute_result"
    }
   ],
   "source": [
    "neg_percent_chg = gdp_pivoted[gdp_pivoted['Percent_Change'] < 0]\n",
    "neg_percent_chg.shape[0]"
   ]
  },
  {
   "cell_type": "markdown",
   "id": "57d84b80",
   "metadata": {},
   "source": [
    "16. Which country had the highest % change in GDP per capita? Create a line plot showing this country's GDP per capita for all years from 1990 to 2017. Create another showing the country with the second highest % change in GDP. How do the trends in these countries compare?\n",
    "    Bonus: Put both line charts on the same plot."
   ]
  },
  {
   "cell_type": "code",
   "execution_count": 28,
   "id": "d9e4f30b",
   "metadata": {},
   "outputs": [],
   "source": [
    "#highest_chg = gdp_pivoted[gdp_pivoted['Percent_Change'] == gdp_pivoted['Percent_Change'].max()]"
   ]
  },
  {
   "cell_type": "code",
   "execution_count": 29,
   "id": "ada86b8d",
   "metadata": {
    "scrolled": true
   },
   "outputs": [],
   "source": [
    "#highest_chg"
   ]
  },
  {
   "cell_type": "code",
   "execution_count": 30,
   "id": "c8298114",
   "metadata": {},
   "outputs": [],
   "source": [
    "EqGu = gdp_df[gdp_df['Country'] == 'Equatorial Guinea']\n"
   ]
  },
  {
   "cell_type": "code",
   "execution_count": 31,
   "id": "ff67da98",
   "metadata": {},
   "outputs": [
    {
     "data": {
      "image/png": "[encoded data removed]",
      "text/plain": [
       "<Figure size 432x288 with 1 Axes>"
      ]
     },
     "metadata": {
      "needs_background": "light"
     },
     "output_type": "display_data"
    }
   ],
   "source": [
    "EqGu.plot(x = 'Year', y = 'GDP_Per_Capita', kind = 'line')\n",
    "#EqGu.plot(x = 'Year', y = 'GDP_Per_Capita', kind = 'line')\n",
    "plt.show()"
   ]
  },
  {
   "cell_type": "code",
   "execution_count": 32,
   "id": "063ef90d",
   "metadata": {},
   "outputs": [],
   "source": [
    "gdp_piv_sorted = gdp_pivoted.sort_values('Percent_Change', ascending = False)"
   ]
  },
  {
   "cell_type": "code",
   "execution_count": 33,
   "id": "65d24ff3",
   "metadata": {},
   "outputs": [
    {
     "data": {
      "text/html": [
       "<div>\n",
       "<style scoped>\n",
       "    .dataframe tbody tr th:only-of-type {\n",
       "        vertical-align: middle;\n",
       "    }\n",
       "\n",
       "    .dataframe tbody tr th {\n",
       "        vertical-align: top;\n",
       "    }\n",
       "\n",
       "    .dataframe thead th {\n",
       "        text-align: right;\n",
       "    }\n",
       "</style>\n",
       "<table border=\"1\" class=\"dataframe\">\n",
       "  <thead>\n",
       "    <tr style=\"text-align: right;\">\n",
       "      <th>Year</th>\n",
       "      <th>1990</th>\n",
       "      <th>1991</th>\n",
       "      <th>1992</th>\n",
       "      <th>1993</th>\n",
       "      <th>1994</th>\n",
       "      <th>1995</th>\n",
       "      <th>1996</th>\n",
       "      <th>1997</th>\n",
       "      <th>1998</th>\n",
       "      <th>1999</th>\n",
       "      <th>...</th>\n",
       "      <th>2009</th>\n",
       "      <th>2010</th>\n",
       "      <th>2011</th>\n",
       "      <th>2012</th>\n",
       "      <th>2013</th>\n",
       "      <th>2014</th>\n",
       "      <th>2015</th>\n",
       "      <th>2016</th>\n",
       "      <th>2017</th>\n",
       "      <th>Percent_Change</th>\n",
       "    </tr>\n",
       "    <tr>\n",
       "      <th>Country</th>\n",
       "      <th></th>\n",
       "      <th></th>\n",
       "      <th></th>\n",
       "      <th></th>\n",
       "      <th></th>\n",
       "      <th></th>\n",
       "      <th></th>\n",
       "      <th></th>\n",
       "      <th></th>\n",
       "      <th></th>\n",
       "      <th></th>\n",
       "      <th></th>\n",
       "      <th></th>\n",
       "      <th></th>\n",
       "      <th></th>\n",
       "      <th></th>\n",
       "      <th></th>\n",
       "      <th></th>\n",
       "      <th></th>\n",
       "      <th></th>\n",
       "      <th></th>\n",
       "    </tr>\n",
       "  </thead>\n",
       "  <tbody>\n",
       "    <tr>\n",
       "      <th>Equatorial Guinea</th>\n",
       "      <td>1039.985049</td>\n",
       "      <td>996.857617</td>\n",
       "      <td>1299.934196</td>\n",
       "      <td>1395.403468</td>\n",
       "      <td>1572.065607</td>\n",
       "      <td>1781.264878</td>\n",
       "      <td>2857.452417</td>\n",
       "      <td>6868.480369</td>\n",
       "      <td>8166.052518</td>\n",
       "      <td>9851.190917</td>\n",
       "      <td>...</td>\n",
       "      <td>39913.732604</td>\n",
       "      <td>34732.255956</td>\n",
       "      <td>35378.023284</td>\n",
       "      <td>36671.357436</td>\n",
       "      <td>33678.706547</td>\n",
       "      <td>32436.466793</td>\n",
       "      <td>28313.602763</td>\n",
       "      <td>24827.072978</td>\n",
       "      <td>22551.083246</td>\n",
       "      <td>2068.404561</td>\n",
       "    </tr>\n",
       "    <tr>\n",
       "      <th>China</th>\n",
       "      <td>1423.896348</td>\n",
       "      <td>1534.705272</td>\n",
       "      <td>1731.657215</td>\n",
       "      <td>1949.534268</td>\n",
       "      <td>2178.924057</td>\n",
       "      <td>2391.477116</td>\n",
       "      <td>2601.363426</td>\n",
       "      <td>2812.711135</td>\n",
       "      <td>3004.427342</td>\n",
       "      <td>3206.730026</td>\n",
       "      <td>...</td>\n",
       "      <td>8069.354638</td>\n",
       "      <td>8884.588031</td>\n",
       "      <td>9686.615290</td>\n",
       "      <td>10397.561415</td>\n",
       "      <td>11149.867559</td>\n",
       "      <td>11917.338496</td>\n",
       "      <td>12691.821553</td>\n",
       "      <td>13487.822482</td>\n",
       "      <td>14344.421239</td>\n",
       "      <td>907.406281</td>\n",
       "    </tr>\n",
       "    <tr>\n",
       "      <th>Myanmar</th>\n",
       "      <td>619.645144</td>\n",
       "      <td>607.457440</td>\n",
       "      <td>658.107935</td>\n",
       "      <td>689.908458</td>\n",
       "      <td>733.066003</td>\n",
       "      <td>774.746266</td>\n",
       "      <td>814.446285</td>\n",
       "      <td>849.486563</td>\n",
       "      <td>887.804748</td>\n",
       "      <td>972.821899</td>\n",
       "      <td>...</td>\n",
       "      <td>2874.780227</td>\n",
       "      <td>3129.920812</td>\n",
       "      <td>3279.665296</td>\n",
       "      <td>3491.185032</td>\n",
       "      <td>3753.322305</td>\n",
       "      <td>4020.037369</td>\n",
       "      <td>4268.500515</td>\n",
       "      <td>4482.924518</td>\n",
       "      <td>4739.910118</td>\n",
       "      <td>664.939443</td>\n",
       "    </tr>\n",
       "    <tr>\n",
       "      <th>East Asia &amp; Pacific (excluding high income)</th>\n",
       "      <td>2173.223895</td>\n",
       "      <td>2303.744681</td>\n",
       "      <td>2501.497357</td>\n",
       "      <td>2722.465021</td>\n",
       "      <td>2959.511216</td>\n",
       "      <td>3200.112095</td>\n",
       "      <td>3436.857940</td>\n",
       "      <td>3619.194664</td>\n",
       "      <td>3601.103502</td>\n",
       "      <td>3768.941584</td>\n",
       "      <td>...</td>\n",
       "      <td>7840.199166</td>\n",
       "      <td>8526.339106</td>\n",
       "      <td>9156.623442</td>\n",
       "      <td>9765.626608</td>\n",
       "      <td>10377.866125</td>\n",
       "      <td>10993.913250</td>\n",
       "      <td>11624.944284</td>\n",
       "      <td>12276.813285</td>\n",
       "      <td>12986.322227</td>\n",
       "      <td>497.560254</td>\n",
       "    </tr>\n",
       "    <tr>\n",
       "      <th>East Asia &amp; Pacific (IDA &amp; IBRD)</th>\n",
       "      <td>2196.950288</td>\n",
       "      <td>2328.906789</td>\n",
       "      <td>2528.879651</td>\n",
       "      <td>2752.347920</td>\n",
       "      <td>2992.057409</td>\n",
       "      <td>3235.326758</td>\n",
       "      <td>3474.644494</td>\n",
       "      <td>3658.896664</td>\n",
       "      <td>3640.498262</td>\n",
       "      <td>3810.078820</td>\n",
       "      <td>...</td>\n",
       "      <td>7924.615987</td>\n",
       "      <td>8617.889497</td>\n",
       "      <td>9254.695552</td>\n",
       "      <td>9869.953555</td>\n",
       "      <td>10488.450390</td>\n",
       "      <td>11110.766274</td>\n",
       "      <td>11748.180530</td>\n",
       "      <td>12406.572927</td>\n",
       "      <td>13123.151792</td>\n",
       "      <td>497.334945</td>\n",
       "    </tr>\n",
       "    <tr>\n",
       "      <th>...</th>\n",
       "      <td>...</td>\n",
       "      <td>...</td>\n",
       "      <td>...</td>\n",
       "      <td>...</td>\n",
       "      <td>...</td>\n",
       "      <td>...</td>\n",
       "      <td>...</td>\n",
       "      <td>...</td>\n",
       "      <td>...</td>\n",
       "      <td>...</td>\n",
       "      <td>...</td>\n",
       "      <td>...</td>\n",
       "      <td>...</td>\n",
       "      <td>...</td>\n",
       "      <td>...</td>\n",
       "      <td>...</td>\n",
       "      <td>...</td>\n",
       "      <td>...</td>\n",
       "      <td>...</td>\n",
       "      <td>...</td>\n",
       "      <td>...</td>\n",
       "    </tr>\n",
       "    <tr>\n",
       "      <th>Central African Republic</th>\n",
       "      <td>1201.677234</td>\n",
       "      <td>1165.239450</td>\n",
       "      <td>1060.638246</td>\n",
       "      <td>1033.830619</td>\n",
       "      <td>1053.746606</td>\n",
       "      <td>1098.896607</td>\n",
       "      <td>1027.650659</td>\n",
       "      <td>1055.256506</td>\n",
       "      <td>1078.451654</td>\n",
       "      <td>1091.362361</td>\n",
       "      <td>...</td>\n",
       "      <td>1161.189475</td>\n",
       "      <td>1201.351375</td>\n",
       "      <td>1242.715645</td>\n",
       "      <td>1300.287637</td>\n",
       "      <td>824.943832</td>\n",
       "      <td>822.610458</td>\n",
       "      <td>852.749426</td>\n",
       "      <td>884.494417</td>\n",
       "      <td>912.802052</td>\n",
       "      <td>-24.039332</td>\n",
       "    </tr>\n",
       "    <tr>\n",
       "      <th>Ukraine</th>\n",
       "      <td>15751.722440</td>\n",
       "      <td>14396.632702</td>\n",
       "      <td>12962.935705</td>\n",
       "      <td>11112.677652</td>\n",
       "      <td>8606.613502</td>\n",
       "      <td>7616.545726</td>\n",
       "      <td>6915.978305</td>\n",
       "      <td>6769.916116</td>\n",
       "      <td>6700.900302</td>\n",
       "      <td>6750.840855</td>\n",
       "      <td>...</td>\n",
       "      <td>11298.390956</td>\n",
       "      <td>11778.313696</td>\n",
       "      <td>12466.807792</td>\n",
       "      <td>12527.465501</td>\n",
       "      <td>12552.669761</td>\n",
       "      <td>12408.951598</td>\n",
       "      <td>11237.074457</td>\n",
       "      <td>11534.638002</td>\n",
       "      <td>11871.123624</td>\n",
       "      <td>-24.636028</td>\n",
       "    </tr>\n",
       "    <tr>\n",
       "      <th>Burundi</th>\n",
       "      <td>1184.842440</td>\n",
       "      <td>1215.886531</td>\n",
       "      <td>1202.107139</td>\n",
       "      <td>1105.228876</td>\n",
       "      <td>1044.715537</td>\n",
       "      <td>947.822368</td>\n",
       "      <td>861.482737</td>\n",
       "      <td>839.196845</td>\n",
       "      <td>870.044082</td>\n",
       "      <td>850.048016</td>\n",
       "      <td>...</td>\n",
       "      <td>831.564131</td>\n",
       "      <td>846.169527</td>\n",
       "      <td>852.502622</td>\n",
       "      <td>862.716086</td>\n",
       "      <td>877.274160</td>\n",
       "      <td>886.235777</td>\n",
       "      <td>825.205986</td>\n",
       "      <td>794.604574</td>\n",
       "      <td>773.571858</td>\n",
       "      <td>-34.710993</td>\n",
       "    </tr>\n",
       "    <tr>\n",
       "      <th>United Arab Emirates</th>\n",
       "      <td>111454.360446</td>\n",
       "      <td>106103.881293</td>\n",
       "      <td>103470.974979</td>\n",
       "      <td>98978.292429</td>\n",
       "      <td>100212.806805</td>\n",
       "      <td>101571.370612</td>\n",
       "      <td>102211.437571</td>\n",
       "      <td>105108.956919</td>\n",
       "      <td>100100.435658</td>\n",
       "      <td>97698.372700</td>\n",
       "      <td>...</td>\n",
       "      <td>58374.585844</td>\n",
       "      <td>54921.839814</td>\n",
       "      <td>56123.486157</td>\n",
       "      <td>57390.713079</td>\n",
       "      <td>59921.734803</td>\n",
       "      <td>62378.657439</td>\n",
       "      <td>65218.792273</td>\n",
       "      <td>66510.867462</td>\n",
       "      <td>67183.626557</td>\n",
       "      <td>-39.720953</td>\n",
       "    </tr>\n",
       "    <tr>\n",
       "      <th>Dem. Rep. Congo</th>\n",
       "      <td>1819.723315</td>\n",
       "      <td>1606.326515</td>\n",
       "      <td>1382.762098</td>\n",
       "      <td>1150.836259</td>\n",
       "      <td>1066.468119</td>\n",
       "      <td>1039.752990</td>\n",
       "      <td>1000.689081</td>\n",
       "      <td>921.422664</td>\n",
       "      <td>885.785915</td>\n",
       "      <td>828.209292</td>\n",
       "      <td>...</td>\n",
       "      <td>835.611696</td>\n",
       "      <td>865.684027</td>\n",
       "      <td>894.826518</td>\n",
       "      <td>926.787843</td>\n",
       "      <td>972.455893</td>\n",
       "      <td>1029.790785</td>\n",
       "      <td>1065.242410</td>\n",
       "      <td>1055.572955</td>\n",
       "      <td>1059.810775</td>\n",
       "      <td>-41.759785</td>\n",
       "    </tr>\n",
       "  </tbody>\n",
       "</table>\n",
       "<p>207 rows × 29 columns</p>\n",
       "</div>"
      ],
      "text/plain": [
       "Year                                                  1990           1991  \\\n",
       "Country                                                                     \n",
       "Equatorial Guinea                              1039.985049     996.857617   \n",
       "China                                          1423.896348    1534.705272   \n",
       "Myanmar                                         619.645144     607.457440   \n",
       "East Asia & Pacific (excluding high income)    2173.223895    2303.744681   \n",
       "East Asia & Pacific (IDA & IBRD)               2196.950288    2328.906789   \n",
       "...                                                    ...            ...   \n",
       "Central African Republic                       1201.677234    1165.239450   \n",
       "Ukraine                                       15751.722440   14396.632702   \n",
       "Burundi                                        1184.842440    1215.886531   \n",
       "United Arab Emirates                         111454.360446  106103.881293   \n",
       "Dem. Rep. Congo                                1819.723315    1606.326515   \n",
       "\n",
       "Year                                                  1992          1993  \\\n",
       "Country                                                                    \n",
       "Equatorial Guinea                              1299.934196   1395.403468   \n",
       "China                                          1731.657215   1949.534268   \n",
       "Myanmar                                         658.107935    689.908458   \n",
       "East Asia & Pacific (excluding high income)    2501.497357   2722.465021   \n",
       "East Asia & Pacific (IDA & IBRD)               2528.879651   2752.347920   \n",
       "...                                                    ...           ...   \n",
       "Central African Republic                       1060.638246   1033.830619   \n",
       "Ukraine                                       12962.935705  11112.677652   \n",
       "Burundi                                        1202.107139   1105.228876   \n",
       "United Arab Emirates                         103470.974979  98978.292429   \n",
       "Dem. Rep. Congo                                1382.762098   1150.836259   \n",
       "\n",
       "Year                                                  1994           1995  \\\n",
       "Country                                                                     \n",
       "Equatorial Guinea                              1572.065607    1781.264878   \n",
       "China                                          2178.924057    2391.477116   \n",
       "Myanmar                                         733.066003     774.746266   \n",
       "East Asia & Pacific (excluding high income)    2959.511216    3200.112095   \n",
       "East Asia & Pacific (IDA & IBRD)               2992.057409    3235.326758   \n",
       "...                                                    ...            ...   \n",
       "Central African Republic                       1053.746606    1098.896607   \n",
       "Ukraine                                        8606.613502    7616.545726   \n",
       "Burundi                                        1044.715537     947.822368   \n",
       "United Arab Emirates                         100212.806805  101571.370612   \n",
       "Dem. Rep. Congo                                1066.468119    1039.752990   \n",
       "\n",
       "Year                                                  1996           1997  \\\n",
       "Country                                                                     \n",
       "Equatorial Guinea                              2857.452417    6868.480369   \n",
       "China                                          2601.363426    2812.711135   \n",
       "Myanmar                                         814.446285     849.486563   \n",
       "East Asia & Pacific (excluding high income)    3436.857940    3619.194664   \n",
       "East Asia & Pacific (IDA & IBRD)               3474.644494    3658.896664   \n",
       "...                                                    ...            ...   \n",
       "Central African Republic                       1027.650659    1055.256506   \n",
       "Ukraine                                        6915.978305    6769.916116   \n",
       "Burundi                                         861.482737     839.196845   \n",
       "United Arab Emirates                         102211.437571  105108.956919   \n",
       "Dem. Rep. Congo                                1000.689081     921.422664   \n",
       "\n",
       "Year                                                  1998          1999  ...  \\\n",
       "Country                                                                   ...   \n",
       "Equatorial Guinea                              8166.052518   9851.190917  ...   \n",
       "China                                          3004.427342   3206.730026  ...   \n",
       "Myanmar                                         887.804748    972.821899  ...   \n",
       "East Asia & Pacific (excluding high income)    3601.103502   3768.941584  ...   \n",
       "East Asia & Pacific (IDA & IBRD)               3640.498262   3810.078820  ...   \n",
       "...                                                    ...           ...  ...   \n",
       "Central African Republic                       1078.451654   1091.362361  ...   \n",
       "Ukraine                                        6700.900302   6750.840855  ...   \n",
       "Burundi                                         870.044082    850.048016  ...   \n",
       "United Arab Emirates                         100100.435658  97698.372700  ...   \n",
       "Dem. Rep. Congo                                 885.785915    828.209292  ...   \n",
       "\n",
       "Year                                                 2009          2010  \\\n",
       "Country                                                                   \n",
       "Equatorial Guinea                            39913.732604  34732.255956   \n",
       "China                                         8069.354638   8884.588031   \n",
       "Myanmar                                       2874.780227   3129.920812   \n",
       "East Asia & Pacific (excluding high income)   7840.199166   8526.339106   \n",
       "East Asia & Pacific (IDA & IBRD)              7924.615987   8617.889497   \n",
       "...                                                   ...           ...   \n",
       "Central African Republic                      1161.189475   1201.351375   \n",
       "Ukraine                                      11298.390956  11778.313696   \n",
       "Burundi                                        831.564131    846.169527   \n",
       "United Arab Emirates                         58374.585844  54921.839814   \n",
       "Dem. Rep. Congo                                835.611696    865.684027   \n",
       "\n",
       "Year                                                 2011          2012  \\\n",
       "Country                                                                   \n",
       "Equatorial Guinea                            35378.023284  36671.357436   \n",
       "China                                         9686.615290  10397.561415   \n",
       "Myanmar                                       3279.665296   3491.185032   \n",
       "East Asia & Pacific (excluding high income)   9156.623442   9765.626608   \n",
       "East Asia & Pacific (IDA & IBRD)              9254.695552   9869.953555   \n",
       "...                                                   ...           ...   \n",
       "Central African Republic                      1242.715645   1300.287637   \n",
       "Ukraine                                      12466.807792  12527.465501   \n",
       "Burundi                                        852.502622    862.716086   \n",
       "United Arab Emirates                         56123.486157  57390.713079   \n",
       "Dem. Rep. Congo                                894.826518    926.787843   \n",
       "\n",
       "Year                                                 2013          2014  \\\n",
       "Country                                                                   \n",
       "Equatorial Guinea                            33678.706547  32436.466793   \n",
       "China                                        11149.867559  11917.338496   \n",
       "Myanmar                                       3753.322305   4020.037369   \n",
       "East Asia & Pacific (excluding high income)  10377.866125  10993.913250   \n",
       "East Asia & Pacific (IDA & IBRD)             10488.450390  11110.766274   \n",
       "...                                                   ...           ...   \n",
       "Central African Republic                       824.943832    822.610458   \n",
       "Ukraine                                      12552.669761  12408.951598   \n",
       "Burundi                                        877.274160    886.235777   \n",
       "United Arab Emirates                         59921.734803  62378.657439   \n",
       "Dem. Rep. Congo                                972.455893   1029.790785   \n",
       "\n",
       "Year                                                 2015          2016  \\\n",
       "Country                                                                   \n",
       "Equatorial Guinea                            28313.602763  24827.072978   \n",
       "China                                        12691.821553  13487.822482   \n",
       "Myanmar                                       4268.500515   4482.924518   \n",
       "East Asia & Pacific (excluding high income)  11624.944284  12276.813285   \n",
       "East Asia & Pacific (IDA & IBRD)             11748.180530  12406.572927   \n",
       "...                                                   ...           ...   \n",
       "Central African Republic                       852.749426    884.494417   \n",
       "Ukraine                                      11237.074457  11534.638002   \n",
       "Burundi                                        825.205986    794.604574   \n",
       "United Arab Emirates                         65218.792273  66510.867462   \n",
       "Dem. Rep. Congo                               1065.242410   1055.572955   \n",
       "\n",
       "Year                                                 2017  Percent_Change  \n",
       "Country                                                                    \n",
       "Equatorial Guinea                            22551.083246     2068.404561  \n",
       "China                                        14344.421239      907.406281  \n",
       "Myanmar                                       4739.910118      664.939443  \n",
       "East Asia & Pacific (excluding high income)  12986.322227      497.560254  \n",
       "East Asia & Pacific (IDA & IBRD)             13123.151792      497.334945  \n",
       "...                                                   ...             ...  \n",
       "Central African Republic                       912.802052      -24.039332  \n",
       "Ukraine                                      11871.123624      -24.636028  \n",
       "Burundi                                        773.571858      -34.710993  \n",
       "United Arab Emirates                         67183.626557      -39.720953  \n",
       "Dem. Rep. Congo                               1059.810775      -41.759785  \n",
       "\n",
       "[207 rows x 29 columns]"
      ]
     },
     "execution_count": 33,
     "metadata": {},
     "output_type": "execute_result"
    }
   ],
   "source": [
    "gdp_piv_sorted"
   ]
  },
  {
   "cell_type": "code",
   "execution_count": 34,
   "id": "794166b1",
   "metadata": {},
   "outputs": [],
   "source": [
    "gdp_piv_sorted_ind = gdp_piv_sorted.reset_index()"
   ]
  },
  {
   "cell_type": "code",
   "execution_count": 35,
   "id": "b725d0ec",
   "metadata": {},
   "outputs": [
    {
     "data": {
      "text/plain": [
       "'Equatorial Guinea'"
      ]
     },
     "execution_count": 35,
     "metadata": {},
     "output_type": "execute_result"
    }
   ],
   "source": [
    "highest_chg_country = gdp_piv_sorted_ind['Country'][0]\n",
    "highest_chg_country"
   ]
  },
  {
   "cell_type": "code",
   "execution_count": 36,
   "id": "35c35950",
   "metadata": {},
   "outputs": [
    {
     "data": {
      "text/plain": [
       "'China'"
      ]
     },
     "execution_count": 36,
     "metadata": {},
     "output_type": "execute_result"
    }
   ],
   "source": [
    "scd_highest_chg_country = gdp_piv_sorted_ind['Country'][1]\n",
    "scd_highest_chg_country"
   ]
  },
  {
   "cell_type": "code",
   "execution_count": 37,
   "id": "24205730",
   "metadata": {
    "scrolled": true
   },
   "outputs": [
    {
     "data": {
      "text/html": [
       "<div>\n",
       "<style scoped>\n",
       "    .dataframe tbody tr th:only-of-type {\n",
       "        vertical-align: middle;\n",
       "    }\n",
       "\n",
       "    .dataframe tbody tr th {\n",
       "        vertical-align: top;\n",
       "    }\n",
       "\n",
       "    .dataframe thead th {\n",
       "        text-align: right;\n",
       "    }\n",
       "</style>\n",
       "<table border=\"1\" class=\"dataframe\">\n",
       "  <thead>\n",
       "    <tr style=\"text-align: right;\">\n",
       "      <th></th>\n",
       "      <th>Country</th>\n",
       "      <th>Year</th>\n",
       "      <th>GDP_Per_Capita</th>\n",
       "    </tr>\n",
       "  </thead>\n",
       "  <tbody>\n",
       "    <tr>\n",
       "      <th>1162</th>\n",
       "      <td>China</td>\n",
       "      <td>2019</td>\n",
       "      <td>16092.300767</td>\n",
       "    </tr>\n",
       "    <tr>\n",
       "      <th>1163</th>\n",
       "      <td>China</td>\n",
       "      <td>2018</td>\n",
       "      <td>15242.985858</td>\n",
       "    </tr>\n",
       "    <tr>\n",
       "      <th>1164</th>\n",
       "      <td>China</td>\n",
       "      <td>2017</td>\n",
       "      <td>14344.421239</td>\n",
       "    </tr>\n",
       "    <tr>\n",
       "      <th>1165</th>\n",
       "      <td>China</td>\n",
       "      <td>2016</td>\n",
       "      <td>13487.822482</td>\n",
       "    </tr>\n",
       "    <tr>\n",
       "      <th>1166</th>\n",
       "      <td>China</td>\n",
       "      <td>2015</td>\n",
       "      <td>12691.821553</td>\n",
       "    </tr>\n",
       "    <tr>\n",
       "      <th>1167</th>\n",
       "      <td>China</td>\n",
       "      <td>2014</td>\n",
       "      <td>11917.338496</td>\n",
       "    </tr>\n",
       "    <tr>\n",
       "      <th>1168</th>\n",
       "      <td>China</td>\n",
       "      <td>2013</td>\n",
       "      <td>11149.867559</td>\n",
       "    </tr>\n",
       "    <tr>\n",
       "      <th>1169</th>\n",
       "      <td>China</td>\n",
       "      <td>2012</td>\n",
       "      <td>10397.561415</td>\n",
       "    </tr>\n",
       "    <tr>\n",
       "      <th>1170</th>\n",
       "      <td>China</td>\n",
       "      <td>2011</td>\n",
       "      <td>9686.615290</td>\n",
       "    </tr>\n",
       "    <tr>\n",
       "      <th>1171</th>\n",
       "      <td>China</td>\n",
       "      <td>2010</td>\n",
       "      <td>8884.588031</td>\n",
       "    </tr>\n",
       "    <tr>\n",
       "      <th>1172</th>\n",
       "      <td>China</td>\n",
       "      <td>2009</td>\n",
       "      <td>8069.354638</td>\n",
       "    </tr>\n",
       "    <tr>\n",
       "      <th>1173</th>\n",
       "      <td>China</td>\n",
       "      <td>2008</td>\n",
       "      <td>7412.874363</td>\n",
       "    </tr>\n",
       "    <tr>\n",
       "      <th>1174</th>\n",
       "      <td>China</td>\n",
       "      <td>2007</td>\n",
       "      <td>6795.174012</td>\n",
       "    </tr>\n",
       "    <tr>\n",
       "      <th>1175</th>\n",
       "      <td>China</td>\n",
       "      <td>2006</td>\n",
       "      <td>5979.781712</td>\n",
       "    </tr>\n",
       "    <tr>\n",
       "      <th>1176</th>\n",
       "      <td>China</td>\n",
       "      <td>2005</td>\n",
       "      <td>5334.646639</td>\n",
       "    </tr>\n",
       "    <tr>\n",
       "      <th>1177</th>\n",
       "      <td>China</td>\n",
       "      <td>2004</td>\n",
       "      <td>4817.211845</td>\n",
       "    </tr>\n",
       "    <tr>\n",
       "      <th>1178</th>\n",
       "      <td>China</td>\n",
       "      <td>2003</td>\n",
       "      <td>4400.825183</td>\n",
       "    </tr>\n",
       "    <tr>\n",
       "      <th>1179</th>\n",
       "      <td>China</td>\n",
       "      <td>2002</td>\n",
       "      <td>4024.355697</td>\n",
       "    </tr>\n",
       "    <tr>\n",
       "      <th>1180</th>\n",
       "      <td>China</td>\n",
       "      <td>2001</td>\n",
       "      <td>3712.338132</td>\n",
       "    </tr>\n",
       "    <tr>\n",
       "      <th>1181</th>\n",
       "      <td>China</td>\n",
       "      <td>2000</td>\n",
       "      <td>3451.679231</td>\n",
       "    </tr>\n",
       "    <tr>\n",
       "      <th>1182</th>\n",
       "      <td>China</td>\n",
       "      <td>1999</td>\n",
       "      <td>3206.730026</td>\n",
       "    </tr>\n",
       "    <tr>\n",
       "      <th>1183</th>\n",
       "      <td>China</td>\n",
       "      <td>1998</td>\n",
       "      <td>3004.427342</td>\n",
       "    </tr>\n",
       "    <tr>\n",
       "      <th>1184</th>\n",
       "      <td>China</td>\n",
       "      <td>1997</td>\n",
       "      <td>2812.711135</td>\n",
       "    </tr>\n",
       "    <tr>\n",
       "      <th>1185</th>\n",
       "      <td>China</td>\n",
       "      <td>1996</td>\n",
       "      <td>2601.363426</td>\n",
       "    </tr>\n",
       "    <tr>\n",
       "      <th>1186</th>\n",
       "      <td>China</td>\n",
       "      <td>1995</td>\n",
       "      <td>2391.477116</td>\n",
       "    </tr>\n",
       "    <tr>\n",
       "      <th>1187</th>\n",
       "      <td>China</td>\n",
       "      <td>1994</td>\n",
       "      <td>2178.924057</td>\n",
       "    </tr>\n",
       "    <tr>\n",
       "      <th>1188</th>\n",
       "      <td>China</td>\n",
       "      <td>1993</td>\n",
       "      <td>1949.534268</td>\n",
       "    </tr>\n",
       "    <tr>\n",
       "      <th>1189</th>\n",
       "      <td>China</td>\n",
       "      <td>1992</td>\n",
       "      <td>1731.657215</td>\n",
       "    </tr>\n",
       "    <tr>\n",
       "      <th>1190</th>\n",
       "      <td>China</td>\n",
       "      <td>1991</td>\n",
       "      <td>1534.705272</td>\n",
       "    </tr>\n",
       "    <tr>\n",
       "      <th>1191</th>\n",
       "      <td>China</td>\n",
       "      <td>1990</td>\n",
       "      <td>1423.896348</td>\n",
       "    </tr>\n",
       "    <tr>\n",
       "      <th>1754</th>\n",
       "      <td>Equatorial Guinea</td>\n",
       "      <td>2019</td>\n",
       "      <td>18558.003852</td>\n",
       "    </tr>\n",
       "    <tr>\n",
       "      <th>1755</th>\n",
       "      <td>Equatorial Guinea</td>\n",
       "      <td>2018</td>\n",
       "      <td>20359.845144</td>\n",
       "    </tr>\n",
       "    <tr>\n",
       "      <th>1756</th>\n",
       "      <td>Equatorial Guinea</td>\n",
       "      <td>2017</td>\n",
       "      <td>22551.083246</td>\n",
       "    </tr>\n",
       "    <tr>\n",
       "      <th>1757</th>\n",
       "      <td>Equatorial Guinea</td>\n",
       "      <td>2016</td>\n",
       "      <td>24827.072978</td>\n",
       "    </tr>\n",
       "    <tr>\n",
       "      <th>1758</th>\n",
       "      <td>Equatorial Guinea</td>\n",
       "      <td>2015</td>\n",
       "      <td>28313.602763</td>\n",
       "    </tr>\n",
       "    <tr>\n",
       "      <th>1759</th>\n",
       "      <td>Equatorial Guinea</td>\n",
       "      <td>2014</td>\n",
       "      <td>32436.466793</td>\n",
       "    </tr>\n",
       "    <tr>\n",
       "      <th>1760</th>\n",
       "      <td>Equatorial Guinea</td>\n",
       "      <td>2013</td>\n",
       "      <td>33678.706547</td>\n",
       "    </tr>\n",
       "    <tr>\n",
       "      <th>1761</th>\n",
       "      <td>Equatorial Guinea</td>\n",
       "      <td>2012</td>\n",
       "      <td>36671.357436</td>\n",
       "    </tr>\n",
       "    <tr>\n",
       "      <th>1762</th>\n",
       "      <td>Equatorial Guinea</td>\n",
       "      <td>2011</td>\n",
       "      <td>35378.023284</td>\n",
       "    </tr>\n",
       "    <tr>\n",
       "      <th>1763</th>\n",
       "      <td>Equatorial Guinea</td>\n",
       "      <td>2010</td>\n",
       "      <td>34732.255956</td>\n",
       "    </tr>\n",
       "    <tr>\n",
       "      <th>1764</th>\n",
       "      <td>Equatorial Guinea</td>\n",
       "      <td>2009</td>\n",
       "      <td>39913.732604</td>\n",
       "    </tr>\n",
       "    <tr>\n",
       "      <th>1765</th>\n",
       "      <td>Equatorial Guinea</td>\n",
       "      <td>2008</td>\n",
       "      <td>41249.438662</td>\n",
       "    </tr>\n",
       "    <tr>\n",
       "      <th>1766</th>\n",
       "      <td>Equatorial Guinea</td>\n",
       "      <td>2007</td>\n",
       "      <td>36685.298706</td>\n",
       "    </tr>\n",
       "    <tr>\n",
       "      <th>1767</th>\n",
       "      <td>Equatorial Guinea</td>\n",
       "      <td>2006</td>\n",
       "      <td>33330.805598</td>\n",
       "    </tr>\n",
       "    <tr>\n",
       "      <th>1768</th>\n",
       "      <td>Equatorial Guinea</td>\n",
       "      <td>2005</td>\n",
       "      <td>32389.861726</td>\n",
       "    </tr>\n",
       "    <tr>\n",
       "      <th>1769</th>\n",
       "      <td>Equatorial Guinea</td>\n",
       "      <td>2004</td>\n",
       "      <td>29004.186721</td>\n",
       "    </tr>\n",
       "    <tr>\n",
       "      <th>1770</th>\n",
       "      <td>Equatorial Guinea</td>\n",
       "      <td>2003</td>\n",
       "      <td>21944.697412</td>\n",
       "    </tr>\n",
       "    <tr>\n",
       "      <th>1771</th>\n",
       "      <td>Equatorial Guinea</td>\n",
       "      <td>2002</td>\n",
       "      <td>20084.465030</td>\n",
       "    </tr>\n",
       "    <tr>\n",
       "      <th>1772</th>\n",
       "      <td>Equatorial Guinea</td>\n",
       "      <td>2001</td>\n",
       "      <td>17523.434190</td>\n",
       "    </tr>\n",
       "    <tr>\n",
       "      <th>1773</th>\n",
       "      <td>Equatorial Guinea</td>\n",
       "      <td>2000</td>\n",
       "      <td>11176.500522</td>\n",
       "    </tr>\n",
       "    <tr>\n",
       "      <th>1774</th>\n",
       "      <td>Equatorial Guinea</td>\n",
       "      <td>1999</td>\n",
       "      <td>9851.190917</td>\n",
       "    </tr>\n",
       "    <tr>\n",
       "      <th>1775</th>\n",
       "      <td>Equatorial Guinea</td>\n",
       "      <td>1998</td>\n",
       "      <td>8166.052518</td>\n",
       "    </tr>\n",
       "    <tr>\n",
       "      <th>1776</th>\n",
       "      <td>Equatorial Guinea</td>\n",
       "      <td>1997</td>\n",
       "      <td>6868.480369</td>\n",
       "    </tr>\n",
       "    <tr>\n",
       "      <th>1777</th>\n",
       "      <td>Equatorial Guinea</td>\n",
       "      <td>1996</td>\n",
       "      <td>2857.452417</td>\n",
       "    </tr>\n",
       "    <tr>\n",
       "      <th>1778</th>\n",
       "      <td>Equatorial Guinea</td>\n",
       "      <td>1995</td>\n",
       "      <td>1781.264878</td>\n",
       "    </tr>\n",
       "    <tr>\n",
       "      <th>1779</th>\n",
       "      <td>Equatorial Guinea</td>\n",
       "      <td>1994</td>\n",
       "      <td>1572.065607</td>\n",
       "    </tr>\n",
       "    <tr>\n",
       "      <th>1780</th>\n",
       "      <td>Equatorial Guinea</td>\n",
       "      <td>1993</td>\n",
       "      <td>1395.403468</td>\n",
       "    </tr>\n",
       "    <tr>\n",
       "      <th>1781</th>\n",
       "      <td>Equatorial Guinea</td>\n",
       "      <td>1992</td>\n",
       "      <td>1299.934196</td>\n",
       "    </tr>\n",
       "    <tr>\n",
       "      <th>1782</th>\n",
       "      <td>Equatorial Guinea</td>\n",
       "      <td>1991</td>\n",
       "      <td>996.857617</td>\n",
       "    </tr>\n",
       "    <tr>\n",
       "      <th>1783</th>\n",
       "      <td>Equatorial Guinea</td>\n",
       "      <td>1990</td>\n",
       "      <td>1039.985049</td>\n",
       "    </tr>\n",
       "  </tbody>\n",
       "</table>\n",
       "</div>"
      ],
      "text/plain": [
       "                Country  Year  GDP_Per_Capita\n",
       "1162              China  2019    16092.300767\n",
       "1163              China  2018    15242.985858\n",
       "1164              China  2017    14344.421239\n",
       "1165              China  2016    13487.822482\n",
       "1166              China  2015    12691.821553\n",
       "1167              China  2014    11917.338496\n",
       "1168              China  2013    11149.867559\n",
       "1169              China  2012    10397.561415\n",
       "1170              China  2011     9686.615290\n",
       "1171              China  2010     8884.588031\n",
       "1172              China  2009     8069.354638\n",
       "1173              China  2008     7412.874363\n",
       "1174              China  2007     6795.174012\n",
       "1175              China  2006     5979.781712\n",
       "1176              China  2005     5334.646639\n",
       "1177              China  2004     4817.211845\n",
       "1178              China  2003     4400.825183\n",
       "1179              China  2002     4024.355697\n",
       "1180              China  2001     3712.338132\n",
       "1181              China  2000     3451.679231\n",
       "1182              China  1999     3206.730026\n",
       "1183              China  1998     3004.427342\n",
       "1184              China  1997     2812.711135\n",
       "1185              China  1996     2601.363426\n",
       "1186              China  1995     2391.477116\n",
       "1187              China  1994     2178.924057\n",
       "1188              China  1993     1949.534268\n",
       "1189              China  1992     1731.657215\n",
       "1190              China  1991     1534.705272\n",
       "1191              China  1990     1423.896348\n",
       "1754  Equatorial Guinea  2019    18558.003852\n",
       "1755  Equatorial Guinea  2018    20359.845144\n",
       "1756  Equatorial Guinea  2017    22551.083246\n",
       "1757  Equatorial Guinea  2016    24827.072978\n",
       "1758  Equatorial Guinea  2015    28313.602763\n",
       "1759  Equatorial Guinea  2014    32436.466793\n",
       "1760  Equatorial Guinea  2013    33678.706547\n",
       "1761  Equatorial Guinea  2012    36671.357436\n",
       "1762  Equatorial Guinea  2011    35378.023284\n",
       "1763  Equatorial Guinea  2010    34732.255956\n",
       "1764  Equatorial Guinea  2009    39913.732604\n",
       "1765  Equatorial Guinea  2008    41249.438662\n",
       "1766  Equatorial Guinea  2007    36685.298706\n",
       "1767  Equatorial Guinea  2006    33330.805598\n",
       "1768  Equatorial Guinea  2005    32389.861726\n",
       "1769  Equatorial Guinea  2004    29004.186721\n",
       "1770  Equatorial Guinea  2003    21944.697412\n",
       "1771  Equatorial Guinea  2002    20084.465030\n",
       "1772  Equatorial Guinea  2001    17523.434190\n",
       "1773  Equatorial Guinea  2000    11176.500522\n",
       "1774  Equatorial Guinea  1999     9851.190917\n",
       "1775  Equatorial Guinea  1998     8166.052518\n",
       "1776  Equatorial Guinea  1997     6868.480369\n",
       "1777  Equatorial Guinea  1996     2857.452417\n",
       "1778  Equatorial Guinea  1995     1781.264878\n",
       "1779  Equatorial Guinea  1994     1572.065607\n",
       "1780  Equatorial Guinea  1993     1395.403468\n",
       "1781  Equatorial Guinea  1992     1299.934196\n",
       "1782  Equatorial Guinea  1991      996.857617\n",
       "1783  Equatorial Guinea  1990     1039.985049"
      ]
     },
     "execution_count": 37,
     "metadata": {},
     "output_type": "execute_result"
    }
   ],
   "source": [
    "gdp_df.loc[(gdp_df['Country'] == highest_chg_country) |(gdp_df['Country'] == scd_highest_chg_country)]\n",
    "\n"
   ]
  },
  {
   "cell_type": "code",
   "execution_count": 38,
   "id": "4aae3943",
   "metadata": {},
   "outputs": [
    {
     "data": {
      "text/plain": [
       "<AxesSubplot:xlabel='Year'>"
      ]
     },
     "execution_count": 38,
     "metadata": {},
     "output_type": "execute_result"
    },
    {
     "data": {
      "image/png": "[encoded data removed]",
      "text/plain": [
       "<Figure size 432x288 with 1 Axes>"
      ]
     },
     "metadata": {
      "needs_background": "light"
     },
     "output_type": "display_data"
    }
   ],
   "source": [
    "gdp_df.loc[(gdp_df['Country'] == highest_chg_country) |(gdp_df['Country'] == scd_highest_chg_country)].plot(x = 'Year', y = 'GDP_Per_Capita', kind = 'line')\n"
   ]
  },
  {
   "cell_type": "code",
   "execution_count": 39,
   "id": "027b8687",
   "metadata": {},
   "outputs": [],
   "source": [
    "highest2= gdp_piv_sorted_ind['Country'][0:2]"
   ]
  },
  {
   "cell_type": "code",
   "execution_count": 40,
   "id": "1c3b7c0f",
   "metadata": {},
   "outputs": [
    {
     "data": {
      "text/plain": [
       "0    Equatorial Guinea\n",
       "1                China\n",
       "Name: Country, dtype: object"
      ]
     },
     "execution_count": 40,
     "metadata": {},
     "output_type": "execute_result"
    }
   ],
   "source": [
    "highest2"
   ]
  },
  {
   "cell_type": "code",
   "execution_count": null,
   "id": "3e2a3e10",
   "metadata": {},
   "outputs": [],
   "source": []
  },
  {
   "cell_type": "code",
   "execution_count": null,
   "id": "d98395a9",
   "metadata": {},
   "outputs": [],
   "source": []
  },
  {
   "cell_type": "code",
   "execution_count": 41,
   "id": "3190c4dd",
   "metadata": {},
   "outputs": [],
   "source": [
    "#gdp_piv_sorted_ind['Percent_Change'][1]"
   ]
  },
  {
   "cell_type": "code",
   "execution_count": 42,
   "id": "84201ac6",
   "metadata": {},
   "outputs": [],
   "source": [
    "#Subset rows from gdp_df\n",
    "country_1 = gdp_df[gdp_df['Country'] == highest_chg_country]\n",
    "country_2 = gdp_df[gdp_df['Country'] == scd_highest_chg_country]"
   ]
  },
  {
   "cell_type": "code",
   "execution_count": 43,
   "id": "ae81d9cc",
   "metadata": {},
   "outputs": [
    {
     "data": {
      "image/png": "[encoded data removed]",
      "text/plain": [
       "<Figure size 432x288 with 1 Axes>"
      ]
     },
     "metadata": {
      "needs_background": "light"
     },
     "output_type": "display_data"
    },
    {
     "data": {
      "image/png": "[encoded data removed]",
      "text/plain": [
       "<Figure size 432x288 with 1 Axes>"
      ]
     },
     "metadata": {
      "needs_background": "light"
     },
     "output_type": "display_data"
    }
   ],
   "source": [
    "country_1.plot(x = 'Year', y = 'GDP_Per_Capita', kind = 'line')\n",
    "country_2.plot(x = 'Year', y = 'GDP_Per_Capita', kind = 'line')\n",
    "\n",
    "plt.plot\n",
    "\n",
    "plt.show()"
   ]
  },
  {
   "cell_type": "markdown",
   "id": "464f0989",
   "metadata": {},
   "source": [
    "17. Read in continents.csv contained in the data folder into a new dataframe called continents. We will be using this dataframe to add a new column to our dataset"
   ]
  },
  {
   "cell_type": "code",
   "execution_count": 44,
   "id": "82ae242d",
   "metadata": {},
   "outputs": [],
   "source": [
    "continents = pd.read_csv('../data/continents.csv')"
   ]
  },
  {
   "cell_type": "code",
   "execution_count": 45,
   "id": "1354c8e2",
   "metadata": {},
   "outputs": [
    {
     "data": {
      "text/html": [
       "<div>\n",
       "<style scoped>\n",
       "    .dataframe tbody tr th:only-of-type {\n",
       "        vertical-align: middle;\n",
       "    }\n",
       "\n",
       "    .dataframe tbody tr th {\n",
       "        vertical-align: top;\n",
       "    }\n",
       "\n",
       "    .dataframe thead th {\n",
       "        text-align: right;\n",
       "    }\n",
       "</style>\n",
       "<table border=\"1\" class=\"dataframe\">\n",
       "  <thead>\n",
       "    <tr style=\"text-align: right;\">\n",
       "      <th></th>\n",
       "      <th>Continent</th>\n",
       "      <th>Country</th>\n",
       "    </tr>\n",
       "  </thead>\n",
       "  <tbody>\n",
       "    <tr>\n",
       "      <th>0</th>\n",
       "      <td>Asia</td>\n",
       "      <td>Afghanistan</td>\n",
       "    </tr>\n",
       "    <tr>\n",
       "      <th>1</th>\n",
       "      <td>Europe</td>\n",
       "      <td>Albania</td>\n",
       "    </tr>\n",
       "    <tr>\n",
       "      <th>2</th>\n",
       "      <td>Africa</td>\n",
       "      <td>Algeria</td>\n",
       "    </tr>\n",
       "    <tr>\n",
       "      <th>3</th>\n",
       "      <td>Europe</td>\n",
       "      <td>Andorra</td>\n",
       "    </tr>\n",
       "    <tr>\n",
       "      <th>4</th>\n",
       "      <td>Africa</td>\n",
       "      <td>Angola</td>\n",
       "    </tr>\n",
       "  </tbody>\n",
       "</table>\n",
       "</div>"
      ],
      "text/plain": [
       "  Continent      Country\n",
       "0      Asia  Afghanistan\n",
       "1    Europe      Albania\n",
       "2    Africa      Algeria\n",
       "3    Europe      Andorra\n",
       "4    Africa       Angola"
      ]
     },
     "execution_count": 45,
     "metadata": {},
     "output_type": "execute_result"
    }
   ],
   "source": [
    "continents.head()"
   ]
  },
  {
   "cell_type": "markdown",
   "id": "1cb03954",
   "metadata": {},
   "source": [
    "18. Merge gdp_df and continents. Keep only the countries that appear in both data frames. Save the result back to gdp_df."
   ]
  },
  {
   "cell_type": "code",
   "execution_count": 46,
   "id": "522e5520",
   "metadata": {},
   "outputs": [],
   "source": [
    "gdp_df = pd.merge(gdp_df, continents, how='inner')"
   ]
  },
  {
   "cell_type": "markdown",
   "id": "ad917df9",
   "metadata": {},
   "source": [
    "19. Determine the number of countries per continent. Create a bar chart showing this."
   ]
  },
  {
   "cell_type": "code",
   "execution_count": 47,
   "id": "e2f5cdf7",
   "metadata": {},
   "outputs": [
    {
     "data": {
      "text/plain": [
       "Africa           1428\n",
       "Europe           1290\n",
       "Asia             1240\n",
       "North America     761\n",
       "Oceania           394\n",
       "South America     330\n",
       "Name: Continent, dtype: int64"
      ]
     },
     "execution_count": 47,
     "metadata": {},
     "output_type": "execute_result"
    }
   ],
   "source": [
    "gdp_df['Continent'].value_counts()"
   ]
  },
  {
   "cell_type": "code",
   "execution_count": 48,
   "id": "7fca3ee3",
   "metadata": {},
   "outputs": [],
   "source": [
    "t = gdp_df.groupby('Continent')['Country'].nunique()"
   ]
  },
  {
   "cell_type": "code",
   "execution_count": 49,
   "id": "8134db81",
   "metadata": {
    "scrolled": true
   },
   "outputs": [
    {
     "data": {
      "text/plain": [
       "Continent\n",
       "Africa           49\n",
       "Asia             43\n",
       "Europe           45\n",
       "North America    26\n",
       "Oceania          14\n",
       "South America    11\n",
       "Name: Country, dtype: int64"
      ]
     },
     "execution_count": 49,
     "metadata": {},
     "output_type": "execute_result"
    }
   ],
   "source": [
    "t"
   ]
  },
  {
   "cell_type": "code",
   "execution_count": 50,
   "id": "4c11aa27",
   "metadata": {},
   "outputs": [
    {
     "data": {
      "text/plain": [
       "<AxesSubplot:xlabel='Continent'>"
      ]
     },
     "execution_count": 50,
     "metadata": {},
     "output_type": "execute_result"
    },
    {
     "data": {
      "image/png": "[encoded data removed]",
      "text/plain": [
       "<Figure size 432x288 with 1 Axes>"
      ]
     },
     "metadata": {
      "needs_background": "light"
     },
     "output_type": "display_data"
    }
   ],
   "source": [
    "gdp_df.groupby('Continent')['Country'].nunique().plot(kind = 'bar')"
   ]
  },
  {
   "cell_type": "markdown",
   "id": "9fc000f8",
   "metadata": {},
   "source": [
    "20. Create a seaborn boxplot showing GDP per capita in 2014 split out by continent. What do you notice?"
   ]
  },
  {
   "cell_type": "code",
   "execution_count": 51,
   "id": "1dddb1d2",
   "metadata": {},
   "outputs": [],
   "source": [
    "gdp_2014 = gdp_df[gdp_df['Year'] == 2014]"
   ]
  },
  {
   "cell_type": "code",
   "execution_count": 52,
   "id": "7d17146a",
   "metadata": {},
   "outputs": [
    {
     "data": {
      "text/plain": [
       "<AxesSubplot:xlabel='GDP_Per_Capita', ylabel='Continent'>"
      ]
     },
     "execution_count": 52,
     "metadata": {},
     "output_type": "execute_result"
    },
    {
     "data": {
      "image/png": "[encoded data removed]",
      "text/plain": [
       "<Figure size 432x288 with 1 Axes>"
      ]
     },
     "metadata": {
      "needs_background": "light"
     },
     "output_type": "display_data"
    }
   ],
   "source": [
    "sns.boxplot(data=gdp_2014, x = 'GDP_Per_Capita', y = 'Continent')"
   ]
  },
  {
   "cell_type": "markdown",
   "id": "95c9da9c",
   "metadata": {},
   "source": [
    "21. Download the full csv containing Life expectancy at birth, total (years) from https://data.worldbank.org/indicator/SP.DYN.LE00.IN?name_desc=false. Read this data into a DataFrame named life_expectancy."
   ]
  },
  {
   "cell_type": "code",
   "execution_count": 53,
   "id": "ee883e2e",
   "metadata": {},
   "outputs": [],
   "source": [
    "life_expectancy = pd.read_csv('../data/API_SP.DYN.LE00.IN_DS2_en_csv_v2_4553490.csv', skiprows = 4,  engine='python')"
   ]
  },
  {
   "cell_type": "code",
   "execution_count": 54,
   "id": "496536c9",
   "metadata": {},
   "outputs": [
    {
     "data": {
      "text/html": [
       "<div>\n",
       "<style scoped>\n",
       "    .dataframe tbody tr th:only-of-type {\n",
       "        vertical-align: middle;\n",
       "    }\n",
       "\n",
       "    .dataframe tbody tr th {\n",
       "        vertical-align: top;\n",
       "    }\n",
       "\n",
       "    .dataframe thead th {\n",
       "        text-align: right;\n",
       "    }\n",
       "</style>\n",
       "<table border=\"1\" class=\"dataframe\">\n",
       "  <thead>\n",
       "    <tr style=\"text-align: right;\">\n",
       "      <th></th>\n",
       "      <th>Country Name</th>\n",
       "      <th>Country Code</th>\n",
       "      <th>Indicator Name</th>\n",
       "      <th>Indicator Code</th>\n",
       "      <th>1960</th>\n",
       "      <th>1961</th>\n",
       "      <th>1962</th>\n",
       "      <th>1963</th>\n",
       "      <th>1964</th>\n",
       "      <th>1965</th>\n",
       "      <th>...</th>\n",
       "      <th>2013</th>\n",
       "      <th>2014</th>\n",
       "      <th>2015</th>\n",
       "      <th>2016</th>\n",
       "      <th>2017</th>\n",
       "      <th>2018</th>\n",
       "      <th>2019</th>\n",
       "      <th>2020</th>\n",
       "      <th>2021</th>\n",
       "      <th>Unnamed: 66</th>\n",
       "    </tr>\n",
       "  </thead>\n",
       "  <tbody>\n",
       "    <tr>\n",
       "      <th>0</th>\n",
       "      <td>Aruba</td>\n",
       "      <td>ABW</td>\n",
       "      <td>Life expectancy at birth, total (years)</td>\n",
       "      <td>SP.DYN.LE00.IN</td>\n",
       "      <td>65.662000</td>\n",
       "      <td>66.074000</td>\n",
       "      <td>66.44400</td>\n",
       "      <td>66.787000</td>\n",
       "      <td>67.113000</td>\n",
       "      <td>67.435000</td>\n",
       "      <td>...</td>\n",
       "      <td>75.441000</td>\n",
       "      <td>75.583000</td>\n",
       "      <td>75.725000</td>\n",
       "      <td>75.868000</td>\n",
       "      <td>76.010000</td>\n",
       "      <td>76.152000</td>\n",
       "      <td>76.293000</td>\n",
       "      <td>76.434000</td>\n",
       "      <td>NaN</td>\n",
       "      <td>NaN</td>\n",
       "    </tr>\n",
       "    <tr>\n",
       "      <th>1</th>\n",
       "      <td>Africa Eastern and Southern</td>\n",
       "      <td>AFE</td>\n",
       "      <td>Life expectancy at birth, total (years)</td>\n",
       "      <td>SP.DYN.LE00.IN</td>\n",
       "      <td>42.716053</td>\n",
       "      <td>43.166935</td>\n",
       "      <td>43.60399</td>\n",
       "      <td>44.025617</td>\n",
       "      <td>44.432721</td>\n",
       "      <td>44.826919</td>\n",
       "      <td>...</td>\n",
       "      <td>60.953363</td>\n",
       "      <td>61.647367</td>\n",
       "      <td>62.259288</td>\n",
       "      <td>62.787681</td>\n",
       "      <td>63.246264</td>\n",
       "      <td>63.648988</td>\n",
       "      <td>64.005213</td>\n",
       "      <td>64.325702</td>\n",
       "      <td>NaN</td>\n",
       "      <td>NaN</td>\n",
       "    </tr>\n",
       "  </tbody>\n",
       "</table>\n",
       "<p>2 rows × 67 columns</p>\n",
       "</div>"
      ],
      "text/plain": [
       "                  Country Name Country Code  \\\n",
       "0                        Aruba          ABW   \n",
       "1  Africa Eastern and Southern          AFE   \n",
       "\n",
       "                            Indicator Name  Indicator Code       1960  \\\n",
       "0  Life expectancy at birth, total (years)  SP.DYN.LE00.IN  65.662000   \n",
       "1  Life expectancy at birth, total (years)  SP.DYN.LE00.IN  42.716053   \n",
       "\n",
       "        1961      1962       1963       1964       1965  ...       2013  \\\n",
       "0  66.074000  66.44400  66.787000  67.113000  67.435000  ...  75.441000   \n",
       "1  43.166935  43.60399  44.025617  44.432721  44.826919  ...  60.953363   \n",
       "\n",
       "        2014       2015       2016       2017       2018       2019  \\\n",
       "0  75.583000  75.725000  75.868000  76.010000  76.152000  76.293000   \n",
       "1  61.647367  62.259288  62.787681  63.246264  63.648988  64.005213   \n",
       "\n",
       "        2020  2021  Unnamed: 66  \n",
       "0  76.434000   NaN          NaN  \n",
       "1  64.325702   NaN          NaN  \n",
       "\n",
       "[2 rows x 67 columns]"
      ]
     },
     "execution_count": 54,
     "metadata": {},
     "output_type": "execute_result"
    }
   ],
   "source": [
    "life_expectancy.head(2)"
   ]
  },
  {
   "cell_type": "markdown",
   "id": "9038386d",
   "metadata": {},
   "source": [
    "22. Drop the Country Code, Indicator Name, and Indicator Code columns. Then use .melt() to convert your data from wide to long. That is, instead of having one row per country and multiple colums per year, we want to have multiple rows per country and a single column for year. After melting, rename the columns to Country, Year, and Life_Expectancy\n"
   ]
  },
  {
   "cell_type": "code",
   "execution_count": 55,
   "id": "84fc000a",
   "metadata": {},
   "outputs": [],
   "source": [
    "life_expectancy.drop(['Country Code', 'Indicator Name', 'Indicator Code'], axis=1, inplace=True)"
   ]
  },
  {
   "cell_type": "code",
   "execution_count": 56,
   "id": "10ef306b",
   "metadata": {
    "scrolled": true
   },
   "outputs": [
    {
     "data": {
      "text/html": [
       "<div>\n",
       "<style scoped>\n",
       "    .dataframe tbody tr th:only-of-type {\n",
       "        vertical-align: middle;\n",
       "    }\n",
       "\n",
       "    .dataframe tbody tr th {\n",
       "        vertical-align: top;\n",
       "    }\n",
       "\n",
       "    .dataframe thead th {\n",
       "        text-align: right;\n",
       "    }\n",
       "</style>\n",
       "<table border=\"1\" class=\"dataframe\">\n",
       "  <thead>\n",
       "    <tr style=\"text-align: right;\">\n",
       "      <th></th>\n",
       "      <th>Country Name</th>\n",
       "      <th>1960</th>\n",
       "      <th>1961</th>\n",
       "      <th>1962</th>\n",
       "      <th>1963</th>\n",
       "      <th>1964</th>\n",
       "      <th>1965</th>\n",
       "      <th>1966</th>\n",
       "      <th>1967</th>\n",
       "      <th>1968</th>\n",
       "      <th>...</th>\n",
       "      <th>2013</th>\n",
       "      <th>2014</th>\n",
       "      <th>2015</th>\n",
       "      <th>2016</th>\n",
       "      <th>2017</th>\n",
       "      <th>2018</th>\n",
       "      <th>2019</th>\n",
       "      <th>2020</th>\n",
       "      <th>2021</th>\n",
       "      <th>Unnamed: 66</th>\n",
       "    </tr>\n",
       "  </thead>\n",
       "  <tbody>\n",
       "    <tr>\n",
       "      <th>0</th>\n",
       "      <td>Aruba</td>\n",
       "      <td>65.662000</td>\n",
       "      <td>66.074000</td>\n",
       "      <td>66.44400</td>\n",
       "      <td>66.787000</td>\n",
       "      <td>67.113000</td>\n",
       "      <td>67.435000</td>\n",
       "      <td>67.762000</td>\n",
       "      <td>68.095000</td>\n",
       "      <td>68.436000</td>\n",
       "      <td>...</td>\n",
       "      <td>75.441000</td>\n",
       "      <td>75.583000</td>\n",
       "      <td>75.725000</td>\n",
       "      <td>75.868000</td>\n",
       "      <td>76.010000</td>\n",
       "      <td>76.152000</td>\n",
       "      <td>76.293000</td>\n",
       "      <td>76.434000</td>\n",
       "      <td>NaN</td>\n",
       "      <td>NaN</td>\n",
       "    </tr>\n",
       "    <tr>\n",
       "      <th>1</th>\n",
       "      <td>Africa Eastern and Southern</td>\n",
       "      <td>42.716053</td>\n",
       "      <td>43.166935</td>\n",
       "      <td>43.60399</td>\n",
       "      <td>44.025617</td>\n",
       "      <td>44.432721</td>\n",
       "      <td>44.826919</td>\n",
       "      <td>45.213048</td>\n",
       "      <td>45.594294</td>\n",
       "      <td>45.974059</td>\n",
       "      <td>...</td>\n",
       "      <td>60.953363</td>\n",
       "      <td>61.647367</td>\n",
       "      <td>62.259288</td>\n",
       "      <td>62.787681</td>\n",
       "      <td>63.246264</td>\n",
       "      <td>63.648988</td>\n",
       "      <td>64.005213</td>\n",
       "      <td>64.325702</td>\n",
       "      <td>NaN</td>\n",
       "      <td>NaN</td>\n",
       "    </tr>\n",
       "  </tbody>\n",
       "</table>\n",
       "<p>2 rows × 64 columns</p>\n",
       "</div>"
      ],
      "text/plain": [
       "                  Country Name       1960       1961      1962       1963  \\\n",
       "0                        Aruba  65.662000  66.074000  66.44400  66.787000   \n",
       "1  Africa Eastern and Southern  42.716053  43.166935  43.60399  44.025617   \n",
       "\n",
       "        1964       1965       1966       1967       1968  ...       2013  \\\n",
       "0  67.113000  67.435000  67.762000  68.095000  68.436000  ...  75.441000   \n",
       "1  44.432721  44.826919  45.213048  45.594294  45.974059  ...  60.953363   \n",
       "\n",
       "        2014       2015       2016       2017       2018       2019  \\\n",
       "0  75.583000  75.725000  75.868000  76.010000  76.152000  76.293000   \n",
       "1  61.647367  62.259288  62.787681  63.246264  63.648988  64.005213   \n",
       "\n",
       "        2020  2021  Unnamed: 66  \n",
       "0  76.434000   NaN          NaN  \n",
       "1  64.325702   NaN          NaN  \n",
       "\n",
       "[2 rows x 64 columns]"
      ]
     },
     "execution_count": 56,
     "metadata": {},
     "output_type": "execute_result"
    }
   ],
   "source": [
    "life_expectancy.head(2)"
   ]
  },
  {
   "cell_type": "code",
   "execution_count": 57,
   "id": "3af11020",
   "metadata": {},
   "outputs": [],
   "source": [
    "#Convert to long format\n",
    "life_expectancy = pd.melt(life_expectancy, id_vars = ['Country Name'])\n"
   ]
  },
  {
   "cell_type": "code",
   "execution_count": 58,
   "id": "9c327c56",
   "metadata": {},
   "outputs": [
    {
     "data": {
      "text/html": [
       "<div>\n",
       "<style scoped>\n",
       "    .dataframe tbody tr th:only-of-type {\n",
       "        vertical-align: middle;\n",
       "    }\n",
       "\n",
       "    .dataframe tbody tr th {\n",
       "        vertical-align: top;\n",
       "    }\n",
       "\n",
       "    .dataframe thead th {\n",
       "        text-align: right;\n",
       "    }\n",
       "</style>\n",
       "<table border=\"1\" class=\"dataframe\">\n",
       "  <thead>\n",
       "    <tr style=\"text-align: right;\">\n",
       "      <th></th>\n",
       "      <th>Country Name</th>\n",
       "      <th>variable</th>\n",
       "      <th>value</th>\n",
       "    </tr>\n",
       "  </thead>\n",
       "  <tbody>\n",
       "    <tr>\n",
       "      <th>0</th>\n",
       "      <td>Aruba</td>\n",
       "      <td>1960</td>\n",
       "      <td>65.662000</td>\n",
       "    </tr>\n",
       "    <tr>\n",
       "      <th>1</th>\n",
       "      <td>Africa Eastern and Southern</td>\n",
       "      <td>1960</td>\n",
       "      <td>42.716053</td>\n",
       "    </tr>\n",
       "  </tbody>\n",
       "</table>\n",
       "</div>"
      ],
      "text/plain": [
       "                  Country Name variable      value\n",
       "0                        Aruba     1960  65.662000\n",
       "1  Africa Eastern and Southern     1960  42.716053"
      ]
     },
     "execution_count": 58,
     "metadata": {},
     "output_type": "execute_result"
    }
   ],
   "source": [
    "life_expectancy.head(2)"
   ]
  },
  {
   "cell_type": "code",
   "execution_count": 59,
   "id": "a29f3ea6",
   "metadata": {},
   "outputs": [
    {
     "data": {
      "text/html": [
       "<div>\n",
       "<style scoped>\n",
       "    .dataframe tbody tr th:only-of-type {\n",
       "        vertical-align: middle;\n",
       "    }\n",
       "\n",
       "    .dataframe tbody tr th {\n",
       "        vertical-align: top;\n",
       "    }\n",
       "\n",
       "    .dataframe thead th {\n",
       "        text-align: right;\n",
       "    }\n",
       "</style>\n",
       "<table border=\"1\" class=\"dataframe\">\n",
       "  <thead>\n",
       "    <tr style=\"text-align: right;\">\n",
       "      <th></th>\n",
       "      <th>Country</th>\n",
       "      <th>Year</th>\n",
       "      <th>Life Expectancy</th>\n",
       "    </tr>\n",
       "  </thead>\n",
       "  <tbody>\n",
       "    <tr>\n",
       "      <th>0</th>\n",
       "      <td>Aruba</td>\n",
       "      <td>1960</td>\n",
       "      <td>65.662000</td>\n",
       "    </tr>\n",
       "    <tr>\n",
       "      <th>1</th>\n",
       "      <td>Africa Eastern and Southern</td>\n",
       "      <td>1960</td>\n",
       "      <td>42.716053</td>\n",
       "    </tr>\n",
       "  </tbody>\n",
       "</table>\n",
       "</div>"
      ],
      "text/plain": [
       "                       Country  Year  Life Expectancy\n",
       "0                        Aruba  1960        65.662000\n",
       "1  Africa Eastern and Southern  1960        42.716053"
      ]
     },
     "execution_count": 59,
     "metadata": {},
     "output_type": "execute_result"
    }
   ],
   "source": [
    "#Rename columns\n",
    "life_expectancy = life_expectancy.rename(columns={'Country Name':'Country', 'variable':'Year', 'value':'Life Expectancy'})\n",
    "life_expectancy.head(2)"
   ]
  },
  {
   "cell_type": "markdown",
   "id": "2ee8a5d5",
   "metadata": {},
   "source": [
    "\n",
    "Q23. What was the first country with a life expectancy to exceed 80?\n"
   ]
  },
  {
   "cell_type": "code",
   "execution_count": 60,
   "id": "c0f546a1",
   "metadata": {},
   "outputs": [
    {
     "data": {
      "text/plain": [
       "'Japan'"
      ]
     },
     "execution_count": 60,
     "metadata": {},
     "output_type": "execute_result"
    }
   ],
   "source": [
    "lf_exp80 = life_expectancy[life_expectancy['Life Expectancy'] > 80].sort_values('Year').reset_index()\n",
    "lf_exp80['Country'][0]\n"
   ]
  },
  {
   "cell_type": "code",
   "execution_count": 61,
   "id": "a4ea2841",
   "metadata": {},
   "outputs": [
    {
     "data": {
      "text/html": [
       "<div>\n",
       "<style scoped>\n",
       "    .dataframe tbody tr th:only-of-type {\n",
       "        vertical-align: middle;\n",
       "    }\n",
       "\n",
       "    .dataframe tbody tr th {\n",
       "        vertical-align: top;\n",
       "    }\n",
       "\n",
       "    .dataframe thead th {\n",
       "        text-align: right;\n",
       "    }\n",
       "</style>\n",
       "<table border=\"1\" class=\"dataframe\">\n",
       "  <thead>\n",
       "    <tr style=\"text-align: right;\">\n",
       "      <th></th>\n",
       "      <th>Country</th>\n",
       "      <th>Year</th>\n",
       "      <th>Life Expectancy</th>\n",
       "    </tr>\n",
       "  </thead>\n",
       "  <tbody>\n",
       "    <tr>\n",
       "      <th>9695</th>\n",
       "      <td>Japan</td>\n",
       "      <td>1996</td>\n",
       "      <td>80.200244</td>\n",
       "    </tr>\n",
       "  </tbody>\n",
       "</table>\n",
       "</div>"
      ],
      "text/plain": [
       "     Country  Year  Life Expectancy\n",
       "9695   Japan  1996        80.200244"
      ]
     },
     "execution_count": 61,
     "metadata": {},
     "output_type": "execute_result"
    }
   ],
   "source": [
    "lf_exp80 = life_expectancy[life_expectancy['Life Expectancy'] > 80]\n",
    "lf_exp80[lf_exp80.Year == lf_exp80.Year.min()]"
   ]
  },
  {
   "cell_type": "markdown",
   "id": "8cb49019",
   "metadata": {},
   "source": [
    "Q24. Merge gdp_per_capita and life_expectancy, keeping all countries and years that appear in both DataFrames. Save the result to a new DataFrame named gdp_le. If you get any errors in doing this, read them carefully and correct them. Look at the first five rows of your new data frame to confirm it merged correctly. Also, check the last five rows to make sure the data is clean and as expected."
   ]
  },
  {
   "cell_type": "code",
   "execution_count": 62,
   "id": "113c9bd2",
   "metadata": {},
   "outputs": [
    {
     "data": {
      "text/plain": [
       "Country             object\n",
       "Year                object\n",
       "Life Expectancy    float64\n",
       "dtype: object"
      ]
     },
     "execution_count": 62,
     "metadata": {},
     "output_type": "execute_result"
    }
   ],
   "source": [
    "life_expectancy.dtypes"
   ]
  },
  {
   "cell_type": "code",
   "execution_count": 63,
   "id": "396b9a8e",
   "metadata": {},
   "outputs": [],
   "source": [
    "life_expectancy = life_expectancy.dropna()"
   ]
  },
  {
   "cell_type": "code",
   "execution_count": 64,
   "id": "34fce605",
   "metadata": {},
   "outputs": [],
   "source": [
    "life_expectancy = life_expectancy.astype({'Country':'string', 'Year':'int'})\n"
   ]
  },
  {
   "cell_type": "code",
   "execution_count": 65,
   "id": "38d586e3",
   "metadata": {},
   "outputs": [
    {
     "data": {
      "text/plain": [
       "Country             string\n",
       "Year                 int32\n",
       "Life Expectancy    float64\n",
       "dtype: object"
      ]
     },
     "execution_count": 65,
     "metadata": {},
     "output_type": "execute_result"
    }
   ],
   "source": [
    "life_expectancy.dtypes"
   ]
  },
  {
   "cell_type": "code",
   "execution_count": 66,
   "id": "1caebbc5",
   "metadata": {},
   "outputs": [],
   "source": [
    "gdp_le = pd.merge(gdp_df, life_expectancy, on = ['Country', 'Year'])"
   ]
  },
  {
   "cell_type": "code",
   "execution_count": 67,
   "id": "3ca7fb74",
   "metadata": {},
   "outputs": [
    {
     "data": {
      "text/html": [
       "<div>\n",
       "<style scoped>\n",
       "    .dataframe tbody tr th:only-of-type {\n",
       "        vertical-align: middle;\n",
       "    }\n",
       "\n",
       "    .dataframe tbody tr th {\n",
       "        vertical-align: top;\n",
       "    }\n",
       "\n",
       "    .dataframe thead th {\n",
       "        text-align: right;\n",
       "    }\n",
       "</style>\n",
       "<table border=\"1\" class=\"dataframe\">\n",
       "  <thead>\n",
       "    <tr style=\"text-align: right;\">\n",
       "      <th></th>\n",
       "      <th>Country</th>\n",
       "      <th>Year</th>\n",
       "      <th>GDP_Per_Capita</th>\n",
       "      <th>Continent</th>\n",
       "      <th>Life Expectancy</th>\n",
       "    </tr>\n",
       "  </thead>\n",
       "  <tbody>\n",
       "    <tr>\n",
       "      <th>0</th>\n",
       "      <td>Afghanistan</td>\n",
       "      <td>2019</td>\n",
       "      <td>2065.036398</td>\n",
       "      <td>Asia</td>\n",
       "      <td>64.833</td>\n",
       "    </tr>\n",
       "    <tr>\n",
       "      <th>1</th>\n",
       "      <td>Afghanistan</td>\n",
       "      <td>2018</td>\n",
       "      <td>2033.779002</td>\n",
       "      <td>Asia</td>\n",
       "      <td>64.486</td>\n",
       "    </tr>\n",
       "    <tr>\n",
       "      <th>2</th>\n",
       "      <td>Afghanistan</td>\n",
       "      <td>2017</td>\n",
       "      <td>2058.383832</td>\n",
       "      <td>Asia</td>\n",
       "      <td>64.130</td>\n",
       "    </tr>\n",
       "    <tr>\n",
       "      <th>3</th>\n",
       "      <td>Afghanistan</td>\n",
       "      <td>2016</td>\n",
       "      <td>2057.062164</td>\n",
       "      <td>Asia</td>\n",
       "      <td>63.763</td>\n",
       "    </tr>\n",
       "    <tr>\n",
       "      <th>4</th>\n",
       "      <td>Afghanistan</td>\n",
       "      <td>2015</td>\n",
       "      <td>2068.265904</td>\n",
       "      <td>Asia</td>\n",
       "      <td>63.377</td>\n",
       "    </tr>\n",
       "  </tbody>\n",
       "</table>\n",
       "</div>"
      ],
      "text/plain": [
       "       Country  Year  GDP_Per_Capita Continent  Life Expectancy\n",
       "0  Afghanistan  2019     2065.036398      Asia           64.833\n",
       "1  Afghanistan  2018     2033.779002      Asia           64.486\n",
       "2  Afghanistan  2017     2058.383832      Asia           64.130\n",
       "3  Afghanistan  2016     2057.062164      Asia           63.763\n",
       "4  Afghanistan  2015     2068.265904      Asia           63.377"
      ]
     },
     "execution_count": 67,
     "metadata": {},
     "output_type": "execute_result"
    }
   ],
   "source": [
    "gdp_le.head(5)"
   ]
  },
  {
   "cell_type": "code",
   "execution_count": 68,
   "id": "f2fbb1d1",
   "metadata": {
    "scrolled": true
   },
   "outputs": [
    {
     "data": {
      "text/html": [
       "<div>\n",
       "<style scoped>\n",
       "    .dataframe tbody tr th:only-of-type {\n",
       "        vertical-align: middle;\n",
       "    }\n",
       "\n",
       "    .dataframe tbody tr th {\n",
       "        vertical-align: top;\n",
       "    }\n",
       "\n",
       "    .dataframe thead th {\n",
       "        text-align: right;\n",
       "    }\n",
       "</style>\n",
       "<table border=\"1\" class=\"dataframe\">\n",
       "  <thead>\n",
       "    <tr style=\"text-align: right;\">\n",
       "      <th></th>\n",
       "      <th>Country</th>\n",
       "      <th>Year</th>\n",
       "      <th>GDP_Per_Capita</th>\n",
       "      <th>Continent</th>\n",
       "      <th>Life Expectancy</th>\n",
       "    </tr>\n",
       "  </thead>\n",
       "  <tbody>\n",
       "    <tr>\n",
       "      <th>4917</th>\n",
       "      <td>Zimbabwe</td>\n",
       "      <td>1994</td>\n",
       "      <td>3263.934978</td>\n",
       "      <td>Africa</td>\n",
       "      <td>52.044</td>\n",
       "    </tr>\n",
       "    <tr>\n",
       "      <th>4918</th>\n",
       "      <td>Zimbabwe</td>\n",
       "      <td>1993</td>\n",
       "      <td>3033.504852</td>\n",
       "      <td>Africa</td>\n",
       "      <td>53.653</td>\n",
       "    </tr>\n",
       "    <tr>\n",
       "      <th>4919</th>\n",
       "      <td>Zimbabwe</td>\n",
       "      <td>1992</td>\n",
       "      <td>3054.889178</td>\n",
       "      <td>Africa</td>\n",
       "      <td>55.243</td>\n",
       "    </tr>\n",
       "    <tr>\n",
       "      <th>4920</th>\n",
       "      <td>Zimbabwe</td>\n",
       "      <td>1991</td>\n",
       "      <td>3426.598094</td>\n",
       "      <td>Africa</td>\n",
       "      <td>56.749</td>\n",
       "    </tr>\n",
       "    <tr>\n",
       "      <th>4921</th>\n",
       "      <td>Zimbabwe</td>\n",
       "      <td>1990</td>\n",
       "      <td>3324.348171</td>\n",
       "      <td>Africa</td>\n",
       "      <td>58.100</td>\n",
       "    </tr>\n",
       "  </tbody>\n",
       "</table>\n",
       "</div>"
      ],
      "text/plain": [
       "       Country  Year  GDP_Per_Capita Continent  Life Expectancy\n",
       "4917  Zimbabwe  1994     3263.934978    Africa           52.044\n",
       "4918  Zimbabwe  1993     3033.504852    Africa           53.653\n",
       "4919  Zimbabwe  1992     3054.889178    Africa           55.243\n",
       "4920  Zimbabwe  1991     3426.598094    Africa           56.749\n",
       "4921  Zimbabwe  1990     3324.348171    Africa           58.100"
      ]
     },
     "execution_count": 68,
     "metadata": {},
     "output_type": "execute_result"
    }
   ],
   "source": [
    "gdp_le.tail()"
   ]
  },
  {
   "cell_type": "code",
   "execution_count": 69,
   "id": "18ff60e5",
   "metadata": {},
   "outputs": [
    {
     "data": {
      "text/plain": [
       "(4922, 5)"
      ]
     },
     "execution_count": 69,
     "metadata": {},
     "output_type": "execute_result"
    }
   ],
   "source": [
    "gdp_le.shape"
   ]
  },
  {
   "cell_type": "code",
   "execution_count": 70,
   "id": "16fd3850",
   "metadata": {},
   "outputs": [
    {
     "data": {
      "text/plain": [
       "False"
      ]
     },
     "execution_count": 70,
     "metadata": {},
     "output_type": "execute_result"
    }
   ],
   "source": [
    "gdp_le.isnull().values.any()"
   ]
  },
  {
   "cell_type": "code",
   "execution_count": 71,
   "id": "59bddf9d",
   "metadata": {},
   "outputs": [
    {
     "data": {
      "text/plain": [
       "0"
      ]
     },
     "execution_count": 71,
     "metadata": {},
     "output_type": "execute_result"
    }
   ],
   "source": [
    "gdp_le.isnull().sum().sum()"
   ]
  },
  {
   "cell_type": "code",
   "execution_count": 72,
   "id": "d6513499",
   "metadata": {},
   "outputs": [
    {
     "data": {
      "text/plain": [
       "Country             object\n",
       "Year                 int32\n",
       "GDP_Per_Capita     float64\n",
       "Continent           object\n",
       "Life Expectancy    float64\n",
       "dtype: object"
      ]
     },
     "execution_count": 72,
     "metadata": {},
     "output_type": "execute_result"
    }
   ],
   "source": [
    "gdp_le.dtypes"
   ]
  },
  {
   "cell_type": "markdown",
   "id": "50ebaf51",
   "metadata": {},
   "source": [
    "\n",
    "Q25. Create a new DataFrame, named gdp_le_2019 by extracting data for the year 2019 from gdp_le. How many countries have a life expectancy of at least 80 in 2019?\n"
   ]
  },
  {
   "cell_type": "code",
   "execution_count": 73,
   "id": "e23c361d",
   "metadata": {},
   "outputs": [],
   "source": [
    "gdp_le_2019 = gdp_le[gdp_le['Year'] == 2019]"
   ]
  },
  {
   "cell_type": "code",
   "execution_count": 74,
   "id": "12b5954c",
   "metadata": {},
   "outputs": [
    {
     "data": {
      "text/plain": [
       "33"
      ]
     },
     "execution_count": 74,
     "metadata": {},
     "output_type": "execute_result"
    }
   ],
   "source": [
    "gdp_le_2019[gdp_le_2019['Life Expectancy'] >= 80]['Country'].nunique()"
   ]
  },
  {
   "cell_type": "markdown",
   "id": "8a676e90",
   "metadata": {},
   "source": [
    "Q26. Find the countries that had the top 3 largest GDP per capita figures for 2019. Create a seaborn FacetGrid showing the change in life expectancy over time for these three countries. Each individual figure in the facet grid will represent a single country."
   ]
  },
  {
   "cell_type": "code",
   "execution_count": 75,
   "id": "e2879ff8",
   "metadata": {},
   "outputs": [
    {
     "data": {
      "text/html": [
       "<div>\n",
       "<style scoped>\n",
       "    .dataframe tbody tr th:only-of-type {\n",
       "        vertical-align: middle;\n",
       "    }\n",
       "\n",
       "    .dataframe tbody tr th {\n",
       "        vertical-align: top;\n",
       "    }\n",
       "\n",
       "    .dataframe thead th {\n",
       "        text-align: right;\n",
       "    }\n",
       "</style>\n",
       "<table border=\"1\" class=\"dataframe\">\n",
       "  <thead>\n",
       "    <tr style=\"text-align: right;\">\n",
       "      <th></th>\n",
       "      <th>index</th>\n",
       "      <th>Country</th>\n",
       "      <th>Year</th>\n",
       "      <th>GDP_Per_Capita</th>\n",
       "      <th>Continent</th>\n",
       "      <th>Life Expectancy</th>\n",
       "    </tr>\n",
       "  </thead>\n",
       "  <tbody>\n",
       "    <tr>\n",
       "      <th>0</th>\n",
       "      <td>753</td>\n",
       "      <td>Burundi</td>\n",
       "      <td>2019</td>\n",
       "      <td>751.663957</td>\n",
       "      <td>Africa</td>\n",
       "      <td>61.584</td>\n",
       "    </tr>\n",
       "    <tr>\n",
       "      <th>1</th>\n",
       "      <td>901</td>\n",
       "      <td>Central African Republic</td>\n",
       "      <td>2019</td>\n",
       "      <td>944.868093</td>\n",
       "      <td>Africa</td>\n",
       "      <td>53.283</td>\n",
       "    </tr>\n",
       "    <tr>\n",
       "      <th>2</th>\n",
       "      <td>2688</td>\n",
       "      <td>Malawi</td>\n",
       "      <td>2019</td>\n",
       "      <td>1059.723490</td>\n",
       "      <td>Africa</td>\n",
       "      <td>64.263</td>\n",
       "    </tr>\n",
       "  </tbody>\n",
       "</table>\n",
       "</div>"
      ],
      "text/plain": [
       "   index                   Country  Year  GDP_Per_Capita Continent  \\\n",
       "0    753                   Burundi  2019      751.663957    Africa   \n",
       "1    901  Central African Republic  2019      944.868093    Africa   \n",
       "2   2688                    Malawi  2019     1059.723490    Africa   \n",
       "\n",
       "   Life Expectancy  \n",
       "0           61.584  \n",
       "1           53.283  \n",
       "2           64.263  "
      ]
     },
     "execution_count": 75,
     "metadata": {},
     "output_type": "execute_result"
    }
   ],
   "source": [
    "#Countries with top 3 GDP per Capita\n",
    "\n",
    "top3 = gdp_le_2019.sort_values('GDP_Per_Capita').reset_index()[0:3]\n",
    "top3"
   ]
  },
  {
   "cell_type": "code",
   "execution_count": 76,
   "id": "515783ff",
   "metadata": {},
   "outputs": [
    {
     "data": {
      "text/plain": [
       "array(['Burundi', 'Central African Republic', 'Malawi'], dtype=object)"
      ]
     },
     "execution_count": 76,
     "metadata": {},
     "output_type": "execute_result"
    }
   ],
   "source": [
    "#Subset top3 countries\n",
    "top3ss = gdp_le[gdp_le['Country'].isin(top3['Country'])]\n",
    "top3ss.Country.unique()"
   ]
  },
  {
   "cell_type": "code",
   "execution_count": 77,
   "id": "5c490137",
   "metadata": {},
   "outputs": [
    {
     "data": {
      "image/png": "[encoded data removed]",
      "text/plain": [
       "<Figure size 648x216 with 3 Axes>"
      ]
     },
     "metadata": {
      "needs_background": "light"
     },
     "output_type": "display_data"
    }
   ],
   "source": [
    "#Create FacetGrid\n",
    "g = sns.FacetGrid(top3ss, col = 'Country')\n",
    "g.map(sns.lineplot, 'Year', 'Life Expectancy');"
   ]
  },
  {
   "cell_type": "markdown",
   "id": "933a3ef1",
   "metadata": {},
   "source": [
    "Q27. Create a scatter plot of Life Expectancy vs GDP per Capita for the year 2019. What do you notice?"
   ]
  },
  {
   "cell_type": "code",
   "execution_count": 78,
   "id": "b7cc61af",
   "metadata": {},
   "outputs": [
    {
     "data": {
      "image/png": "[encoded data removed]",
      "text/plain": [
       "<Figure size 432x288 with 1 Axes>"
      ]
     },
     "metadata": {
      "needs_background": "light"
     },
     "output_type": "display_data"
    }
   ],
   "source": [
    "sns.scatterplot(data = gdp_le_2019, x = 'GDP_Per_Capita', y = 'Life Expectancy');"
   ]
  },
  {
   "cell_type": "markdown",
   "id": "aaa5f041",
   "metadata": {},
   "source": [
    "Q28. Find the correlation between Life Expectancy and GDP per Capita for the year 2019. What is the meaning of this number?"
   ]
  },
  {
   "cell_type": "code",
   "execution_count": 79,
   "id": "00c8e0e2",
   "metadata": {},
   "outputs": [
    {
     "data": {
      "text/plain": [
       "0.7090182746006474"
      ]
     },
     "execution_count": 79,
     "metadata": {},
     "output_type": "execute_result"
    }
   ],
   "source": [
    "gdp_le_2019['Life Expectancy'].corr(gdp_le_2019['GDP_Per_Capita'])"
   ]
  },
  {
   "cell_type": "markdown",
   "id": "ea6c0236",
   "metadata": {},
   "source": [
    "The correlation coefficient indicates a strong positive linear relationship between GDP Per Capita and Life Expectancy. "
   ]
  },
  {
   "cell_type": "markdown",
   "id": "5e3c149d",
   "metadata": {},
   "source": [
    "\n",
    "Q29. Add a column to gdp_le_2019 and calculate the logarithm of GDP per capita. Find the correlation between the log of GDP per capita and life expectancy. How does this compare to the calculation in the previous part? Look at a scatter plot to see if the result of this calculation makes sense.\n"
   ]
  },
  {
   "cell_type": "code",
   "execution_count": 80,
   "id": "18e1fd99",
   "metadata": {},
   "outputs": [
    {
     "name": "stderr",
     "output_type": "stream",
     "text": [
      "<ipython-input-80-5affa406bfd4>:1: SettingWithCopyWarning: \n",
      "A value is trying to be set on a copy of a slice from a DataFrame.\n",
      "Try using .loc[row_indexer,col_indexer] = value instead\n",
      "\n",
      "See the caveats in the documentation: https://pandas.pydata.org/pandas-docs/stable/user_guide/indexing.html#returning-a-view-versus-a-copy\n",
      "  gdp_le_2019['logGDP'] = np.log10(gdp_le_2019['GDP_Per_Capita'])\n"
     ]
    }
   ],
   "source": [
    "gdp_le_2019['logGDP'] = np.log10(gdp_le_2019['GDP_Per_Capita'])"
   ]
  },
  {
   "cell_type": "code",
   "execution_count": 81,
   "id": "031b9ad5",
   "metadata": {
    "scrolled": true
   },
   "outputs": [
    {
     "data": {
      "text/html": [
       "<div>\n",
       "<style scoped>\n",
       "    .dataframe tbody tr th:only-of-type {\n",
       "        vertical-align: middle;\n",
       "    }\n",
       "\n",
       "    .dataframe tbody tr th {\n",
       "        vertical-align: top;\n",
       "    }\n",
       "\n",
       "    .dataframe thead th {\n",
       "        text-align: right;\n",
       "    }\n",
       "</style>\n",
       "<table border=\"1\" class=\"dataframe\">\n",
       "  <thead>\n",
       "    <tr style=\"text-align: right;\">\n",
       "      <th></th>\n",
       "      <th>Country</th>\n",
       "      <th>Year</th>\n",
       "      <th>GDP_Per_Capita</th>\n",
       "      <th>Continent</th>\n",
       "      <th>Life Expectancy</th>\n",
       "      <th>logGDP</th>\n",
       "    </tr>\n",
       "  </thead>\n",
       "  <tbody>\n",
       "    <tr>\n",
       "      <th>0</th>\n",
       "      <td>Afghanistan</td>\n",
       "      <td>2019</td>\n",
       "      <td>2065.036398</td>\n",
       "      <td>Asia</td>\n",
       "      <td>64.833</td>\n",
       "      <td>3.314928</td>\n",
       "    </tr>\n",
       "    <tr>\n",
       "      <th>18</th>\n",
       "      <td>Albania</td>\n",
       "      <td>2019</td>\n",
       "      <td>13724.058790</td>\n",
       "      <td>Europe</td>\n",
       "      <td>78.573</td>\n",
       "      <td>4.137483</td>\n",
       "    </tr>\n",
       "  </tbody>\n",
       "</table>\n",
       "</div>"
      ],
      "text/plain": [
       "        Country  Year  GDP_Per_Capita Continent  Life Expectancy    logGDP\n",
       "0   Afghanistan  2019     2065.036398      Asia           64.833  3.314928\n",
       "18      Albania  2019    13724.058790    Europe           78.573  4.137483"
      ]
     },
     "execution_count": 81,
     "metadata": {},
     "output_type": "execute_result"
    }
   ],
   "source": [
    "gdp_le_2019.head(2)"
   ]
  },
  {
   "cell_type": "code",
   "execution_count": 82,
   "id": "e8087842",
   "metadata": {},
   "outputs": [
    {
     "data": {
      "text/plain": [
       "0.848497584800642"
      ]
     },
     "execution_count": 82,
     "metadata": {},
     "output_type": "execute_result"
    }
   ],
   "source": [
    "gdp_le_2019['Life Expectancy'].corr(gdp_le_2019['logGDP'])"
   ]
  },
  {
   "cell_type": "code",
   "execution_count": 83,
   "id": "88a5fd4e",
   "metadata": {},
   "outputs": [
    {
     "data": {
      "image/png": "[encoded data removed]",
      "text/plain": [
       "<Figure size 432x288 with 1 Axes>"
      ]
     },
     "metadata": {
      "needs_background": "light"
     },
     "output_type": "display_data"
    }
   ],
   "source": [
    "sns.scatterplot(data = gdp_le_2019, x = 'logGDP', y = 'Life Expectancy');"
   ]
  },
  {
   "cell_type": "markdown",
   "id": "59a8b0e2",
   "metadata": {},
   "source": [
    "The correlation is stronger for the relationship between log GDP_Per_Capita and Life Expectancy. The scatterplot also shows a better positive linear relationship between the two variables. "
   ]
  }
 ],
 "metadata": {
  "kernelspec": {
   "display_name": "Python 3",
   "language": "python",
   "name": "python3"
  },
  "language_info": {
   "codemirror_mode": {
    "name": "ipython",
    "version": 3
   },
   "file_extension": ".py",
   "mimetype": "text/x-python",
   "name": "python",
   "nbconvert_exporter": "python",
   "pygments_lexer": "ipython3",
   "version": "3.8.8"
  }
 },
 "nbformat": 4,
 "nbformat_minor": 5
}
